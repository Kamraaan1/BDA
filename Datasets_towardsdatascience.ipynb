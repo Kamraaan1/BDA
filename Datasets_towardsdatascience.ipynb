{
  "nbformat": 4,
  "nbformat_minor": 0,
  "metadata": {
    "colab": {
      "name": "Datasets_towardsdatascience.ipynb",
      "provenance": [],
      "authorship_tag": "ABX9TyOUHIxBYxkDSd9fJEG335zA",
      "include_colab_link": true
    },
    "kernelspec": {
      "name": "python3",
      "display_name": "Python 3"
    },
    "language_info": {
      "name": "python"
    }
  },
  "cells": [
    {
      "cell_type": "markdown",
      "metadata": {
        "id": "view-in-github",
        "colab_type": "text"
      },
      "source": [
        "<a href=\"https://colab.research.google.com/github/Kamraaan1/BDA/blob/main/Datasets_towardsdatascience.ipynb\" target=\"_parent\"><img src=\"https://colab.research.google.com/assets/colab-badge.svg\" alt=\"Open In Colab\"/></a>"
      ]
    },
    {
      "cell_type": "code",
      "execution_count": 18,
      "metadata": {
        "id": "1Ivw9DTVSsPw"
      },
      "outputs": [],
      "source": [
        "from sklearn.datasets import load_diabetes\n",
        "from sklearn.model_selection import train_test_split\n",
        "import seaborn as sns\n",
        "import pandas as pd\n",
        "import numpy as np\n",
        "\n",
        "dataset = load_diabetes (as_frame = True)\n",
        "\n",
        "X,y = dataset['data'],dataset['target']\n",
        "X_train, X_test, y_train, y_test = train_test_split(X, y, test_size=0.33, random_state=0)"
      ]
    },
    {
      "cell_type": "code",
      "source": [
        "feature_name = 'bp'\n",
        "\n",
        "df = pd.DataFrame({\n",
        "    feature_name:np.concatenate((X_train.loc[:,feature_name], X_test.loc[:,feature_name])), \n",
        "    'set':['training']*X_train.shape[0] + ['test']*X_test.shape[0]\n",
        "})\n",
        "\n",
        "sns.ecdfplot(data = df, x = feature_name, hue='set')"
      ],
      "metadata": {
        "colab": {
          "base_uri": "https://localhost:8080/",
          "height": 300
        },
        "id": "lVqevrkHbKUk",
        "outputId": "4858eb0c-3366-4650-fa11-aa7c10ed7489"
      },
      "execution_count": 19,
      "outputs": [
        {
          "output_type": "execute_result",
          "data": {
            "text/plain": [
              "<matplotlib.axes._subplots.AxesSubplot at 0x7f0b207b97d0>"
            ]
          },
          "metadata": {},
          "execution_count": 19
        },
        {
          "output_type": "display_data",
          "data": {
            "text/plain": [
              "<Figure size 432x288 with 1 Axes>"
            ],
            "image/png": "[encoded data removed]"
          },
          "metadata": {
            "needs_background": "light"
          }
        }
      ]
    },
    {
      "cell_type": "code",
      "source": [
        "from scipy.stats import ks_2samp\n",
        "import numpy as np\n",
        "\n",
        "ks_2samp (X_train.loc[:,feature_name], X_test.loc[:,feature_name]).statistic"
      ],
      "metadata": {
        "colab": {
          "base_uri": "https://localhost:8080/"
        },
        "id": "B8ZEVGy9cvXJ",
        "outputId": "88b71adf-cb6a-4e3e-f253-468ec8e5da58"
      },
      "execution_count": 26,
      "outputs": [
        {
          "output_type": "execute_result",
          "data": {
            "text/plain": [
              "0.11972417623102555"
            ]
          },
          "metadata": {},
          "execution_count": 26
        }
      ]
    },
    {
      "cell_type": "code",
      "source": [
        "distances = list(map(lambda i : \n",
        "                     ks_2samp (X_train.iloc[:,i], X_test.iloc[:,i]).statistic, range(X_train.shape[1])))\n",
        "\n",
        "for i in range (X_train.shape[1]):\n",
        "  print(X_train.columns[i], distances[i])"
      ],
      "metadata": {
        "colab": {
          "base_uri": "https://localhost:8080/"
        },
        "id": "ZmoltFzpouJM",
        "outputId": "6bb85129-c925-4ea6-c61d-6bc16e117ad4"
      },
      "execution_count": 28,
      "outputs": [
        {
          "output_type": "stream",
          "name": "stdout",
          "text": [
            "age 0.05715475749722325\n",
            "sex 0.054979637171417996\n",
            "bmi 0.08015549796371714\n",
            "bp 0.11972417623102555\n",
            "s1 0.07284339133654202\n",
            "s2 0.08908737504627916\n",
            "s3 0.07936875231395779\n",
            "s4 0.06613291373565346\n",
            "s5 0.05858941132913736\n",
            "s6 0.09667715660866345\n"
          ]
        }
      ]
    },
    {
      "cell_type": "code",
      "source": [
        "X_train.info()"
      ],
      "metadata": {
        "colab": {
          "base_uri": "https://localhost:8080/"
        },
        "id": "fsAa28CEpsO_",
        "outputId": "8ba70afd-56f1-4035-ba9e-a0447b17b16e"
      },
      "execution_count": 30,
      "outputs": [
        {
          "output_type": "stream",
          "name": "stdout",
          "text": [
            "<class 'pandas.core.frame.DataFrame'>\n",
            "Int64Index: 296 entries, 93 to 172\n",
            "Data columns (total 10 columns):\n",
            " #   Column  Non-Null Count  Dtype  \n",
            "---  ------  --------------  -----  \n",
            " 0   age     296 non-null    float64\n",
            " 1   sex     296 non-null    float64\n",
            " 2   bmi     296 non-null    float64\n",
            " 3   bp      296 non-null    float64\n",
            " 4   s1      296 non-null    float64\n",
            " 5   s2      296 non-null    float64\n",
            " 6   s3      296 non-null    float64\n",
            " 7   s4      296 non-null    float64\n",
            " 8   s5      296 non-null    float64\n",
            " 9   s6      296 non-null    float64\n",
            "dtypes: float64(10)\n",
            "memory usage: 25.4 KB\n"
          ]
        }
      ]
    },
    {
      "cell_type": "code",
      "source": [
        "from sklearn.linear_model import LinearRegression\n",
        "\n",
        "lr = LinearRegression()\n",
        "lr.fit(X_train, y_train)\n",
        "r2_score (y_test, lr.predict(X_test))\n"
      ],
      "metadata": {
        "colab": {
          "base_uri": "https://localhost:8080/",
          "height": 218
        },
        "id": "kO1-ITHxqoAI",
        "outputId": "a44a4905-fc99-4e2d-cff9-7a024e34958a"
      },
      "execution_count": 1,
      "outputs": [
        {
          "output_type": "error",
          "ename": "NameError",
          "evalue": "ignored",
          "traceback": [
            "\u001b[0;31m---------------------------------------------------------------------------\u001b[0m",
            "\u001b[0;31mNameError\u001b[0m                                 Traceback (most recent call last)",
            "\u001b[0;32m<ipython-input-1-2f92db411954>\u001b[0m in \u001b[0;36m<module>\u001b[0;34m()\u001b[0m\n\u001b[1;32m      2\u001b[0m \u001b[0;34m\u001b[0m\u001b[0m\n\u001b[1;32m      3\u001b[0m \u001b[0mlr\u001b[0m \u001b[0;34m=\u001b[0m \u001b[0mLinearRegression\u001b[0m\u001b[0;34m(\u001b[0m\u001b[0;34m)\u001b[0m\u001b[0;34m\u001b[0m\u001b[0;34m\u001b[0m\u001b[0m\n\u001b[0;32m----> 4\u001b[0;31m \u001b[0mlr\u001b[0m\u001b[0;34m.\u001b[0m\u001b[0mfit\u001b[0m\u001b[0;34m(\u001b[0m\u001b[0mX_train\u001b[0m\u001b[0;34m,\u001b[0m \u001b[0my_train\u001b[0m\u001b[0;34m)\u001b[0m\u001b[0;34m\u001b[0m\u001b[0;34m\u001b[0m\u001b[0m\n\u001b[0m\u001b[1;32m      5\u001b[0m \u001b[0mr2_score\u001b[0m \u001b[0;34m(\u001b[0m\u001b[0my_test\u001b[0m\u001b[0;34m,\u001b[0m \u001b[0mlr\u001b[0m\u001b[0;34m.\u001b[0m\u001b[0mpredict\u001b[0m\u001b[0;34m(\u001b[0m\u001b[0mX_test\u001b[0m\u001b[0;34m)\u001b[0m\u001b[0;34m)\u001b[0m\u001b[0;34m\u001b[0m\u001b[0;34m\u001b[0m\u001b[0m\n",
            "\u001b[0;31mNameError\u001b[0m: name 'X_train' is not defined"
          ]
        }
      ]
    }
  ]
}