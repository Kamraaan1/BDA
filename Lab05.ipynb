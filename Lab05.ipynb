{
  "cells": [
    {
      "cell_type": "markdown",
      "metadata": {
        "id": "view-in-github",
        "colab_type": "text"
      },
      "source": [
        "<a href=\"https://colab.research.google.com/github/Kamraaan1/BDA/blob/main/Lab05.ipynb\" target=\"_parent\"><img src=\"https://colab.research.google.com/assets/colab-badge.svg\" alt=\"Open In Colab\"/></a>"
      ]
    },
    {
      "cell_type": "markdown",
      "metadata": {
        "id": "8z9ndC6OJ-lt"
      },
      "source": [
        "<div class=\"alert alert-block alert-info\"><b></b>\n",
        "<h1><center> <font color='black'>  Business Data Analytics - Practice Session_05  </font></center></h1>\n",
        "<h2><center> <font color='black'> Regression part 02</font></center></h3>\n",
        "<h2><center> <font color='black'> University of Tartu</font></center></h3>\n",
        "</div>"
      ]
    },
    {
      "cell_type": "markdown",
      "metadata": {
        "id": "WQQMROJzRvQ1"
      },
      "source": [
        "# Today's session agenda:\n",
        "1. **Recap from previous lab session**\n",
        "2. **Cross-Validation and parameter tunning with Linear Regression and evaluation metrics**\n",
        "3. **L1, L2, and Isotonic regression**\n"
      ]
    },
    {
      "cell_type": "markdown",
      "metadata": {
        "id": "8A2ZIOpayfD6"
      },
      "source": [
        "##1. Recap from previous lab session: What are we actually doing?\n",
        "\n",
        "Source: https://towardsdatascience.com/introduction-to-regression-analysis-9151d8ac14b3\n",
        "\n",
        "Machine learning tasks can be gathered into the four following categories:"
      ]
    },
    {
      "cell_type": "markdown",
      "metadata": {
        "id": "uiH4u2VIzsvi"
      },
      "source": [
        "![picture](https://miro.medium.com/max/700/1*vJsXYNlr_GyFc2qrpZGsvA.png)"
      ]
    },
    {
      "cell_type": "markdown",
      "metadata": {
        "id": "xc8tlDy0dPfg"
      },
      "source": [
        "**1.1 Regression:**\n",
        "\n",
        "* Simple Linear Regression:\n",
        "\n",
        "![](https://www.askpython.com/wp-content/uploads/2020/09/image-40.png.webp)\n",
        "\n",
        "* Multiple Linear Regression:\n",
        "![](https://www.askpython.com/wp-content/uploads/2020/09/image-39.png.webp)\n",
        "\n",
        "* Polynomial regression\n",
        "![picture](https://www.askpython.com/wp-content/uploads/2020/09/image-43.png.webp)\n"
      ]
    },
    {
      "cell_type": "markdown",
      "metadata": {
        "id": "nStOteSj67QU"
      },
      "source": [
        "##1.2 Ok, so what are the steps?"
      ]
    },
    {
      "cell_type": "markdown",
      "metadata": {
        "id": "iQu_qdgu7l1D"
      },
      "source": [
        "<img src=\"https://i.ibb.co/6Zzq2dC/Regression-steps.png\">"
      ]
    },
    {
      "cell_type": "markdown",
      "metadata": {
        "id": "P1b2lMihAHOo"
      },
      "source": [
        "**step 1: Import required packages and libs**"
      ]
    },
    {
      "cell_type": "code",
      "execution_count": null,
      "metadata": {
        "id": "W8sGseRYCJiD"
      },
      "outputs": [],
      "source": [
        "# import all libraries\n",
        "import numpy as np\n",
        "import pandas as pd\n",
        "import matplotlib.pyplot as plt \n",
        "import seaborn as sns\n",
        "import re\n",
        "\n",
        "import sklearn\n",
        "from sklearn.model_selection import train_test_split\n",
        "\n",
        "from sklearn.preprocessing import MinMaxScaler # preprocessing\n",
        "from sklearn.preprocessing import PolynomialFeatures # preprocessing\n",
        "from sklearn.preprocessing import scale # preprocessing\n",
        "from sklearn.feature_selection import RFE # preprocessing\n",
        "\n",
        "from sklearn.linear_model import LinearRegression # ML alg\n",
        "\n",
        "# cross validation \n",
        "from sklearn.model_selection import cross_val_score \n",
        "from sklearn.model_selection import KFold\n",
        "from sklearn.model_selection import GridSearchCV\n",
        "\n",
        "# import warnings # supress warnings\n",
        "# warnings.filterwarnings('ignore')"
      ]
    },
    {
      "cell_type": "markdown",
      "metadata": {
        "id": "_CF1ndraUHz1"
      },
      "source": [
        "**Step 2: load and prepare data**"
      ]
    },
    {
      "cell_type": "code",
      "execution_count": null,
      "metadata": {
        "colab": {
          "base_uri": "https://localhost:8080/",
          "height": 250
        },
        "id": "vTBA77STCKYz",
        "outputId": "64c1e639-a565-449a-fa2d-246f56ad7612"
      },
      "outputs": [
        {
          "output_type": "execute_result",
          "data": {
            "text/html": [
              "\n",
              "  <div id=\"df-b396c991-7d8a-4695-b241-8f5062a3aa63\">\n",
              "    <div class=\"colab-df-container\">\n",
              "      <div>\n",
              "<style scoped>\n",
              "    .dataframe tbody tr th:only-of-type {\n",
              "        vertical-align: middle;\n",
              "    }\n",
              "\n",
              "    .dataframe tbody tr th {\n",
              "        vertical-align: top;\n",
              "    }\n",
              "\n",
              "    .dataframe thead th {\n",
              "        text-align: right;\n",
              "    }\n",
              "</style>\n",
              "<table border=\"1\" class=\"dataframe\">\n",
              "  <thead>\n",
              "    <tr style=\"text-align: right;\">\n",
              "      <th></th>\n",
              "      <th>price</th>\n",
              "      <th>area</th>\n",
              "      <th>bedrooms</th>\n",
              "      <th>bathrooms</th>\n",
              "      <th>stories</th>\n",
              "      <th>mainroad</th>\n",
              "      <th>guestroom</th>\n",
              "      <th>basement</th>\n",
              "      <th>hotwaterheating</th>\n",
              "      <th>airconditioning</th>\n",
              "      <th>parking</th>\n",
              "      <th>prefarea</th>\n",
              "      <th>furnishingstatus</th>\n",
              "    </tr>\n",
              "  </thead>\n",
              "  <tbody>\n",
              "    <tr>\n",
              "      <th>0</th>\n",
              "      <td>13300000</td>\n",
              "      <td>7420</td>\n",
              "      <td>4</td>\n",
              "      <td>2</td>\n",
              "      <td>3</td>\n",
              "      <td>yes</td>\n",
              "      <td>no</td>\n",
              "      <td>no</td>\n",
              "      <td>no</td>\n",
              "      <td>yes</td>\n",
              "      <td>2</td>\n",
              "      <td>yes</td>\n",
              "      <td>furnished</td>\n",
              "    </tr>\n",
              "    <tr>\n",
              "      <th>1</th>\n",
              "      <td>12250000</td>\n",
              "      <td>8960</td>\n",
              "      <td>4</td>\n",
              "      <td>4</td>\n",
              "      <td>4</td>\n",
              "      <td>yes</td>\n",
              "      <td>no</td>\n",
              "      <td>no</td>\n",
              "      <td>no</td>\n",
              "      <td>yes</td>\n",
              "      <td>3</td>\n",
              "      <td>no</td>\n",
              "      <td>furnished</td>\n",
              "    </tr>\n",
              "    <tr>\n",
              "      <th>2</th>\n",
              "      <td>12250000</td>\n",
              "      <td>9960</td>\n",
              "      <td>3</td>\n",
              "      <td>2</td>\n",
              "      <td>2</td>\n",
              "      <td>yes</td>\n",
              "      <td>no</td>\n",
              "      <td>yes</td>\n",
              "      <td>no</td>\n",
              "      <td>no</td>\n",
              "      <td>2</td>\n",
              "      <td>yes</td>\n",
              "      <td>semi-furnished</td>\n",
              "    </tr>\n",
              "    <tr>\n",
              "      <th>3</th>\n",
              "      <td>12215000</td>\n",
              "      <td>7500</td>\n",
              "      <td>4</td>\n",
              "      <td>2</td>\n",
              "      <td>2</td>\n",
              "      <td>yes</td>\n",
              "      <td>no</td>\n",
              "      <td>yes</td>\n",
              "      <td>no</td>\n",
              "      <td>yes</td>\n",
              "      <td>3</td>\n",
              "      <td>yes</td>\n",
              "      <td>furnished</td>\n",
              "    </tr>\n",
              "    <tr>\n",
              "      <th>4</th>\n",
              "      <td>11410000</td>\n",
              "      <td>7420</td>\n",
              "      <td>4</td>\n",
              "      <td>1</td>\n",
              "      <td>2</td>\n",
              "      <td>yes</td>\n",
              "      <td>yes</td>\n",
              "      <td>yes</td>\n",
              "      <td>no</td>\n",
              "      <td>yes</td>\n",
              "      <td>2</td>\n",
              "      <td>no</td>\n",
              "      <td>furnished</td>\n",
              "    </tr>\n",
              "  </tbody>\n",
              "</table>\n",
              "</div>\n",
              "      <button class=\"colab-df-convert\" onclick=\"convertToInteractive('df-b396c991-7d8a-4695-b241-8f5062a3aa63')\"\n",
              "              title=\"Convert this dataframe to an interactive table.\"\n",
              "              style=\"display:none;\">\n",
              "        \n",
              "  <svg xmlns=\"http://www.w3.org/2000/svg\" height=\"24px\"viewBox=\"0 0 24 24\"\n",
              "       width=\"24px\">\n",
              "    <path d=\"M0 0h24v24H0V0z\" fill=\"none\"/>\n",
              "    <path d=\"M18.56 5.44l.94 2.06.94-2.06 2.06-.94-2.06-.94-.94-2.06-.94 2.06-2.06.94zm-11 1L8.5 8.5l.94-2.06 2.06-.94-2.06-.94L8.5 2.5l-.94 2.06-2.06.94zm10 10l.94 2.06.94-2.06 2.06-.94-2.06-.94-.94-2.06-.94 2.06-2.06.94z\"/><path d=\"M17.41 7.96l-1.37-1.37c-.4-.4-.92-.59-1.43-.59-.52 0-1.04.2-1.43.59L10.3 9.45l-7.72 7.72c-.78.78-.78 2.05 0 2.83L4 21.41c.39.39.9.59 1.41.59.51 0 1.02-.2 1.41-.59l7.78-7.78 2.81-2.81c.8-.78.8-2.07 0-2.86zM5.41 20L4 18.59l7.72-7.72 1.47 1.35L5.41 20z\"/>\n",
              "  </svg>\n",
              "      </button>\n",
              "      \n",
              "  <style>\n",
              "    .colab-df-container {\n",
              "      display:flex;\n",
              "      flex-wrap:wrap;\n",
              "      gap: 12px;\n",
              "    }\n",
              "\n",
              "    .colab-df-convert {\n",
              "      background-color: #E8F0FE;\n",
              "      border: none;\n",
              "      border-radius: 50%;\n",
              "      cursor: pointer;\n",
              "      display: none;\n",
              "      fill: #1967D2;\n",
              "      height: 32px;\n",
              "      padding: 0 0 0 0;\n",
              "      width: 32px;\n",
              "    }\n",
              "\n",
              "    .colab-df-convert:hover {\n",
              "      background-color: #E2EBFA;\n",
              "      box-shadow: 0px 1px 2px rgba(60, 64, 67, 0.3), 0px 1px 3px 1px rgba(60, 64, 67, 0.15);\n",
              "      fill: #174EA6;\n",
              "    }\n",
              "\n",
              "    [theme=dark] .colab-df-convert {\n",
              "      background-color: #3B4455;\n",
              "      fill: #D2E3FC;\n",
              "    }\n",
              "\n",
              "    [theme=dark] .colab-df-convert:hover {\n",
              "      background-color: #434B5C;\n",
              "      box-shadow: 0px 1px 3px 1px rgba(0, 0, 0, 0.15);\n",
              "      filter: drop-shadow(0px 1px 2px rgba(0, 0, 0, 0.3));\n",
              "      fill: #FFFFFF;\n",
              "    }\n",
              "  </style>\n",
              "\n",
              "      <script>\n",
              "        const buttonEl =\n",
              "          document.querySelector('#df-b396c991-7d8a-4695-b241-8f5062a3aa63 button.colab-df-convert');\n",
              "        buttonEl.style.display =\n",
              "          google.colab.kernel.accessAllowed ? 'block' : 'none';\n",
              "\n",
              "        async function convertToInteractive(key) {\n",
              "          const element = document.querySelector('#df-b396c991-7d8a-4695-b241-8f5062a3aa63');\n",
              "          const dataTable =\n",
              "            await google.colab.kernel.invokeFunction('convertToInteractive',\n",
              "                                                     [key], {});\n",
              "          if (!dataTable) return;\n",
              "\n",
              "          const docLinkHtml = 'Like what you see? Visit the ' +\n",
              "            '<a target=\"_blank\" href=https://colab.research.google.com/notebooks/data_table.ipynb>data table notebook</a>'\n",
              "            + ' to learn more about interactive tables.';\n",
              "          element.innerHTML = '';\n",
              "          dataTable['output_type'] = 'display_data';\n",
              "          await google.colab.output.renderOutput(dataTable, element);\n",
              "          const docLink = document.createElement('div');\n",
              "          docLink.innerHTML = docLinkHtml;\n",
              "          element.appendChild(docLink);\n",
              "        }\n",
              "      </script>\n",
              "    </div>\n",
              "  </div>\n",
              "  "
            ],
            "text/plain": [
              "      price  area  bedrooms  bathrooms  stories mainroad guestroom basement  \\\n",
              "0  13300000  7420         4          2        3      yes        no       no   \n",
              "1  12250000  8960         4          4        4      yes        no       no   \n",
              "2  12250000  9960         3          2        2      yes        no      yes   \n",
              "3  12215000  7500         4          2        2      yes        no      yes   \n",
              "4  11410000  7420         4          1        2      yes       yes      yes   \n",
              "\n",
              "  hotwaterheating airconditioning  parking prefarea furnishingstatus  \n",
              "0              no             yes        2      yes        furnished  \n",
              "1              no             yes        3       no        furnished  \n",
              "2              no              no        2      yes   semi-furnished  \n",
              "3              no             yes        3      yes        furnished  \n",
              "4              no             yes        2       no        furnished  "
            ]
          },
          "metadata": {},
          "execution_count": 2
        }
      ],
      "source": [
        "# import Housing.csv\n",
        "housing = pd.read_csv('Housing.csv')\n",
        "housing.head()"
      ]
    },
    {
      "cell_type": "code",
      "execution_count": null,
      "metadata": {
        "colab": {
          "base_uri": "https://localhost:8080/"
        },
        "id": "Ka6xZz52JS2j",
        "outputId": "0ef455ff-dd2d-4f47-fc7b-39ea339416e0"
      },
      "outputs": [
        {
          "output_type": "stream",
          "name": "stdout",
          "text": [
            "<class 'pandas.core.frame.DataFrame'>\n",
            "RangeIndex: 545 entries, 0 to 544\n",
            "Data columns (total 13 columns):\n",
            " #   Column            Non-Null Count  Dtype \n",
            "---  ------            --------------  ----- \n",
            " 0   price             545 non-null    int64 \n",
            " 1   area              545 non-null    int64 \n",
            " 2   bedrooms          545 non-null    int64 \n",
            " 3   bathrooms         545 non-null    int64 \n",
            " 4   stories           545 non-null    int64 \n",
            " 5   mainroad          545 non-null    object\n",
            " 6   guestroom         545 non-null    object\n",
            " 7   basement          545 non-null    object\n",
            " 8   hotwaterheating   545 non-null    object\n",
            " 9   airconditioning   545 non-null    object\n",
            " 10  parking           545 non-null    int64 \n",
            " 11  prefarea          545 non-null    object\n",
            " 12  furnishingstatus  545 non-null    object\n",
            "dtypes: int64(6), object(7)\n",
            "memory usage: 55.5+ KB\n"
          ]
        },
        {
          "output_type": "execute_result",
          "data": {
            "text/plain": [
              "price               0\n",
              "area                0\n",
              "bedrooms            0\n",
              "bathrooms           0\n",
              "stories             0\n",
              "mainroad            0\n",
              "guestroom           0\n",
              "basement            0\n",
              "hotwaterheating     0\n",
              "airconditioning     0\n",
              "parking             0\n",
              "prefarea            0\n",
              "furnishingstatus    0\n",
              "dtype: int64"
            ]
          },
          "metadata": {},
          "execution_count": 3
        }
      ],
      "source": [
        "# info about the data\n",
        "housing.info()\n",
        "\n",
        "# check missing values\n",
        "housing.isnull().sum()"
      ]
    },
    {
      "cell_type": "code",
      "execution_count": null,
      "metadata": {
        "colab": {
          "base_uri": "https://localhost:8080/",
          "height": 250
        },
        "id": "0wF8Cv15Ueu6",
        "outputId": "ba447a44-64ab-4a1d-ef34-b736d0737b0d"
      },
      "outputs": [
        {
          "output_type": "execute_result",
          "data": {
            "text/html": [
              "\n",
              "  <div id=\"df-c63b7aea-be9b-44c8-b52a-25f2bf0bf801\">\n",
              "    <div class=\"colab-df-container\">\n",
              "      <div>\n",
              "<style scoped>\n",
              "    .dataframe tbody tr th:only-of-type {\n",
              "        vertical-align: middle;\n",
              "    }\n",
              "\n",
              "    .dataframe tbody tr th {\n",
              "        vertical-align: top;\n",
              "    }\n",
              "\n",
              "    .dataframe thead th {\n",
              "        text-align: right;\n",
              "    }\n",
              "</style>\n",
              "<table border=\"1\" class=\"dataframe\">\n",
              "  <thead>\n",
              "    <tr style=\"text-align: right;\">\n",
              "      <th></th>\n",
              "      <th>price</th>\n",
              "      <th>area</th>\n",
              "      <th>bedrooms</th>\n",
              "      <th>bathrooms</th>\n",
              "      <th>stories</th>\n",
              "      <th>mainroad</th>\n",
              "      <th>guestroom</th>\n",
              "      <th>basement</th>\n",
              "      <th>hotwaterheating</th>\n",
              "      <th>airconditioning</th>\n",
              "      <th>parking</th>\n",
              "      <th>prefarea</th>\n",
              "      <th>furnishingstatus</th>\n",
              "    </tr>\n",
              "  </thead>\n",
              "  <tbody>\n",
              "    <tr>\n",
              "      <th>0</th>\n",
              "      <td>13300000</td>\n",
              "      <td>7420</td>\n",
              "      <td>4</td>\n",
              "      <td>2</td>\n",
              "      <td>3</td>\n",
              "      <td>1</td>\n",
              "      <td>0</td>\n",
              "      <td>0</td>\n",
              "      <td>0</td>\n",
              "      <td>1</td>\n",
              "      <td>2</td>\n",
              "      <td>1</td>\n",
              "      <td>furnished</td>\n",
              "    </tr>\n",
              "    <tr>\n",
              "      <th>1</th>\n",
              "      <td>12250000</td>\n",
              "      <td>8960</td>\n",
              "      <td>4</td>\n",
              "      <td>4</td>\n",
              "      <td>4</td>\n",
              "      <td>1</td>\n",
              "      <td>0</td>\n",
              "      <td>0</td>\n",
              "      <td>0</td>\n",
              "      <td>1</td>\n",
              "      <td>3</td>\n",
              "      <td>0</td>\n",
              "      <td>furnished</td>\n",
              "    </tr>\n",
              "    <tr>\n",
              "      <th>2</th>\n",
              "      <td>12250000</td>\n",
              "      <td>9960</td>\n",
              "      <td>3</td>\n",
              "      <td>2</td>\n",
              "      <td>2</td>\n",
              "      <td>1</td>\n",
              "      <td>0</td>\n",
              "      <td>1</td>\n",
              "      <td>0</td>\n",
              "      <td>0</td>\n",
              "      <td>2</td>\n",
              "      <td>1</td>\n",
              "      <td>semi-furnished</td>\n",
              "    </tr>\n",
              "    <tr>\n",
              "      <th>3</th>\n",
              "      <td>12215000</td>\n",
              "      <td>7500</td>\n",
              "      <td>4</td>\n",
              "      <td>2</td>\n",
              "      <td>2</td>\n",
              "      <td>1</td>\n",
              "      <td>0</td>\n",
              "      <td>1</td>\n",
              "      <td>0</td>\n",
              "      <td>1</td>\n",
              "      <td>3</td>\n",
              "      <td>1</td>\n",
              "      <td>furnished</td>\n",
              "    </tr>\n",
              "    <tr>\n",
              "      <th>4</th>\n",
              "      <td>11410000</td>\n",
              "      <td>7420</td>\n",
              "      <td>4</td>\n",
              "      <td>1</td>\n",
              "      <td>2</td>\n",
              "      <td>1</td>\n",
              "      <td>1</td>\n",
              "      <td>1</td>\n",
              "      <td>0</td>\n",
              "      <td>1</td>\n",
              "      <td>2</td>\n",
              "      <td>0</td>\n",
              "      <td>furnished</td>\n",
              "    </tr>\n",
              "  </tbody>\n",
              "</table>\n",
              "</div>\n",
              "      <button class=\"colab-df-convert\" onclick=\"convertToInteractive('df-c63b7aea-be9b-44c8-b52a-25f2bf0bf801')\"\n",
              "              title=\"Convert this dataframe to an interactive table.\"\n",
              "              style=\"display:none;\">\n",
              "        \n",
              "  <svg xmlns=\"http://www.w3.org/2000/svg\" height=\"24px\"viewBox=\"0 0 24 24\"\n",
              "       width=\"24px\">\n",
              "    <path d=\"M0 0h24v24H0V0z\" fill=\"none\"/>\n",
              "    <path d=\"M18.56 5.44l.94 2.06.94-2.06 2.06-.94-2.06-.94-.94-2.06-.94 2.06-2.06.94zm-11 1L8.5 8.5l.94-2.06 2.06-.94-2.06-.94L8.5 2.5l-.94 2.06-2.06.94zm10 10l.94 2.06.94-2.06 2.06-.94-2.06-.94-.94-2.06-.94 2.06-2.06.94z\"/><path d=\"M17.41 7.96l-1.37-1.37c-.4-.4-.92-.59-1.43-.59-.52 0-1.04.2-1.43.59L10.3 9.45l-7.72 7.72c-.78.78-.78 2.05 0 2.83L4 21.41c.39.39.9.59 1.41.59.51 0 1.02-.2 1.41-.59l7.78-7.78 2.81-2.81c.8-.78.8-2.07 0-2.86zM5.41 20L4 18.59l7.72-7.72 1.47 1.35L5.41 20z\"/>\n",
              "  </svg>\n",
              "      </button>\n",
              "      \n",
              "  <style>\n",
              "    .colab-df-container {\n",
              "      display:flex;\n",
              "      flex-wrap:wrap;\n",
              "      gap: 12px;\n",
              "    }\n",
              "\n",
              "    .colab-df-convert {\n",
              "      background-color: #E8F0FE;\n",
              "      border: none;\n",
              "      border-radius: 50%;\n",
              "      cursor: pointer;\n",
              "      display: none;\n",
              "      fill: #1967D2;\n",
              "      height: 32px;\n",
              "      padding: 0 0 0 0;\n",
              "      width: 32px;\n",
              "    }\n",
              "\n",
              "    .colab-df-convert:hover {\n",
              "      background-color: #E2EBFA;\n",
              "      box-shadow: 0px 1px 2px rgba(60, 64, 67, 0.3), 0px 1px 3px 1px rgba(60, 64, 67, 0.15);\n",
              "      fill: #174EA6;\n",
              "    }\n",
              "\n",
              "    [theme=dark] .colab-df-convert {\n",
              "      background-color: #3B4455;\n",
              "      fill: #D2E3FC;\n",
              "    }\n",
              "\n",
              "    [theme=dark] .colab-df-convert:hover {\n",
              "      background-color: #434B5C;\n",
              "      box-shadow: 0px 1px 3px 1px rgba(0, 0, 0, 0.15);\n",
              "      filter: drop-shadow(0px 1px 2px rgba(0, 0, 0, 0.3));\n",
              "      fill: #FFFFFF;\n",
              "    }\n",
              "  </style>\n",
              "\n",
              "      <script>\n",
              "        const buttonEl =\n",
              "          document.querySelector('#df-c63b7aea-be9b-44c8-b52a-25f2bf0bf801 button.colab-df-convert');\n",
              "        buttonEl.style.display =\n",
              "          google.colab.kernel.accessAllowed ? 'block' : 'none';\n",
              "\n",
              "        async function convertToInteractive(key) {\n",
              "          const element = document.querySelector('#df-c63b7aea-be9b-44c8-b52a-25f2bf0bf801');\n",
              "          const dataTable =\n",
              "            await google.colab.kernel.invokeFunction('convertToInteractive',\n",
              "                                                     [key], {});\n",
              "          if (!dataTable) return;\n",
              "\n",
              "          const docLinkHtml = 'Like what you see? Visit the ' +\n",
              "            '<a target=\"_blank\" href=https://colab.research.google.com/notebooks/data_table.ipynb>data table notebook</a>'\n",
              "            + ' to learn more about interactive tables.';\n",
              "          element.innerHTML = '';\n",
              "          dataTable['output_type'] = 'display_data';\n",
              "          await google.colab.output.renderOutput(dataTable, element);\n",
              "          const docLink = document.createElement('div');\n",
              "          docLink.innerHTML = docLinkHtml;\n",
              "          element.appendChild(docLink);\n",
              "        }\n",
              "      </script>\n",
              "    </div>\n",
              "  </div>\n",
              "  "
            ],
            "text/plain": [
              "      price  area  bedrooms  bathrooms  stories  mainroad  guestroom  \\\n",
              "0  13300000  7420         4          2        3         1          0   \n",
              "1  12250000  8960         4          4        4         1          0   \n",
              "2  12250000  9960         3          2        2         1          0   \n",
              "3  12215000  7500         4          2        2         1          0   \n",
              "4  11410000  7420         4          1        2         1          1   \n",
              "\n",
              "   basement  hotwaterheating  airconditioning  parking  prefarea  \\\n",
              "0         0                0                1        2         1   \n",
              "1         0                0                1        3         0   \n",
              "2         1                0                0        2         1   \n",
              "3         1                0                1        3         1   \n",
              "4         1                0                1        2         0   \n",
              "\n",
              "  furnishingstatus  \n",
              "0        furnished  \n",
              "1        furnished  \n",
              "2   semi-furnished  \n",
              "3        furnished  \n",
              "4        furnished  "
            ]
          },
          "metadata": {},
          "execution_count": 4
        }
      ],
      "source": [
        "# list of all the \"yes-no\" binary categorical variables\n",
        "# we'll map yes to 1 and no to 0\n",
        "binary_vars_list =  ['mainroad', 'guestroom', 'basement', 'hotwaterheating', 'airconditioning', 'prefarea']\n",
        "\n",
        "# defining the map function\n",
        "def binary_map(x):\n",
        "    return x.map({'yes': 1, \"no\": 0})\n",
        "\n",
        "# applying the function to the housing variables list\n",
        "housing[binary_vars_list] = housing[binary_vars_list].apply(binary_map)\n",
        "housing.head()"
      ]
    },
    {
      "cell_type": "code",
      "execution_count": null,
      "metadata": {
        "colab": {
          "base_uri": "https://localhost:8080/",
          "height": 287
        },
        "id": "WlgfkDkTUezP",
        "outputId": "6c77095b-1df8-4da5-dc9f-5f7aad6ef722"
      },
      "outputs": [
        {
          "output_type": "execute_result",
          "data": {
            "text/html": [
              "\n",
              "  <div id=\"df-85b6da3e-d571-4da5-9da1-276a4961ab08\">\n",
              "    <div class=\"colab-df-container\">\n",
              "      <div>\n",
              "<style scoped>\n",
              "    .dataframe tbody tr th:only-of-type {\n",
              "        vertical-align: middle;\n",
              "    }\n",
              "\n",
              "    .dataframe tbody tr th {\n",
              "        vertical-align: top;\n",
              "    }\n",
              "\n",
              "    .dataframe thead th {\n",
              "        text-align: right;\n",
              "    }\n",
              "</style>\n",
              "<table border=\"1\" class=\"dataframe\">\n",
              "  <thead>\n",
              "    <tr style=\"text-align: right;\">\n",
              "      <th></th>\n",
              "      <th>price</th>\n",
              "      <th>area</th>\n",
              "      <th>bedrooms</th>\n",
              "      <th>bathrooms</th>\n",
              "      <th>stories</th>\n",
              "      <th>mainroad</th>\n",
              "      <th>guestroom</th>\n",
              "      <th>basement</th>\n",
              "      <th>hotwaterheating</th>\n",
              "      <th>airconditioning</th>\n",
              "      <th>parking</th>\n",
              "      <th>prefarea</th>\n",
              "      <th>semi-furnished</th>\n",
              "      <th>unfurnished</th>\n",
              "    </tr>\n",
              "  </thead>\n",
              "  <tbody>\n",
              "    <tr>\n",
              "      <th>0</th>\n",
              "      <td>13300000</td>\n",
              "      <td>7420</td>\n",
              "      <td>4</td>\n",
              "      <td>2</td>\n",
              "      <td>3</td>\n",
              "      <td>1</td>\n",
              "      <td>0</td>\n",
              "      <td>0</td>\n",
              "      <td>0</td>\n",
              "      <td>1</td>\n",
              "      <td>2</td>\n",
              "      <td>1</td>\n",
              "      <td>0</td>\n",
              "      <td>0</td>\n",
              "    </tr>\n",
              "    <tr>\n",
              "      <th>1</th>\n",
              "      <td>12250000</td>\n",
              "      <td>8960</td>\n",
              "      <td>4</td>\n",
              "      <td>4</td>\n",
              "      <td>4</td>\n",
              "      <td>1</td>\n",
              "      <td>0</td>\n",
              "      <td>0</td>\n",
              "      <td>0</td>\n",
              "      <td>1</td>\n",
              "      <td>3</td>\n",
              "      <td>0</td>\n",
              "      <td>0</td>\n",
              "      <td>0</td>\n",
              "    </tr>\n",
              "    <tr>\n",
              "      <th>2</th>\n",
              "      <td>12250000</td>\n",
              "      <td>9960</td>\n",
              "      <td>3</td>\n",
              "      <td>2</td>\n",
              "      <td>2</td>\n",
              "      <td>1</td>\n",
              "      <td>0</td>\n",
              "      <td>1</td>\n",
              "      <td>0</td>\n",
              "      <td>0</td>\n",
              "      <td>2</td>\n",
              "      <td>1</td>\n",
              "      <td>1</td>\n",
              "      <td>0</td>\n",
              "    </tr>\n",
              "    <tr>\n",
              "      <th>3</th>\n",
              "      <td>12215000</td>\n",
              "      <td>7500</td>\n",
              "      <td>4</td>\n",
              "      <td>2</td>\n",
              "      <td>2</td>\n",
              "      <td>1</td>\n",
              "      <td>0</td>\n",
              "      <td>1</td>\n",
              "      <td>0</td>\n",
              "      <td>1</td>\n",
              "      <td>3</td>\n",
              "      <td>1</td>\n",
              "      <td>0</td>\n",
              "      <td>0</td>\n",
              "    </tr>\n",
              "    <tr>\n",
              "      <th>4</th>\n",
              "      <td>11410000</td>\n",
              "      <td>7420</td>\n",
              "      <td>4</td>\n",
              "      <td>1</td>\n",
              "      <td>2</td>\n",
              "      <td>1</td>\n",
              "      <td>1</td>\n",
              "      <td>1</td>\n",
              "      <td>0</td>\n",
              "      <td>1</td>\n",
              "      <td>2</td>\n",
              "      <td>0</td>\n",
              "      <td>0</td>\n",
              "      <td>0</td>\n",
              "    </tr>\n",
              "  </tbody>\n",
              "</table>\n",
              "</div>\n",
              "      <button class=\"colab-df-convert\" onclick=\"convertToInteractive('df-85b6da3e-d571-4da5-9da1-276a4961ab08')\"\n",
              "              title=\"Convert this dataframe to an interactive table.\"\n",
              "              style=\"display:none;\">\n",
              "        \n",
              "  <svg xmlns=\"http://www.w3.org/2000/svg\" height=\"24px\"viewBox=\"0 0 24 24\"\n",
              "       width=\"24px\">\n",
              "    <path d=\"M0 0h24v24H0V0z\" fill=\"none\"/>\n",
              "    <path d=\"M18.56 5.44l.94 2.06.94-2.06 2.06-.94-2.06-.94-.94-2.06-.94 2.06-2.06.94zm-11 1L8.5 8.5l.94-2.06 2.06-.94-2.06-.94L8.5 2.5l-.94 2.06-2.06.94zm10 10l.94 2.06.94-2.06 2.06-.94-2.06-.94-.94-2.06-.94 2.06-2.06.94z\"/><path d=\"M17.41 7.96l-1.37-1.37c-.4-.4-.92-.59-1.43-.59-.52 0-1.04.2-1.43.59L10.3 9.45l-7.72 7.72c-.78.78-.78 2.05 0 2.83L4 21.41c.39.39.9.59 1.41.59.51 0 1.02-.2 1.41-.59l7.78-7.78 2.81-2.81c.8-.78.8-2.07 0-2.86zM5.41 20L4 18.59l7.72-7.72 1.47 1.35L5.41 20z\"/>\n",
              "  </svg>\n",
              "      </button>\n",
              "      \n",
              "  <style>\n",
              "    .colab-df-container {\n",
              "      display:flex;\n",
              "      flex-wrap:wrap;\n",
              "      gap: 12px;\n",
              "    }\n",
              "\n",
              "    .colab-df-convert {\n",
              "      background-color: #E8F0FE;\n",
              "      border: none;\n",
              "      border-radius: 50%;\n",
              "      cursor: pointer;\n",
              "      display: none;\n",
              "      fill: #1967D2;\n",
              "      height: 32px;\n",
              "      padding: 0 0 0 0;\n",
              "      width: 32px;\n",
              "    }\n",
              "\n",
              "    .colab-df-convert:hover {\n",
              "      background-color: #E2EBFA;\n",
              "      box-shadow: 0px 1px 2px rgba(60, 64, 67, 0.3), 0px 1px 3px 1px rgba(60, 64, 67, 0.15);\n",
              "      fill: #174EA6;\n",
              "    }\n",
              "\n",
              "    [theme=dark] .colab-df-convert {\n",
              "      background-color: #3B4455;\n",
              "      fill: #D2E3FC;\n",
              "    }\n",
              "\n",
              "    [theme=dark] .colab-df-convert:hover {\n",
              "      background-color: #434B5C;\n",
              "      box-shadow: 0px 1px 3px 1px rgba(0, 0, 0, 0.15);\n",
              "      filter: drop-shadow(0px 1px 2px rgba(0, 0, 0, 0.3));\n",
              "      fill: #FFFFFF;\n",
              "    }\n",
              "  </style>\n",
              "\n",
              "      <script>\n",
              "        const buttonEl =\n",
              "          document.querySelector('#df-85b6da3e-d571-4da5-9da1-276a4961ab08 button.colab-df-convert');\n",
              "        buttonEl.style.display =\n",
              "          google.colab.kernel.accessAllowed ? 'block' : 'none';\n",
              "\n",
              "        async function convertToInteractive(key) {\n",
              "          const element = document.querySelector('#df-85b6da3e-d571-4da5-9da1-276a4961ab08');\n",
              "          const dataTable =\n",
              "            await google.colab.kernel.invokeFunction('convertToInteractive',\n",
              "                                                     [key], {});\n",
              "          if (!dataTable) return;\n",
              "\n",
              "          const docLinkHtml = 'Like what you see? Visit the ' +\n",
              "            '<a target=\"_blank\" href=https://colab.research.google.com/notebooks/data_table.ipynb>data table notebook</a>'\n",
              "            + ' to learn more about interactive tables.';\n",
              "          element.innerHTML = '';\n",
              "          dataTable['output_type'] = 'display_data';\n",
              "          await google.colab.output.renderOutput(dataTable, element);\n",
              "          const docLink = document.createElement('div');\n",
              "          docLink.innerHTML = docLinkHtml;\n",
              "          element.appendChild(docLink);\n",
              "        }\n",
              "      </script>\n",
              "    </div>\n",
              "  </div>\n",
              "  "
            ],
            "text/plain": [
              "      price  area  bedrooms  bathrooms  stories  mainroad  guestroom  \\\n",
              "0  13300000  7420         4          2        3         1          0   \n",
              "1  12250000  8960         4          4        4         1          0   \n",
              "2  12250000  9960         3          2        2         1          0   \n",
              "3  12215000  7500         4          2        2         1          0   \n",
              "4  11410000  7420         4          1        2         1          1   \n",
              "\n",
              "   basement  hotwaterheating  airconditioning  parking  prefarea  \\\n",
              "0         0                0                1        2         1   \n",
              "1         0                0                1        3         0   \n",
              "2         1                0                0        2         1   \n",
              "3         1                0                1        3         1   \n",
              "4         1                0                1        2         0   \n",
              "\n",
              "   semi-furnished  unfurnished  \n",
              "0               0            0  \n",
              "1               0            0  \n",
              "2               1            0  \n",
              "3               0            0  \n",
              "4               0            0  "
            ]
          },
          "metadata": {},
          "execution_count": 5
        }
      ],
      "source": [
        "# 'dummy' variables\n",
        "# get dummy variables for 'furnishingstatus' \n",
        "# also, drop the first column of the resulting df (since n-1 dummy vars suffice)\n",
        "status = pd.get_dummies(housing['furnishingstatus'], drop_first = True)\n",
        "status.head()\n",
        "\n",
        "# concat the dummy variable df with the main df\n",
        "housing = pd.concat([housing, status], axis = 1)\n",
        "housing.head()\n",
        "\n",
        "\n",
        "# 'furnishingstatus' since we alreday have the dummy vars\n",
        "housing.drop(['furnishingstatus'], axis = 1, inplace = True)\n",
        "housing.head()\n",
        "\n",
        "\n"
      ]
    },
    {
      "cell_type": "code",
      "source": [
        "# rescale the features\n",
        "scaler = MinMaxScaler()\n",
        "\n",
        "# apply scaler() to all the numeric columns \n",
        "numeric_vars = ['area', 'bedrooms', 'bathrooms', 'stories', 'parking','price']\n",
        "housing[numeric_vars] = scaler.fit_transform(housing[numeric_vars])\n",
        "print(housing.head())\n",
        "\n",
        "# visualise area-price relationship\n",
        "sns.regplot(x=\"area\", y=\"price\", data=housing, fit_reg=False)"
      ],
      "metadata": {
        "colab": {
          "base_uri": "https://localhost:8080/",
          "height": 643
        },
        "id": "m8sN-DvkreJ0",
        "outputId": "1e31e065-d01b-4313-d723-35846b7440f9"
      },
      "execution_count": null,
      "outputs": [
        {
          "output_type": "stream",
          "name": "stdout",
          "text": [
            "      price      area  bedrooms  bathrooms   stories  mainroad  guestroom  \\\n",
            "0  1.000000  0.396564       0.6   0.333333  0.666667         1          0   \n",
            "1  0.909091  0.502405       0.6   1.000000  1.000000         1          0   \n",
            "2  0.909091  0.571134       0.4   0.333333  0.333333         1          0   \n",
            "3  0.906061  0.402062       0.6   0.333333  0.333333         1          0   \n",
            "4  0.836364  0.396564       0.6   0.000000  0.333333         1          1   \n",
            "\n",
            "   basement  hotwaterheating  airconditioning   parking  prefarea  \\\n",
            "0         0                0                1  0.666667         1   \n",
            "1         0                0                1  1.000000         0   \n",
            "2         1                0                0  0.666667         1   \n",
            "3         1                0                1  1.000000         1   \n",
            "4         1                0                1  0.666667         0   \n",
            "\n",
            "   semi-furnished  unfurnished  \n",
            "0               0            0  \n",
            "1               0            0  \n",
            "2               1            0  \n",
            "3               0            0  \n",
            "4               0            0  \n"
          ]
        },
        {
          "output_type": "execute_result",
          "data": {
            "text/plain": [
              "<matplotlib.axes._subplots.AxesSubplot at 0x7fcaeae98910>"
            ]
          },
          "metadata": {},
          "execution_count": 6
        },
        {
          "output_type": "display_data",
          "data": {
            "image/png": "[encoded data removed]",
            "text/plain": [
              "<Figure size 432x288 with 1 Axes>"
            ]
          },
          "metadata": {
            "needs_background": "light"
          }
        }
      ]
    },
    {
      "cell_type": "markdown",
      "metadata": {
        "id": "V2xBoju9In7V"
      },
      "source": [
        "\n",
        "**Step 3: Building a Model Without Cross-Validation**\n",
        "\n",
        "Let's now build a multiple regression model. First, let's build a vanilla MLR model without any cross-validation etc.\n",
        "\n",
        "**Train/Test Split**\n",
        "\n",
        "![](https://miro.medium.com/max/933/1*-8_kogvwmL1H6ooN1A1tsQ.png)\n"
      ]
    },
    {
      "cell_type": "code",
      "execution_count": null,
      "metadata": {
        "id": "PR40c9rGJIqq"
      },
      "outputs": [],
      "source": [
        "\n",
        "df = housing\n",
        "\n",
        "\n",
        "X_train, X_test, y_train, y_test = train_test_split(df.loc[:, df.columns != 'price']\n",
        ", df['price'],\n",
        "                                     train_size = 0.7, \n",
        "                                     test_size = 0.3, \n",
        "                                     random_state = 10)\n",
        "\n"
      ]
    },
    {
      "cell_type": "code",
      "execution_count": null,
      "metadata": {
        "id": "TX691c3pJIxD"
      },
      "outputs": [],
      "source": [
        "lr_model = LinearRegression() # 1st step: create the model\n",
        "lr_model.fit(X_train, y_train) # 2nd step: fit the model\n",
        "lr_pred = lr_model.predict(X_test) # 3rd step for test data: make predictiion (test)\n",
        "lr_pred_tr = lr_model.predict(X_train) # 3rd step for train data: make prediction (train)\n",
        " \n"
      ]
    },
    {
      "cell_type": "markdown",
      "metadata": {
        "id": "-jwfibV-VbEQ"
      },
      "source": [
        "**Evaluation step**\n",
        "![picture](https://miro.medium.com/max/602/1*FLgxx9NbqgHT0sqfz-DBaA.png)"
      ]
    },
    {
      "cell_type": "code",
      "execution_count": null,
      "metadata": {
        "colab": {
          "base_uri": "https://localhost:8080/"
        },
        "id": "KW10fByRxToO",
        "outputId": "e6189fc9-c83d-4312-c82c-b3b5dd26a2ac"
      },
      "outputs": [
        {
          "output_type": "stream",
          "name": "stdout",
          "text": [
            "mean absolute error is:  0.06164320905293722\n",
            "mean squared error is:  0.005666489919406746\n",
            "root mean squared error is:  0.07527609128672096\n",
            "rscore:  0.7407371209623979\n"
          ]
        }
      ],
      "source": [
        "\n",
        "# 4th step\n",
        "# Evaluate the lr model\n",
        "from sklearn.metrics import mean_absolute_error\n",
        "from sklearn.model_selection import train_test_split\n",
        "from sklearn.metrics import mean_squared_error\n",
        "from sklearn.metrics import r2_score\n",
        "\n",
        "\n",
        "# Evaluate the lr model\n",
        "# MAE\n",
        "test_set_mae = mean_absolute_error(y_test, lr_pred)\n",
        "#MSE\n",
        "test_set_mse = (mean_squared_error(y_test, lr_pred))\n",
        "# RMSE\n",
        "test_set_rmse = (np.sqrt(mean_squared_error(y_test, lr_pred)))\n",
        "#R^2\n",
        "lr_wcv_test_set_r2 = r2_score(y_test, lr_pred)\n",
        "\n",
        "print(\"mean absolute error is: \", test_set_mae)\n",
        "print(\"mean squared error is: \", test_set_mse)\n",
        "print(\"root mean squared error is: \", test_set_rmse)\n",
        "print(\"rscore: \", lr_wcv_test_set_r2)"
      ]
    },
    {
      "cell_type": "markdown",
      "metadata": {
        "id": "zjAIXSwQWHuM"
      },
      "source": [
        "2. **Cross-Validation and parameter tunning with Linear Regression.**\n",
        "\n",
        "![](https://miro.medium.com/max/701/1*55TfJMq5AkMKDg9VUa7ktA.jpeg)\n",
        "\n",
        "* Five reasons why you should use Cross-Validation in your Data Science Projects:\n",
        "    * By doing cross-validation, we’re able to use all our observations both for training and for testing while evaluating our learning algorithm on examples it has never seen before.\n",
        "    *  Parameters Fine-Tuning\n",
        "\n",
        "For more details feel free to visit this [blog post](https://towardsdatascience.com/5-reasons-why-you-should-use-cross-validation-in-your-data-science-project-8163311a1e79)"
      ]
    },
    {
      "cell_type": "markdown",
      "metadata": {
        "id": "W_I9aZ8sd0Pc"
      },
      "source": [
        "* The following figure illustrates k-fold cross-validation with k=4. There are some other schemes to divide the training set, we'll look at them briefly later. \n",
        "\n",
        "![](https://scikit-learn.org/stable/_images/grid_search_cross_validation.png)\n",
        "\n",
        "\n",
        "* **2.1 Let's now experiment with k-fold CV.**\n"
      ]
    },
    {
      "cell_type": "code",
      "execution_count": null,
      "metadata": {
        "colab": {
          "base_uri": "https://localhost:8080/"
        },
        "id": "t0WJQgqDaoW7",
        "outputId": "cdd4c048-47d7-40d2-89fc-5613e92ed76f"
      },
      "outputs": [
        {
          "output_type": "execute_result",
          "data": {
            "text/plain": [
              "array([0.57093763, 0.520441  , 0.65915394, 0.5779965 , 0.7261659 ])"
            ]
          },
          "metadata": {},
          "execution_count": 10
        }
      ],
      "source": [
        "# the other way of doing the same thing (more explicit)\n",
        "lm = LinearRegression()\n",
        "#create a KFold object with 5 splits \n",
        "folds = KFold(n_splits = 5, shuffle = True, random_state = 100)\n",
        "scores = cross_val_score(lm, X_train, y_train, scoring='r2', cv=folds)\n",
        "scores "
      ]
    },
    {
      "cell_type": "markdown",
      "metadata": {
        "id": "djT16lEKHF6b"
      },
      "source": [
        "\n",
        "**2.2 Hyperparameter Tuning Using Grid Search Cross-Validation**\n",
        "\n",
        "A common use of cross-validation is for tuning hyperparameters of a model. The most common technique is what is called `grid search cross-validation`. "
      ]
    },
    {
      "cell_type": "code",
      "execution_count": null,
      "metadata": {
        "colab": {
          "base_uri": "https://localhost:8080/"
        },
        "id": "4m_ruCANaoc0",
        "outputId": "9ade6c9f-7c19-4039-cfba-1a495a4207e9"
      },
      "outputs": [
        {
          "output_type": "stream",
          "name": "stdout",
          "text": [
            "Fitting 5 folds for each of 13 candidates, totalling 65 fits\n"
          ]
        },
        {
          "output_type": "execute_result",
          "data": {
            "text/plain": [
              "GridSearchCV(cv=KFold(n_splits=5, random_state=100, shuffle=True),\n",
              "             estimator=RFE(estimator=LinearRegression()),\n",
              "             param_grid=[{'n_features_to_select': [1, 2, 3, 4, 5, 6, 7, 8, 9,\n",
              "                                                   10, 11, 12, 13]}],\n",
              "             return_train_score=True, scoring='r2', verbose=1)"
            ]
          },
          "metadata": {},
          "execution_count": 11
        }
      ],
      "source": [
        "# step-1: create a cross-validation scheme\n",
        "folds = KFold(n_splits = 5, shuffle = True, random_state = 100)\n",
        "\n",
        "# step-2: specify range of hyperparameters to tune\n",
        "hyper_params = [{'n_features_to_select': list(range(1, 14))}]\n",
        "\n",
        "\n",
        "# step-3: perform grid search\n",
        "# 3.1 specify model\n",
        "lm = LinearRegression()\n",
        "lm.fit(X_train, y_train)\n",
        "\n",
        "rfe = RFE(lm)             \n",
        "\n",
        "# 3.2 call GridSearchCV()\n",
        "model_cv = GridSearchCV(estimator = rfe,  # Feature ranking with recursive feature elimination.\n",
        "                        param_grid = hyper_params, \n",
        "                        scoring= 'r2', \n",
        "                        cv = folds, \n",
        "                        verbose = 1,\n",
        "                        return_train_score=True)      \n",
        "\n",
        "# fit the model\n",
        "model_cv.fit(X_train, y_train)  "
      ]
    },
    {
      "cell_type": "code",
      "execution_count": null,
      "metadata": {
        "colab": {
          "base_uri": "https://localhost:8080/"
        },
        "id": "s8mOCpbpIsWf",
        "outputId": "3bf09246-dc41-4945-d2c0-985edaed0896"
      },
      "outputs": [
        {
          "output_type": "execute_result",
          "data": {
            "text/plain": [
              "{'n_features_to_select': 11}"
            ]
          },
          "metadata": {},
          "execution_count": 12
        }
      ],
      "source": [
        "model_cv.best_params_"
      ]
    },
    {
      "cell_type": "code",
      "execution_count": null,
      "metadata": {
        "colab": {
          "base_uri": "https://localhost:8080/",
          "height": 776
        },
        "id": "gKAOx1Bhaohx",
        "outputId": "877fe3f1-ff28-4b6b-8f88-4d83ba05b957"
      },
      "outputs": [
        {
          "output_type": "execute_result",
          "data": {
            "text/html": [
              "\n",
              "  <div id=\"df-d8f22607-098a-48dd-9abd-407f6a65480d\">\n",
              "    <div class=\"colab-df-container\">\n",
              "      <div>\n",
              "<style scoped>\n",
              "    .dataframe tbody tr th:only-of-type {\n",
              "        vertical-align: middle;\n",
              "    }\n",
              "\n",
              "    .dataframe tbody tr th {\n",
              "        vertical-align: top;\n",
              "    }\n",
              "\n",
              "    .dataframe thead th {\n",
              "        text-align: right;\n",
              "    }\n",
              "</style>\n",
              "<table border=\"1\" class=\"dataframe\">\n",
              "  <thead>\n",
              "    <tr style=\"text-align: right;\">\n",
              "      <th></th>\n",
              "      <th>mean_fit_time</th>\n",
              "      <th>std_fit_time</th>\n",
              "      <th>mean_score_time</th>\n",
              "      <th>std_score_time</th>\n",
              "      <th>param_n_features_to_select</th>\n",
              "      <th>params</th>\n",
              "      <th>split0_test_score</th>\n",
              "      <th>split1_test_score</th>\n",
              "      <th>split2_test_score</th>\n",
              "      <th>split3_test_score</th>\n",
              "      <th>...</th>\n",
              "      <th>mean_test_score</th>\n",
              "      <th>std_test_score</th>\n",
              "      <th>rank_test_score</th>\n",
              "      <th>split0_train_score</th>\n",
              "      <th>split1_train_score</th>\n",
              "      <th>split2_train_score</th>\n",
              "      <th>split3_train_score</th>\n",
              "      <th>split4_train_score</th>\n",
              "      <th>mean_train_score</th>\n",
              "      <th>std_train_score</th>\n",
              "    </tr>\n",
              "  </thead>\n",
              "  <tbody>\n",
              "    <tr>\n",
              "      <th>0</th>\n",
              "      <td>0.012659</td>\n",
              "      <td>0.000378</td>\n",
              "      <td>0.002241</td>\n",
              "      <td>0.000129</td>\n",
              "      <td>1</td>\n",
              "      <td>{'n_features_to_select': 1}</td>\n",
              "      <td>0.165343</td>\n",
              "      <td>0.364510</td>\n",
              "      <td>0.286444</td>\n",
              "      <td>0.363613</td>\n",
              "      <td>...</td>\n",
              "      <td>0.280866</td>\n",
              "      <td>0.077982</td>\n",
              "      <td>13</td>\n",
              "      <td>0.317828</td>\n",
              "      <td>0.273016</td>\n",
              "      <td>0.293253</td>\n",
              "      <td>0.277104</td>\n",
              "      <td>0.307070</td>\n",
              "      <td>0.293654</td>\n",
              "      <td>0.017113</td>\n",
              "    </tr>\n",
              "    <tr>\n",
              "      <th>1</th>\n",
              "      <td>0.010891</td>\n",
              "      <td>0.000147</td>\n",
              "      <td>0.002171</td>\n",
              "      <td>0.000044</td>\n",
              "      <td>2</td>\n",
              "      <td>{'n_features_to_select': 2}</td>\n",
              "      <td>0.331716</td>\n",
              "      <td>0.249696</td>\n",
              "      <td>0.496295</td>\n",
              "      <td>0.568599</td>\n",
              "      <td>...</td>\n",
              "      <td>0.422501</td>\n",
              "      <td>0.115588</td>\n",
              "      <td>12</td>\n",
              "      <td>0.471942</td>\n",
              "      <td>0.486390</td>\n",
              "      <td>0.428221</td>\n",
              "      <td>0.424546</td>\n",
              "      <td>0.442831</td>\n",
              "      <td>0.450786</td>\n",
              "      <td>0.024398</td>\n",
              "    </tr>\n",
              "    <tr>\n",
              "      <th>2</th>\n",
              "      <td>0.011327</td>\n",
              "      <td>0.001787</td>\n",
              "      <td>0.002283</td>\n",
              "      <td>0.000097</td>\n",
              "      <td>3</td>\n",
              "      <td>{'n_features_to_select': 3}</td>\n",
              "      <td>0.318101</td>\n",
              "      <td>0.342613</td>\n",
              "      <td>0.506250</td>\n",
              "      <td>0.635715</td>\n",
              "      <td>...</td>\n",
              "      <td>0.467976</td>\n",
              "      <td>0.120475</td>\n",
              "      <td>11</td>\n",
              "      <td>0.504139</td>\n",
              "      <td>0.539203</td>\n",
              "      <td>0.506091</td>\n",
              "      <td>0.483334</td>\n",
              "      <td>0.500285</td>\n",
              "      <td>0.506610</td>\n",
              "      <td>0.018169</td>\n",
              "    </tr>\n",
              "    <tr>\n",
              "      <th>3</th>\n",
              "      <td>0.011149</td>\n",
              "      <td>0.001309</td>\n",
              "      <td>0.002385</td>\n",
              "      <td>0.000196</td>\n",
              "      <td>4</td>\n",
              "      <td>{'n_features_to_select': 4}</td>\n",
              "      <td>0.404743</td>\n",
              "      <td>0.393566</td>\n",
              "      <td>0.517595</td>\n",
              "      <td>0.605492</td>\n",
              "      <td>...</td>\n",
              "      <td>0.494358</td>\n",
              "      <td>0.082729</td>\n",
              "      <td>10</td>\n",
              "      <td>0.537811</td>\n",
              "      <td>0.556197</td>\n",
              "      <td>0.512843</td>\n",
              "      <td>0.515884</td>\n",
              "      <td>0.526837</td>\n",
              "      <td>0.529914</td>\n",
              "      <td>0.015817</td>\n",
              "    </tr>\n",
              "    <tr>\n",
              "      <th>4</th>\n",
              "      <td>0.010282</td>\n",
              "      <td>0.002181</td>\n",
              "      <td>0.002684</td>\n",
              "      <td>0.000498</td>\n",
              "      <td>5</td>\n",
              "      <td>{'n_features_to_select': 5}</td>\n",
              "      <td>0.433187</td>\n",
              "      <td>0.420236</td>\n",
              "      <td>0.539642</td>\n",
              "      <td>0.550456</td>\n",
              "      <td>...</td>\n",
              "      <td>0.499762</td>\n",
              "      <td>0.060000</td>\n",
              "      <td>9</td>\n",
              "      <td>0.558294</td>\n",
              "      <td>0.602700</td>\n",
              "      <td>0.548909</td>\n",
              "      <td>0.572759</td>\n",
              "      <td>0.532854</td>\n",
              "      <td>0.563103</td>\n",
              "      <td>0.023667</td>\n",
              "    </tr>\n",
              "    <tr>\n",
              "      <th>5</th>\n",
              "      <td>0.008915</td>\n",
              "      <td>0.000337</td>\n",
              "      <td>0.002283</td>\n",
              "      <td>0.000095</td>\n",
              "      <td>6</td>\n",
              "      <td>{'n_features_to_select': 6}</td>\n",
              "      <td>0.487687</td>\n",
              "      <td>0.445046</td>\n",
              "      <td>0.534247</td>\n",
              "      <td>0.541267</td>\n",
              "      <td>...</td>\n",
              "      <td>0.526862</td>\n",
              "      <td>0.060551</td>\n",
              "      <td>8</td>\n",
              "      <td>0.597244</td>\n",
              "      <td>0.638304</td>\n",
              "      <td>0.560850</td>\n",
              "      <td>0.585328</td>\n",
              "      <td>0.566251</td>\n",
              "      <td>0.589595</td>\n",
              "      <td>0.027642</td>\n",
              "    </tr>\n",
              "    <tr>\n",
              "      <th>6</th>\n",
              "      <td>0.007898</td>\n",
              "      <td>0.000163</td>\n",
              "      <td>0.002189</td>\n",
              "      <td>0.000030</td>\n",
              "      <td>7</td>\n",
              "      <td>{'n_features_to_select': 7}</td>\n",
              "      <td>0.517592</td>\n",
              "      <td>0.457683</td>\n",
              "      <td>0.579160</td>\n",
              "      <td>0.612771</td>\n",
              "      <td>...</td>\n",
              "      <td>0.569127</td>\n",
              "      <td>0.076194</td>\n",
              "      <td>7</td>\n",
              "      <td>0.630409</td>\n",
              "      <td>0.641750</td>\n",
              "      <td>0.610214</td>\n",
              "      <td>0.616435</td>\n",
              "      <td>0.593670</td>\n",
              "      <td>0.618496</td>\n",
              "      <td>0.016564</td>\n",
              "    </tr>\n",
              "    <tr>\n",
              "      <th>7</th>\n",
              "      <td>0.006811</td>\n",
              "      <td>0.000069</td>\n",
              "      <td>0.002090</td>\n",
              "      <td>0.000044</td>\n",
              "      <td>8</td>\n",
              "      <td>{'n_features_to_select': 8}</td>\n",
              "      <td>0.543150</td>\n",
              "      <td>0.489115</td>\n",
              "      <td>0.611248</td>\n",
              "      <td>0.593997</td>\n",
              "      <td>...</td>\n",
              "      <td>0.586809</td>\n",
              "      <td>0.069482</td>\n",
              "      <td>5</td>\n",
              "      <td>0.639625</td>\n",
              "      <td>0.650258</td>\n",
              "      <td>0.624453</td>\n",
              "      <td>0.639896</td>\n",
              "      <td>0.604609</td>\n",
              "      <td>0.631768</td>\n",
              "      <td>0.015880</td>\n",
              "    </tr>\n",
              "    <tr>\n",
              "      <th>8</th>\n",
              "      <td>0.006309</td>\n",
              "      <td>0.000195</td>\n",
              "      <td>0.002123</td>\n",
              "      <td>0.000057</td>\n",
              "      <td>9</td>\n",
              "      <td>{'n_features_to_select': 9}</td>\n",
              "      <td>0.551317</td>\n",
              "      <td>0.483390</td>\n",
              "      <td>0.622077</td>\n",
              "      <td>0.558179</td>\n",
              "      <td>...</td>\n",
              "      <td>0.582167</td>\n",
              "      <td>0.071840</td>\n",
              "      <td>6</td>\n",
              "      <td>0.656615</td>\n",
              "      <td>0.660098</td>\n",
              "      <td>0.630499</td>\n",
              "      <td>0.657373</td>\n",
              "      <td>0.613538</td>\n",
              "      <td>0.643625</td>\n",
              "      <td>0.018475</td>\n",
              "    </tr>\n",
              "    <tr>\n",
              "      <th>9</th>\n",
              "      <td>0.005542</td>\n",
              "      <td>0.000188</td>\n",
              "      <td>0.002203</td>\n",
              "      <td>0.000107</td>\n",
              "      <td>10</td>\n",
              "      <td>{'n_features_to_select': 10}</td>\n",
              "      <td>0.566509</td>\n",
              "      <td>0.510615</td>\n",
              "      <td>0.646541</td>\n",
              "      <td>0.564754</td>\n",
              "      <td>...</td>\n",
              "      <td>0.599737</td>\n",
              "      <td>0.070254</td>\n",
              "      <td>4</td>\n",
              "      <td>0.664883</td>\n",
              "      <td>0.672163</td>\n",
              "      <td>0.639705</td>\n",
              "      <td>0.658117</td>\n",
              "      <td>0.628221</td>\n",
              "      <td>0.652618</td>\n",
              "      <td>0.016276</td>\n",
              "    </tr>\n",
              "    <tr>\n",
              "      <th>10</th>\n",
              "      <td>0.004925</td>\n",
              "      <td>0.000284</td>\n",
              "      <td>0.002211</td>\n",
              "      <td>0.000225</td>\n",
              "      <td>11</td>\n",
              "      <td>{'n_features_to_select': 11}</td>\n",
              "      <td>0.579296</td>\n",
              "      <td>0.524337</td>\n",
              "      <td>0.657302</td>\n",
              "      <td>0.573466</td>\n",
              "      <td>...</td>\n",
              "      <td>0.612202</td>\n",
              "      <td>0.071310</td>\n",
              "      <td>1</td>\n",
              "      <td>0.668234</td>\n",
              "      <td>0.679714</td>\n",
              "      <td>0.647120</td>\n",
              "      <td>0.662279</td>\n",
              "      <td>0.634998</td>\n",
              "      <td>0.658469</td>\n",
              "      <td>0.015754</td>\n",
              "    </tr>\n",
              "    <tr>\n",
              "      <th>11</th>\n",
              "      <td>0.003938</td>\n",
              "      <td>0.000235</td>\n",
              "      <td>0.002001</td>\n",
              "      <td>0.000058</td>\n",
              "      <td>12</td>\n",
              "      <td>{'n_features_to_select': 12}</td>\n",
              "      <td>0.571388</td>\n",
              "      <td>0.520722</td>\n",
              "      <td>0.659815</td>\n",
              "      <td>0.578239</td>\n",
              "      <td>...</td>\n",
              "      <td>0.611539</td>\n",
              "      <td>0.073149</td>\n",
              "      <td>2</td>\n",
              "      <td>0.671345</td>\n",
              "      <td>0.682117</td>\n",
              "      <td>0.648279</td>\n",
              "      <td>0.662438</td>\n",
              "      <td>0.636605</td>\n",
              "      <td>0.660157</td>\n",
              "      <td>0.016176</td>\n",
              "    </tr>\n",
              "    <tr>\n",
              "      <th>12</th>\n",
              "      <td>0.003027</td>\n",
              "      <td>0.000092</td>\n",
              "      <td>0.001992</td>\n",
              "      <td>0.000022</td>\n",
              "      <td>13</td>\n",
              "      <td>{'n_features_to_select': 13}</td>\n",
              "      <td>0.570938</td>\n",
              "      <td>0.520441</td>\n",
              "      <td>0.659154</td>\n",
              "      <td>0.577996</td>\n",
              "      <td>...</td>\n",
              "      <td>0.610939</td>\n",
              "      <td>0.072770</td>\n",
              "      <td>3</td>\n",
              "      <td>0.671360</td>\n",
              "      <td>0.682150</td>\n",
              "      <td>0.648400</td>\n",
              "      <td>0.662454</td>\n",
              "      <td>0.636774</td>\n",
              "      <td>0.660227</td>\n",
              "      <td>0.016121</td>\n",
              "    </tr>\n",
              "  </tbody>\n",
              "</table>\n",
              "<p>13 rows × 21 columns</p>\n",
              "</div>\n",
              "      <button class=\"colab-df-convert\" onclick=\"convertToInteractive('df-d8f22607-098a-48dd-9abd-407f6a65480d')\"\n",
              "              title=\"Convert this dataframe to an interactive table.\"\n",
              "              style=\"display:none;\">\n",
              "        \n",
              "  <svg xmlns=\"http://www.w3.org/2000/svg\" height=\"24px\"viewBox=\"0 0 24 24\"\n",
              "       width=\"24px\">\n",
              "    <path d=\"M0 0h24v24H0V0z\" fill=\"none\"/>\n",
              "    <path d=\"M18.56 5.44l.94 2.06.94-2.06 2.06-.94-2.06-.94-.94-2.06-.94 2.06-2.06.94zm-11 1L8.5 8.5l.94-2.06 2.06-.94-2.06-.94L8.5 2.5l-.94 2.06-2.06.94zm10 10l.94 2.06.94-2.06 2.06-.94-2.06-.94-.94-2.06-.94 2.06-2.06.94z\"/><path d=\"M17.41 7.96l-1.37-1.37c-.4-.4-.92-.59-1.43-.59-.52 0-1.04.2-1.43.59L10.3 9.45l-7.72 7.72c-.78.78-.78 2.05 0 2.83L4 21.41c.39.39.9.59 1.41.59.51 0 1.02-.2 1.41-.59l7.78-7.78 2.81-2.81c.8-.78.8-2.07 0-2.86zM5.41 20L4 18.59l7.72-7.72 1.47 1.35L5.41 20z\"/>\n",
              "  </svg>\n",
              "      </button>\n",
              "      \n",
              "  <style>\n",
              "    .colab-df-container {\n",
              "      display:flex;\n",
              "      flex-wrap:wrap;\n",
              "      gap: 12px;\n",
              "    }\n",
              "\n",
              "    .colab-df-convert {\n",
              "      background-color: #E8F0FE;\n",
              "      border: none;\n",
              "      border-radius: 50%;\n",
              "      cursor: pointer;\n",
              "      display: none;\n",
              "      fill: #1967D2;\n",
              "      height: 32px;\n",
              "      padding: 0 0 0 0;\n",
              "      width: 32px;\n",
              "    }\n",
              "\n",
              "    .colab-df-convert:hover {\n",
              "      background-color: #E2EBFA;\n",
              "      box-shadow: 0px 1px 2px rgba(60, 64, 67, 0.3), 0px 1px 3px 1px rgba(60, 64, 67, 0.15);\n",
              "      fill: #174EA6;\n",
              "    }\n",
              "\n",
              "    [theme=dark] .colab-df-convert {\n",
              "      background-color: #3B4455;\n",
              "      fill: #D2E3FC;\n",
              "    }\n",
              "\n",
              "    [theme=dark] .colab-df-convert:hover {\n",
              "      background-color: #434B5C;\n",
              "      box-shadow: 0px 1px 3px 1px rgba(0, 0, 0, 0.15);\n",
              "      filter: drop-shadow(0px 1px 2px rgba(0, 0, 0, 0.3));\n",
              "      fill: #FFFFFF;\n",
              "    }\n",
              "  </style>\n",
              "\n",
              "      <script>\n",
              "        const buttonEl =\n",
              "          document.querySelector('#df-d8f22607-098a-48dd-9abd-407f6a65480d button.colab-df-convert');\n",
              "        buttonEl.style.display =\n",
              "          google.colab.kernel.accessAllowed ? 'block' : 'none';\n",
              "\n",
              "        async function convertToInteractive(key) {\n",
              "          const element = document.querySelector('#df-d8f22607-098a-48dd-9abd-407f6a65480d');\n",
              "          const dataTable =\n",
              "            await google.colab.kernel.invokeFunction('convertToInteractive',\n",
              "                                                     [key], {});\n",
              "          if (!dataTable) return;\n",
              "\n",
              "          const docLinkHtml = 'Like what you see? Visit the ' +\n",
              "            '<a target=\"_blank\" href=https://colab.research.google.com/notebooks/data_table.ipynb>data table notebook</a>'\n",
              "            + ' to learn more about interactive tables.';\n",
              "          element.innerHTML = '';\n",
              "          dataTable['output_type'] = 'display_data';\n",
              "          await google.colab.output.renderOutput(dataTable, element);\n",
              "          const docLink = document.createElement('div');\n",
              "          docLink.innerHTML = docLinkHtml;\n",
              "          element.appendChild(docLink);\n",
              "        }\n",
              "      </script>\n",
              "    </div>\n",
              "  </div>\n",
              "  "
            ],
            "text/plain": [
              "    mean_fit_time  std_fit_time  mean_score_time  std_score_time  \\\n",
              "0        0.012659      0.000378         0.002241        0.000129   \n",
              "1        0.010891      0.000147         0.002171        0.000044   \n",
              "2        0.011327      0.001787         0.002283        0.000097   \n",
              "3        0.011149      0.001309         0.002385        0.000196   \n",
              "4        0.010282      0.002181         0.002684        0.000498   \n",
              "5        0.008915      0.000337         0.002283        0.000095   \n",
              "6        0.007898      0.000163         0.002189        0.000030   \n",
              "7        0.006811      0.000069         0.002090        0.000044   \n",
              "8        0.006309      0.000195         0.002123        0.000057   \n",
              "9        0.005542      0.000188         0.002203        0.000107   \n",
              "10       0.004925      0.000284         0.002211        0.000225   \n",
              "11       0.003938      0.000235         0.002001        0.000058   \n",
              "12       0.003027      0.000092         0.001992        0.000022   \n",
              "\n",
              "   param_n_features_to_select                        params  \\\n",
              "0                           1   {'n_features_to_select': 1}   \n",
              "1                           2   {'n_features_to_select': 2}   \n",
              "2                           3   {'n_features_to_select': 3}   \n",
              "3                           4   {'n_features_to_select': 4}   \n",
              "4                           5   {'n_features_to_select': 5}   \n",
              "5                           6   {'n_features_to_select': 6}   \n",
              "6                           7   {'n_features_to_select': 7}   \n",
              "7                           8   {'n_features_to_select': 8}   \n",
              "8                           9   {'n_features_to_select': 9}   \n",
              "9                          10  {'n_features_to_select': 10}   \n",
              "10                         11  {'n_features_to_select': 11}   \n",
              "11                         12  {'n_features_to_select': 12}   \n",
              "12                         13  {'n_features_to_select': 13}   \n",
              "\n",
              "    split0_test_score  split1_test_score  split2_test_score  \\\n",
              "0            0.165343           0.364510           0.286444   \n",
              "1            0.331716           0.249696           0.496295   \n",
              "2            0.318101           0.342613           0.506250   \n",
              "3            0.404743           0.393566           0.517595   \n",
              "4            0.433187           0.420236           0.539642   \n",
              "5            0.487687           0.445046           0.534247   \n",
              "6            0.517592           0.457683           0.579160   \n",
              "7            0.543150           0.489115           0.611248   \n",
              "8            0.551317           0.483390           0.622077   \n",
              "9            0.566509           0.510615           0.646541   \n",
              "10           0.579296           0.524337           0.657302   \n",
              "11           0.571388           0.520722           0.659815   \n",
              "12           0.570938           0.520441           0.659154   \n",
              "\n",
              "    split3_test_score  ...  mean_test_score  std_test_score  rank_test_score  \\\n",
              "0            0.363613  ...         0.280866        0.077982               13   \n",
              "1            0.568599  ...         0.422501        0.115588               12   \n",
              "2            0.635715  ...         0.467976        0.120475               11   \n",
              "3            0.605492  ...         0.494358        0.082729               10   \n",
              "4            0.550456  ...         0.499762        0.060000                9   \n",
              "5            0.541267  ...         0.526862        0.060551                8   \n",
              "6            0.612771  ...         0.569127        0.076194                7   \n",
              "7            0.593997  ...         0.586809        0.069482                5   \n",
              "8            0.558179  ...         0.582167        0.071840                6   \n",
              "9            0.564754  ...         0.599737        0.070254                4   \n",
              "10           0.573466  ...         0.612202        0.071310                1   \n",
              "11           0.578239  ...         0.611539        0.073149                2   \n",
              "12           0.577996  ...         0.610939        0.072770                3   \n",
              "\n",
              "    split0_train_score  split1_train_score  split2_train_score  \\\n",
              "0             0.317828            0.273016            0.293253   \n",
              "1             0.471942            0.486390            0.428221   \n",
              "2             0.504139            0.539203            0.506091   \n",
              "3             0.537811            0.556197            0.512843   \n",
              "4             0.558294            0.602700            0.548909   \n",
              "5             0.597244            0.638304            0.560850   \n",
              "6             0.630409            0.641750            0.610214   \n",
              "7             0.639625            0.650258            0.624453   \n",
              "8             0.656615            0.660098            0.630499   \n",
              "9             0.664883            0.672163            0.639705   \n",
              "10            0.668234            0.679714            0.647120   \n",
              "11            0.671345            0.682117            0.648279   \n",
              "12            0.671360            0.682150            0.648400   \n",
              "\n",
              "    split3_train_score  split4_train_score  mean_train_score  std_train_score  \n",
              "0             0.277104            0.307070          0.293654         0.017113  \n",
              "1             0.424546            0.442831          0.450786         0.024398  \n",
              "2             0.483334            0.500285          0.506610         0.018169  \n",
              "3             0.515884            0.526837          0.529914         0.015817  \n",
              "4             0.572759            0.532854          0.563103         0.023667  \n",
              "5             0.585328            0.566251          0.589595         0.027642  \n",
              "6             0.616435            0.593670          0.618496         0.016564  \n",
              "7             0.639896            0.604609          0.631768         0.015880  \n",
              "8             0.657373            0.613538          0.643625         0.018475  \n",
              "9             0.658117            0.628221          0.652618         0.016276  \n",
              "10            0.662279            0.634998          0.658469         0.015754  \n",
              "11            0.662438            0.636605          0.660157         0.016176  \n",
              "12            0.662454            0.636774          0.660227         0.016121  \n",
              "\n",
              "[13 rows x 21 columns]"
            ]
          },
          "metadata": {},
          "execution_count": 13
        }
      ],
      "source": [
        "# cv results\n",
        "cv_results = pd.DataFrame(model_cv.cv_results_)\n",
        "cv_results"
      ]
    },
    {
      "cell_type": "code",
      "execution_count": null,
      "metadata": {
        "colab": {
          "base_uri": "https://localhost:8080/",
          "height": 421
        },
        "id": "CADpsr5Gaoma",
        "outputId": "e4f3babc-e16d-47db-e282-fc9d3df9cdf7"
      },
      "outputs": [
        {
          "output_type": "execute_result",
          "data": {
            "text/plain": [
              "<matplotlib.legend.Legend at 0x7fcae8833e10>"
            ]
          },
          "metadata": {},
          "execution_count": 14
        },
        {
          "output_type": "display_data",
          "data": {
            "image/png": "[encoded data removed]",
            "text/plain": [
              "<Figure size 1152x432 with 1 Axes>"
            ]
          },
          "metadata": {
            "needs_background": "light"
          }
        }
      ],
      "source": [
        "# plotting cv results\n",
        "plt.figure(figsize=(16,6))\n",
        "\n",
        "plt.plot(cv_results[\"param_n_features_to_select\"], cv_results[\"mean_test_score\"])\n",
        "plt.plot(cv_results[\"param_n_features_to_select\"], cv_results[\"mean_train_score\"])\n",
        "plt.xlabel('number of features')\n",
        "plt.ylabel('r-squared')\n",
        "plt.title(f\"Optimal Number of Features: {model_cv.best_params_}\")\n",
        "plt.legend(['test score', 'train score'], loc='upper left')"
      ]
    },
    {
      "cell_type": "code",
      "execution_count": null,
      "metadata": {
        "colab": {
          "base_uri": "https://localhost:8080/"
        },
        "id": "om_scLvPHcpz",
        "outputId": "8cb0ca02-fb1d-47b3-9b06-941dfe97db45"
      },
      "outputs": [
        {
          "output_type": "stream",
          "name": "stdout",
          "text": [
            "rscore:  0.7345901463879154\n",
            "MAE:  0.06253483614209279\n"
          ]
        }
      ],
      "source": [
        "# final model with cross validation and param tunning\n",
        "n_features_optimal = 11\n",
        "\n",
        "lm = LinearRegression() # create the model\n",
        "\n",
        "rfe = RFE(lm, n_features_to_select=n_features_optimal)  #Feature ranking with recursive feature elimination.  https://scikit-learn.org/stable/modules/generated/sklearn.feature_selection.RFE.html         \n",
        "rfe = rfe.fit(X_train, y_train) # fit the model\n",
        "\n",
        "# predict prices of X_test\n",
        "y_pred = rfe.predict(X_test) # make prediction\n",
        "r2 = sklearn.metrics.r2_score(y_test, y_pred) # evaluate the model\n",
        "print(\"rscore: \",r2)\n",
        "print(\"MAE: \",sklearn.metrics.mean_absolute_error(y_test, y_pred) )"
      ]
    },
    {
      "cell_type": "markdown",
      "metadata": {
        "id": "V8yJ0tk0Y3mp"
      },
      "source": [
        "**4. L1, L2, and Isotonic regression**\n",
        "\n",
        "**4.1 L1 and L2 Regularization**\n",
        "  * A regression model that uses **L1** regularization technique is called Lasso Regression and model which uses **L2** is called Ridge Regression.\n",
        "  * The key difference between these two is the penalty term.\n",
        "\n",
        "    * Ridge: \n",
        "    \n",
        "  ![](https://miro.medium.com/max/324/1*jgWOhDiGjVp-NCSPa5abmg.png)\n",
        "\n",
        "    * Lasso\n",
        "\n",
        "  ![](https://miro.medium.com/max/320/1*4MlW1d3xszVAGuXiJ1U6Fg.png)\n",
        "\n"
      ]
    },
    {
      "cell_type": "markdown",
      "metadata": {
        "id": "jGgey6fM0fY0"
      },
      "source": [
        "**Implement the L2 and L1 regularization for Linear regression using the Ridge and Lasso modules of the Sklearn library of Python.**\n",
        "\n",
        "\n",
        "**Step 1: Importing the required libraries**"
      ]
    },
    {
      "cell_type": "code",
      "execution_count": null,
      "metadata": {
        "id": "wJlDa48ZHczO"
      },
      "outputs": [],
      "source": [
        "\n",
        "import pandas as pd \n",
        "import numpy as np \n",
        "import matplotlib.pyplot as plt \n",
        "from sklearn.linear_model import LinearRegression, Ridge, Lasso \n",
        "from sklearn.model_selection import train_test_split, cross_val_score \n",
        "from statistics import mean \n"
      ]
    },
    {
      "cell_type": "markdown",
      "metadata": {
        "id": "_VzHCb1UJ5_q"
      },
      "source": [
        "**Step 2: Loading and cleaning the Data**"
      ]
    },
    {
      "cell_type": "code",
      "execution_count": null,
      "metadata": {
        "id": "fBUgM1Q40p50"
      },
      "outputs": [],
      "source": [
        "df = housing\n",
        "\n",
        "\n",
        "X_train, X_test, y_train, y_test = train_test_split(df.loc[:, df.columns != 'price']\n",
        ", df['price'],\n",
        "                                     train_size = 0.7, \n",
        "                                     test_size = 0.3, \n",
        "                                     random_state = 10)\n",
        "\n",
        "\n",
        "\n"
      ]
    },
    {
      "cell_type": "markdown",
      "metadata": {
        "id": "9l-Duqq30yqs"
      },
      "source": [
        "**Step 3: Building and evaluating the different models**"
      ]
    },
    {
      "cell_type": "markdown",
      "metadata": {
        "id": "WQZMaRF-08QB"
      },
      "source": [
        "**a) Linear Regression:**"
      ]
    },
    {
      "cell_type": "code",
      "execution_count": null,
      "metadata": {
        "colab": {
          "base_uri": "https://localhost:8080/"
        },
        "id": "QCBdUzVkM83c",
        "outputId": "6e40ac9a-2437-413b-f358-c1b155c64feb"
      },
      "outputs": [
        {
          "output_type": "stream",
          "name": "stdout",
          "text": [
            "rscore:  0.7407371209623979\n",
            "MAE:  0.06164320905293722\n"
          ]
        }
      ],
      "source": [
        "# Linear Regression\n",
        "# Bulding and fitting the Linear Regression model \n",
        "linearModel = LinearRegression() \n",
        "linearModel.fit(X_train, y_train) \n",
        "  \n",
        "# Evaluating the Linear Regression model \n",
        "print(\"rscore: \",linearModel.score(X_test, y_test)) \n",
        "print(\"MAE: \",sklearn.metrics.mean_absolute_error(y_test, linearModel.predict(X_test)) )"
      ]
    },
    {
      "cell_type": "markdown",
      "metadata": {
        "id": "SF-Tk-Zl0_Uq"
      },
      "source": [
        "**b) Ridge(L2) Regression:**"
      ]
    },
    {
      "cell_type": "code",
      "execution_count": null,
      "metadata": {
        "colab": {
          "base_uri": "https://localhost:8080/"
        },
        "id": "hDaftjWoM864",
        "outputId": "2576d922-bd9a-4ecb-89d6-a44b672f5337"
      },
      "outputs": [
        {
          "output_type": "stream",
          "name": "stdout",
          "text": [
            "0.25 : -4388.572995183651\n",
            "0.5 : -4375.752774535499\n",
            "0.75 : -4364.536958664666\n",
            "1.0 : -4354.7005096362855\n",
            "1.25 : -4346.053656747701\n",
            "1.5 : -4338.435690929914\n",
            "1.75 : -4331.709981576265\n",
            "2.0 : -4325.759948824493\n"
          ]
        }
      ],
      "source": [
        "\n",
        "# List to maintain the different cross-validation scores \n",
        "cross_val_scores_ridge = [] \n",
        "  \n",
        "# List to maintain the different values of alpha \n",
        "alpha = [] \n",
        "  \n",
        "# Separating the dependent and independent variables \n",
        "y = df['price'] \n",
        "X = df.drop('price', axis = 1) \n",
        "\n",
        "# Loop to compute the different values of cross-validation scores \n",
        "for i in range(1, 9): \n",
        "    ridgeModel = Ridge(alpha = i * 0.25)  # alpha: Regularization strength; must be a positive float.\n",
        "    ridgeModel.fit(X_train, y_train) \n",
        "    scores = cross_val_score(ridgeModel, X, y, cv = 10) \n",
        "    avg_cross_val_score = mean(scores)*100\n",
        "    cross_val_scores_ridge.append(avg_cross_val_score) \n",
        "    alpha.append(i * 0.25) \n",
        "  \n",
        "# Loop to print the different values of cross-validation scores \n",
        "for i in range(0, len(alpha)): \n",
        "    print(str(alpha[i])+' : '+str(cross_val_scores_ridge[i])) \n"
      ]
    },
    {
      "cell_type": "markdown",
      "metadata": {
        "id": "S6Kpth9-2PD3"
      },
      "source": [
        "From the above output, we can conclude that the best value of alpha for the data is 2."
      ]
    },
    {
      "cell_type": "code",
      "execution_count": null,
      "metadata": {
        "colab": {
          "base_uri": "https://localhost:8080/"
        },
        "id": "XFah58qJM8-q",
        "outputId": "e5507321-e1b1-4541-fa68-dadf80e1d424"
      },
      "outputs": [
        {
          "output_type": "stream",
          "name": "stdout",
          "text": [
            "rscore:  0.7236771764209962\n",
            "MAE:  0.06290007099248628\n"
          ]
        }
      ],
      "source": [
        "# Building and fitting the Ridge Regression model \n",
        "ridgeModelChosen = Ridge(alpha = 2) # 1st step\n",
        "ridgeModelChosen.fit(X_train, y_train)  # 2nd step\n",
        "  \n",
        "# Evaluating the Ridge Regression model \n",
        "print(\"rscore: \",ridgeModelChosen.score(X_test, y_test)) \n",
        "print(\"MAE: \",sklearn.metrics.mean_absolute_error(y_test, ridgeModelChosen.predict(X_test)) )"
      ]
    },
    {
      "cell_type": "markdown",
      "metadata": {
        "id": "WLzoH2FH2Suk"
      },
      "source": [
        "**c) Lasso(L1) Regression:**"
      ]
    },
    {
      "cell_type": "code",
      "execution_count": null,
      "metadata": {
        "colab": {
          "base_uri": "https://localhost:8080/"
        },
        "id": "jrs1WhSXM9EF",
        "outputId": "12821628-fd9f-4832-805a-4203bb0cf591"
      },
      "outputs": [
        {
          "output_type": "stream",
          "name": "stdout",
          "text": [
            "rscore:  0.3937688013441245\n",
            "MAE:  0.08831902303621335\n"
          ]
        }
      ],
      "source": [
        "# Building and fitting the Lasso Regression Model \n",
        "lassoModelChosen = Lasso(alpha = 0.01,) # 1st step\n",
        "lassoModelChosen.fit(X_train, y_train) # 2nd step\n",
        "  \n",
        "# Evaluating the Lasso Regression model \n",
        "print(\"rscore: \",lassoModelChosen.score(X_test, y_test)) \n",
        "print(\"MAE: \",sklearn.metrics.mean_absolute_error(y_test, lassoModelChosen.predict(X_test)) )"
      ]
    },
    {
      "cell_type": "code",
      "execution_count": null,
      "metadata": {
        "colab": {
          "base_uri": "https://localhost:8080/"
        },
        "id": "fP4CAJB2Nekz",
        "outputId": "94fd9636-1007-4d13-b866-5af562cc0a70"
      },
      "outputs": [
        {
          "output_type": "stream",
          "name": "stdout",
          "text": [
            "Linear Regreesion : 0.7407371209623979\n",
            "Ridge Regreesion : 0.7236771764209962\n",
            "Lasso Regression : 0.3937688013441245\n"
          ]
        }
      ],
      "source": [
        "\n",
        "# Building the two lists for visualization \n",
        "models = ['Linear Regression', 'Ridge Regression', 'Lasso Regression'] \n",
        "scores = [linearModel.score(X_test, y_test), \n",
        "         ridgeModelChosen.score(X_test, y_test), \n",
        "         lassoModelChosen.score(X_test, y_test)] \n",
        "\n",
        "# scores = [sklearn.metrics.mean_absolute_error(y_test, linearModel.predict(X_test)) , \n",
        "#          sklearn.metrics.mean_absolute_error(y_test, ridgeModelChosen.predict(X_test)), \n",
        "#         sklearn.metrics.mean_absolute_error(y_test, lassoModelChosen.predict(X_test)) ] \n",
        "   \n",
        "# Building the dictionary to compare the scores \n",
        "mapping = {} \n",
        "mapping['Linear Regreesion'] = linearModel.score(X_test, y_test) \n",
        "mapping['Ridge Regreesion'] = ridgeModelChosen.score(X_test, y_test) \n",
        "mapping['Lasso Regression'] = lassoModelChosen.score(X_test, y_test) \n",
        "# mapping['Linear Regreesion'] = sklearn.metrics.mean_absolute_error(y_test, linearModel.predict(X_test)) \n",
        "# mapping['Ridge Regreesion'] = sklearn.metrics.mean_absolute_error(y_test, ridgeModelChosen.predict(X_test)) \n",
        "# mapping['Lasso Regression'] = sklearn.metrics.mean_absolute_error(y_test, lassoModelChosen.predict(X_test)) \n",
        "\n",
        "# Printing the scores for different models \n",
        "for key, val in mapping.items(): \n",
        "    print(str(key)+' : '+str(val)) \n"
      ]
    },
    {
      "cell_type": "code",
      "execution_count": null,
      "metadata": {
        "colab": {
          "base_uri": "https://localhost:8080/",
          "height": 418
        },
        "id": "KErLvRrvNeoP",
        "outputId": "41e51a10-c077-4ecd-9ad3-119a106b5d53"
      },
      "outputs": [
        {
          "output_type": "display_data",
          "data": {
            "image/png": "[encoded data removed]",
            "text/plain": [
              "<Figure size 576x432 with 1 Axes>"
            ]
          },
          "metadata": {
            "needs_background": "light"
          }
        }
      ],
      "source": [
        "\n",
        "# set figure properties\n",
        "from matplotlib.pyplot import figure\n",
        "figure(figsize=(8, 6))\n",
        "\n",
        "# histogram bins \n",
        "# linspace returns evenly spaced numbers over a specified interval\n",
        "# bins = np.linspace(0, 40)\n",
        "\n",
        "# set titles for figure, x, y\n",
        "plt.title(\"Comparison between lr, L1, and L2: (Rscore)\",fontsize=20)\n",
        "plt.xlabel('Regression Models', fontsize=20)\n",
        "plt.ylabel('Rscore',fontsize=20)\n",
        "\n",
        "\n",
        "# plot histogram using plt.hist()\n",
        "#plt.hist(df.amount, bins, alpha=0.7, histtype='bar', ec='black')\n",
        "plt.bar(models, scores) \n",
        "\n",
        "#plt.xticks(fontsize = 20) \n",
        "#plt.yticks(fontsize = 20) \n",
        "plt.grid(True)\n",
        "plt.show() "
      ]
    },
    {
      "cell_type": "markdown",
      "metadata": {
        "id": "nGV4jP15aKUX"
      },
      "source": [
        "**4.2 Isotonic Regression:**"
      ]
    },
    {
      "cell_type": "markdown",
      "metadata": {
        "id": "ej6G7oVN5MEJ"
      },
      "source": [
        "The term “ Isotonic” originates from the Greek root words “ iso” and “ tonos.” The root “ iso” isn’t just a file format, it actually means equal. “ Tonos,” on the other hand, means to stretch. The word Isotonic can mean a multitude of things stretching from material and physical sciences to liberal arts.\n",
        "\n",
        "Equal Stretch Regression (Isotonic Regression) is a really cool model for statistical inference. \n",
        "\n",
        "![](https://miro.medium.com/max/933/1*lSz9bz1kbBDmnDmKpCJRXw.png)"
      ]
    },
    {
      "cell_type": "code",
      "execution_count": null,
      "metadata": {
        "colab": {
          "base_uri": "https://localhost:8080/"
        },
        "id": "dGHPuovGtySM",
        "outputId": "8bd17f31-6fc7-458b-ff38-ad95e2ecc618"
      },
      "outputs": [
        {
          "output_type": "stream",
          "name": "stdout",
          "text": [
            "rscore:  0.29160649414533346\n",
            "MAE:  0.10337803240863956\n"
          ]
        }
      ],
      "source": [
        "from sklearn.isotonic import IsotonicRegression\n",
        "\n",
        "df = housing\n",
        "\n",
        "X = df['area']\n",
        "y = df['price'] \n",
        "\n",
        "\n",
        "# split the data to train and test\n",
        "X_train, X_test, y_train, y_test = train_test_split(X, y, test_size = 0.2, random_state=9)\n",
        "\n",
        "# Fit IsotonicRegression and LinearRegression models\n",
        "iso_model = IsotonicRegression() # 1st step: create th model\n",
        "iso_model.fit(X_train, y_train) # 2nd step: fit the model\n",
        "iso_pred = iso_model.predict(X_test) # 3rd step for test data: make prediction\n",
        "iso_pred_tr = iso_model.predict(X_train) # 3rd step for train data\n",
        "\n",
        "#test_set_r2 = iso_model.score(y_test, iso_pred)\n",
        "print(\"rscore: \", r2_score(y_test, iso_pred))\n",
        "print(\"MAE: \",sklearn.metrics.mean_absolute_error(y_test, iso_pred) )"
      ]
    },
    {
      "cell_type": "code",
      "execution_count": null,
      "metadata": {
        "colab": {
          "base_uri": "https://localhost:8080/",
          "height": 418
        },
        "id": "7NrRIoQy8uFY",
        "outputId": "50191f4d-bd8f-4989-c49d-6cc9179ac852"
      },
      "outputs": [
        {
          "output_type": "display_data",
          "data": {
            "image/png": "[encoded data removed]",
            "text/plain": [
              "<Figure size 576x432 with 1 Axes>"
            ]
          },
          "metadata": {
            "needs_background": "light"
          }
        }
      ],
      "source": [
        "# Building the two lists for visualization \n",
        "models.append(\"Isotonic Regression\")\n",
        "scores.append(r2_score(y_test, iso_pred))\n",
        "#scores.append(sklearn.metrics.mean_absolute_error(y_test, iso_pred))\n",
        "\n",
        "# set figure properties\n",
        "from matplotlib.pyplot import figure\n",
        "figure(figsize=(8, 6))\n",
        "\n",
        "\n",
        "# set titles for figure, x, y\n",
        "plt.title(\"Comparison between lr, L1, L2, and Isotonic: (Rscore)\",fontsize=20)\n",
        "plt.xlabel('Regression Models', fontsize=20)\n",
        "plt.ylabel('Rscore',fontsize=20)\n",
        "\n",
        "\n",
        "# Bar plot\n",
        "plt.bar(models, scores) \n",
        "\n",
        "plt.grid(True)\n",
        "plt.show() "
      ]
    },
    {
      "cell_type": "code",
      "execution_count": null,
      "metadata": {
        "id": "9J9yC2b9rOjG"
      },
      "outputs": [],
      "source": [
        ""
      ]
    }
  ],
  "metadata": {
    "colab": {
      "collapsed_sections": [],
      "name": "Lab05.ipynb",
      "provenance": [],
      "include_colab_link": true
    },
    "kernelspec": {
      "display_name": "Python 3",
      "language": "python",
      "name": "python3"
    },
    "language_info": {
      "codemirror_mode": {
        "name": "ipython",
        "version": 3
      },
      "file_extension": ".py",
      "mimetype": "text/x-python",
      "name": "python",
      "nbconvert_exporter": "python",
      "pygments_lexer": "ipython3",
      "version": "3.9.2"
    }
  },
  "nbformat": 4,
  "nbformat_minor": 0
}