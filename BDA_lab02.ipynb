{
  "nbformat": 4,
  "nbformat_minor": 0,
  "metadata": {
    "colab": {
      "name": "BDA_lab02.ipynb",
      "provenance": [],
      "collapsed_sections": [],
      "include_colab_link": true
    },
    "kernelspec": {
      "display_name": "Python 3",
      "language": "python",
      "name": "python3"
    },
    "language_info": {
      "codemirror_mode": {
        "name": "ipython",
        "version": 3
      },
      "file_extension": ".py",
      "mimetype": "text/x-python",
      "name": "python",
      "nbconvert_exporter": "python",
      "pygments_lexer": "ipython3",
      "version": "3.8.8"
    }
  },
  "cells": [
    {
      "cell_type": "markdown",
      "metadata": {
        "id": "view-in-github",
        "colab_type": "text"
      },
      "source": [
        "<a href=\"https://colab.research.google.com/github/Kamraaan1/BDA/blob/main/BDA_lab02.ipynb\" target=\"_parent\"><img src=\"https://colab.research.google.com/assets/colab-badge.svg\" alt=\"Open In Colab\"/></a>"
      ]
    },
    {
      "cell_type": "markdown",
      "metadata": {
        "id": "JVEMv9B_8NaX"
      },
      "source": [
        "<div class=\"alert alert-block alert-info\"><b></b>\n",
        "<h1><center> <font color='black'>  Business Data Analytics - Practice Session 02  </font></center></h1>\n",
        "<h2><center> <font color='black'> Descriptive analysis and visualization</font></center></h3>\n",
        "<h2><center> <font color='black'> University of Tartu</font></center></h3>\n",
        "</div>"
      ]
    },
    {
      "cell_type": "markdown",
      "metadata": {
        "id": "ueyC9LUxDRhO"
      },
      "source": [
        "# Today's session agenda:\n",
        "1. **Numpy tutorial**\n",
        "2. **Descriptive analysis, data cleaning, visualization (Pandas built in methods, Matplotlib, and seaborn)**"
      ]
    },
    {
      "cell_type": "markdown",
      "metadata": {
        "id": "m-8HLTv3DkcT"
      },
      "source": [
        "### Numpy:\n",
        "\n",
        "[NumPy](https://numpy.org/) is an open source project aiming to enable numerical computing with Python. It was created in 2005, building on the early work of the Numerical and Numarray libraries. \n",
        "With the help of numpy you [can make the code more compact and smart](https://towardsdatascience.com/7-numpy-tricks-to-make-my-code-better-and-smarter-9e8a4ccf43d1)."
      ]
    },
    {
      "cell_type": "markdown",
      "metadata": {
        "id": "NMZmm2NTE3up"
      },
      "source": [
        "Install numpy:"
      ]
    },
    {
      "cell_type": "code",
      "metadata": {
        "colab": {
          "base_uri": "https://localhost:8080/"
        },
        "id": "xRbL2xZX6-c2",
        "outputId": "5471c40b-a3b7-4568-a34b-b8f2636bcb05"
      },
      "source": [
        "!pip install numpy\n",
        "#!conda install numpy"
      ],
      "execution_count": null,
      "outputs": [
        {
          "output_type": "stream",
          "name": "stdout",
          "text": [
            "Requirement already satisfied: numpy in /usr/local/lib/python3.7/dist-packages (1.19.5)\n"
          ]
        }
      ]
    },
    {
      "cell_type": "markdown",
      "metadata": {
        "id": "PmvkTyrKFLkK"
      },
      "source": [
        "1. Numpy arrays (1D, 2D, ..., nD)are great alternatives to Python **Lists**. Some of the key advantages of Numpy arrays are that they are fast, easy to work with, and give users the opportunity to perform **calculations** across entire arrays.\n",
        "\n",
        "2. In the following example, you will first create two Python lists. Then, you will import the numpy package and create numpy arrays out of the newly created lists."
      ]
    },
    {
      "cell_type": "code",
      "metadata": {
        "colab": {
          "base_uri": "https://localhost:8080/"
        },
        "id": "S0b4dyJPFQPU",
        "outputId": "0167b018-7dff-4f90-ac3b-79c07375ddd4"
      },
      "source": [
        "import numpy as np  \n",
        "\n",
        "#np?\n",
        "\n",
        "# Create 2 new lists height and weight\n",
        "height = [1.87,  1.87, 1.82, 1.91, 1.90, 1.85]\n",
        "weight = [81.65, 97.52, 95.25, 92.98, 86.18, 88.45]\n",
        "\n",
        "height_np = np.array(height)\n",
        "print(height_np)\n",
        "\n",
        "print(type(height_np))\n",
        "print(type(height))\n",
        "\n",
        "height_np + 1"
      ],
      "execution_count": null,
      "outputs": [
        {
          "output_type": "stream",
          "name": "stdout",
          "text": [
            "[1.87 1.87 1.82 1.91 1.9  1.85]\n",
            "<class 'numpy.ndarray'>\n",
            "<class 'list'>\n"
          ]
        },
        {
          "output_type": "execute_result",
          "data": {
            "text/plain": [
              "array([2.87, 2.87, 2.82, 2.91, 2.9 , 2.85])"
            ]
          },
          "metadata": {},
          "execution_count": 2
        }
      ]
    },
    {
      "cell_type": "markdown",
      "metadata": {
        "id": "gdHkezvaFVfL"
      },
      "source": [
        "3. Element-wise calculations\n",
        "\n",
        "Now we can perform element-wise calculations on height and weight. For example, you could take all 6 of the height and weight observations above, and calculate the BMI for each observation with a single equation. These operations are very fast and computationally efficient. They are particularly helpful when you have 1000s of observations in your data."
      ]
    },
    {
      "cell_type": "code",
      "metadata": {
        "colab": {
          "base_uri": "https://localhost:8080/"
        },
        "id": "0bxNHJSlFaLE",
        "outputId": "823755b3-02aa-4d38-96f2-a995ae45c273"
      },
      "source": [
        "np_weight = np.array(weight)\n",
        "np_height = np.array(height)\n",
        "\n",
        "# Calculate bmi Body Mass Index\n",
        "bmi = np_weight / np_height ** 2\n",
        "\n",
        "# Print the result\n",
        "print(bmi)"
      ],
      "execution_count": null,
      "outputs": [
        {
          "output_type": "stream",
          "name": "stdout",
          "text": [
            "[23.34925219 27.88755755 28.75558507 25.48723993 23.87257618 25.84368152]\n"
          ]
        }
      ]
    },
    {
      "cell_type": "markdown",
      "metadata": {
        "id": "kcAYdl7KDSx4"
      },
      "source": [
        "4. Subsetting"
      ]
    },
    {
      "cell_type": "markdown",
      "metadata": {
        "id": "76EaUhzhDXaf"
      },
      "source": [
        "Another great feature of Numpy arrays is the ability to subset. For instance, if you wanted to know which observations in our BMI array are above 25, we could quickly subset it to find out."
      ]
    },
    {
      "cell_type": "code",
      "metadata": {
        "colab": {
          "base_uri": "https://localhost:8080/"
        },
        "id": "Q2tnPra7DT7x",
        "outputId": "e41c6cf9-1ce7-4744-9db5-8a8e8c15cf8d"
      },
      "source": [
        "# For a boolean response\n",
        "#bmi > 25\n",
        "print(bmi > 25)\n",
        "print(bmi)\n",
        "# Print only those observations above 25\n",
        "bmi[bmi > 25]"
      ],
      "execution_count": null,
      "outputs": [
        {
          "output_type": "stream",
          "name": "stdout",
          "text": [
            "[False  True  True  True False  True]\n",
            "[23.34925219 27.88755755 28.75558507 25.48723993 23.87257618 25.84368152]\n"
          ]
        },
        {
          "output_type": "execute_result",
          "data": {
            "text/plain": [
              "array([27.88755755, 28.75558507, 25.48723993, 25.84368152])"
            ]
          },
          "metadata": {},
          "execution_count": 4
        }
      ]
    },
    {
      "cell_type": "markdown",
      "metadata": {
        "id": "PvIYYhjDELku"
      },
      "source": [
        "# Descriptive analysis and visualization"
      ]
    },
    {
      "cell_type": "markdown",
      "metadata": {
        "id": "bVXM7AdOFCah"
      },
      "source": [
        "## Pandas recap:"
      ]
    },
    {
      "cell_type": "code",
      "metadata": {
        "colab": {
          "base_uri": "https://localhost:8080/",
          "height": 400
        },
        "id": "Y0wYVugLFHDx",
        "outputId": "32107436-de82-4926-aafd-792109db4ae7"
      },
      "source": [
        "from IPython.display import Image\n",
        "Image(filename='pandas.png') \n",
        "# source: https://www.learndatasci.com/tutorials/python-pandas-tutorial-complete-introduction-for-beginners/"
      ],
      "execution_count": null,
      "outputs": [
        {
          "output_type": "execute_result",
          "data": {
            "image/png": "[encoded data removed]",
            "text/plain": [
              "<IPython.core.display.Image object>"
            ]
          },
          "metadata": {},
          "execution_count": 19
        }
      ]
    },
    {
      "cell_type": "code",
      "metadata": {
        "id": "g72rvUFeGBCk"
      },
      "source": [
        "# read csv file\n",
        "import pandas as pd\n",
        "\n",
        "movies_df = pd.read_csv(\"IMDB-Movie-Data.csv\", index_col=\"Title\")"
      ],
      "execution_count": null,
      "outputs": []
    },
    {
      "cell_type": "markdown",
      "metadata": {
        "id": "4dzaXzrRGUV_"
      },
      "source": [
        "* Viewing your data"
      ]
    },
    {
      "cell_type": "code",
      "metadata": {
        "colab": {
          "base_uri": "https://localhost:8080/",
          "height": 525
        },
        "id": "lgIsZEU9GBmG",
        "outputId": "2e5d770f-bd27-4595-86dc-990fde80041c"
      },
      "source": [
        "movies_df.head()"
      ],
      "execution_count": null,
      "outputs": [
        {
          "output_type": "execute_result",
          "data": {
            "text/html": [
              "\n",
              "  <div id=\"df-e1124cd5-dbd1-452d-a5ba-5d00594d0b20\">\n",
              "    <div class=\"colab-df-container\">\n",
              "      <div>\n",
              "<style scoped>\n",
              "    .dataframe tbody tr th:only-of-type {\n",
              "        vertical-align: middle;\n",
              "    }\n",
              "\n",
              "    .dataframe tbody tr th {\n",
              "        vertical-align: top;\n",
              "    }\n",
              "\n",
              "    .dataframe thead th {\n",
              "        text-align: right;\n",
              "    }\n",
              "</style>\n",
              "<table border=\"1\" class=\"dataframe\">\n",
              "  <thead>\n",
              "    <tr style=\"text-align: right;\">\n",
              "      <th></th>\n",
              "      <th>Rank</th>\n",
              "      <th>Genre</th>\n",
              "      <th>Description</th>\n",
              "      <th>Director</th>\n",
              "      <th>Actors</th>\n",
              "      <th>Year</th>\n",
              "      <th>Runtime (Minutes)</th>\n",
              "      <th>Rating</th>\n",
              "      <th>Votes</th>\n",
              "      <th>Revenue (Millions)</th>\n",
              "      <th>Metascore</th>\n",
              "    </tr>\n",
              "    <tr>\n",
              "      <th>Title</th>\n",
              "      <th></th>\n",
              "      <th></th>\n",
              "      <th></th>\n",
              "      <th></th>\n",
              "      <th></th>\n",
              "      <th></th>\n",
              "      <th></th>\n",
              "      <th></th>\n",
              "      <th></th>\n",
              "      <th></th>\n",
              "      <th></th>\n",
              "    </tr>\n",
              "  </thead>\n",
              "  <tbody>\n",
              "    <tr>\n",
              "      <th>Guardians of the Galaxy</th>\n",
              "      <td>1</td>\n",
              "      <td>Action,Adventure,Sci-Fi</td>\n",
              "      <td>A group of intergalactic criminals are forced ...</td>\n",
              "      <td>James Gunn</td>\n",
              "      <td>Chris Pratt, Vin Diesel, Bradley Cooper, Zoe S...</td>\n",
              "      <td>2014</td>\n",
              "      <td>121</td>\n",
              "      <td>8.1</td>\n",
              "      <td>757074</td>\n",
              "      <td>333.13</td>\n",
              "      <td>76.0</td>\n",
              "    </tr>\n",
              "    <tr>\n",
              "      <th>Prometheus</th>\n",
              "      <td>2</td>\n",
              "      <td>Adventure,Mystery,Sci-Fi</td>\n",
              "      <td>Following clues to the origin of mankind, a te...</td>\n",
              "      <td>Ridley Scott</td>\n",
              "      <td>Noomi Rapace, Logan Marshall-Green, Michael Fa...</td>\n",
              "      <td>2012</td>\n",
              "      <td>124</td>\n",
              "      <td>7.0</td>\n",
              "      <td>485820</td>\n",
              "      <td>126.46</td>\n",
              "      <td>65.0</td>\n",
              "    </tr>\n",
              "    <tr>\n",
              "      <th>Split</th>\n",
              "      <td>3</td>\n",
              "      <td>Horror,Thriller</td>\n",
              "      <td>Three girls are kidnapped by a man with a diag...</td>\n",
              "      <td>M. Night Shyamalan</td>\n",
              "      <td>James McAvoy, Anya Taylor-Joy, Haley Lu Richar...</td>\n",
              "      <td>2016</td>\n",
              "      <td>117</td>\n",
              "      <td>7.3</td>\n",
              "      <td>157606</td>\n",
              "      <td>138.12</td>\n",
              "      <td>62.0</td>\n",
              "    </tr>\n",
              "    <tr>\n",
              "      <th>Sing</th>\n",
              "      <td>4</td>\n",
              "      <td>Animation,Comedy,Family</td>\n",
              "      <td>In a city of humanoid animals, a hustling thea...</td>\n",
              "      <td>Christophe Lourdelet</td>\n",
              "      <td>Matthew McConaughey,Reese Witherspoon, Seth Ma...</td>\n",
              "      <td>2016</td>\n",
              "      <td>108</td>\n",
              "      <td>7.2</td>\n",
              "      <td>60545</td>\n",
              "      <td>270.32</td>\n",
              "      <td>59.0</td>\n",
              "    </tr>\n",
              "    <tr>\n",
              "      <th>Suicide Squad</th>\n",
              "      <td>5</td>\n",
              "      <td>Action,Adventure,Fantasy</td>\n",
              "      <td>A secret government agency recruits some of th...</td>\n",
              "      <td>David Ayer</td>\n",
              "      <td>Will Smith, Jared Leto, Margot Robbie, Viola D...</td>\n",
              "      <td>2016</td>\n",
              "      <td>123</td>\n",
              "      <td>6.2</td>\n",
              "      <td>393727</td>\n",
              "      <td>325.02</td>\n",
              "      <td>40.0</td>\n",
              "    </tr>\n",
              "  </tbody>\n",
              "</table>\n",
              "</div>\n",
              "      <button class=\"colab-df-convert\" onclick=\"convertToInteractive('df-e1124cd5-dbd1-452d-a5ba-5d00594d0b20')\"\n",
              "              title=\"Convert this dataframe to an interactive table.\"\n",
              "              style=\"display:none;\">\n",
              "        \n",
              "  <svg xmlns=\"http://www.w3.org/2000/svg\" height=\"24px\"viewBox=\"0 0 24 24\"\n",
              "       width=\"24px\">\n",
              "    <path d=\"M0 0h24v24H0V0z\" fill=\"none\"/>\n",
              "    <path d=\"M18.56 5.44l.94 2.06.94-2.06 2.06-.94-2.06-.94-.94-2.06-.94 2.06-2.06.94zm-11 1L8.5 8.5l.94-2.06 2.06-.94-2.06-.94L8.5 2.5l-.94 2.06-2.06.94zm10 10l.94 2.06.94-2.06 2.06-.94-2.06-.94-.94-2.06-.94 2.06-2.06.94z\"/><path d=\"M17.41 7.96l-1.37-1.37c-.4-.4-.92-.59-1.43-.59-.52 0-1.04.2-1.43.59L10.3 9.45l-7.72 7.72c-.78.78-.78 2.05 0 2.83L4 21.41c.39.39.9.59 1.41.59.51 0 1.02-.2 1.41-.59l7.78-7.78 2.81-2.81c.8-.78.8-2.07 0-2.86zM5.41 20L4 18.59l7.72-7.72 1.47 1.35L5.41 20z\"/>\n",
              "  </svg>\n",
              "      </button>\n",
              "      \n",
              "  <style>\n",
              "    .colab-df-container {\n",
              "      display:flex;\n",
              "      flex-wrap:wrap;\n",
              "      gap: 12px;\n",
              "    }\n",
              "\n",
              "    .colab-df-convert {\n",
              "      background-color: #E8F0FE;\n",
              "      border: none;\n",
              "      border-radius: 50%;\n",
              "      cursor: pointer;\n",
              "      display: none;\n",
              "      fill: #1967D2;\n",
              "      height: 32px;\n",
              "      padding: 0 0 0 0;\n",
              "      width: 32px;\n",
              "    }\n",
              "\n",
              "    .colab-df-convert:hover {\n",
              "      background-color: #E2EBFA;\n",
              "      box-shadow: 0px 1px 2px rgba(60, 64, 67, 0.3), 0px 1px 3px 1px rgba(60, 64, 67, 0.15);\n",
              "      fill: #174EA6;\n",
              "    }\n",
              "\n",
              "    [theme=dark] .colab-df-convert {\n",
              "      background-color: #3B4455;\n",
              "      fill: #D2E3FC;\n",
              "    }\n",
              "\n",
              "    [theme=dark] .colab-df-convert:hover {\n",
              "      background-color: #434B5C;\n",
              "      box-shadow: 0px 1px 3px 1px rgba(0, 0, 0, 0.15);\n",
              "      filter: drop-shadow(0px 1px 2px rgba(0, 0, 0, 0.3));\n",
              "      fill: #FFFFFF;\n",
              "    }\n",
              "  </style>\n",
              "\n",
              "      <script>\n",
              "        const buttonEl =\n",
              "          document.querySelector('#df-e1124cd5-dbd1-452d-a5ba-5d00594d0b20 button.colab-df-convert');\n",
              "        buttonEl.style.display =\n",
              "          google.colab.kernel.accessAllowed ? 'block' : 'none';\n",
              "\n",
              "        async function convertToInteractive(key) {\n",
              "          const element = document.querySelector('#df-e1124cd5-dbd1-452d-a5ba-5d00594d0b20');\n",
              "          const dataTable =\n",
              "            await google.colab.kernel.invokeFunction('convertToInteractive',\n",
              "                                                     [key], {});\n",
              "          if (!dataTable) return;\n",
              "\n",
              "          const docLinkHtml = 'Like what you see? Visit the ' +\n",
              "            '<a target=\"_blank\" href=https://colab.research.google.com/notebooks/data_table.ipynb>data table notebook</a>'\n",
              "            + ' to learn more about interactive tables.';\n",
              "          element.innerHTML = '';\n",
              "          dataTable['output_type'] = 'display_data';\n",
              "          await google.colab.output.renderOutput(dataTable, element);\n",
              "          const docLink = document.createElement('div');\n",
              "          docLink.innerHTML = docLinkHtml;\n",
              "          element.appendChild(docLink);\n",
              "        }\n",
              "      </script>\n",
              "    </div>\n",
              "  </div>\n",
              "  "
            ],
            "text/plain": [
              "                         Rank  ... Metascore\n",
              "Title                          ...          \n",
              "Guardians of the Galaxy     1  ...      76.0\n",
              "Prometheus                  2  ...      65.0\n",
              "Split                       3  ...      62.0\n",
              "Sing                        4  ...      59.0\n",
              "Suicide Squad               5  ...      40.0\n",
              "\n",
              "[5 rows x 11 columns]"
            ]
          },
          "metadata": {},
          "execution_count": 21
        }
      ]
    },
    {
      "cell_type": "code",
      "metadata": {
        "id": "GwQJXU8NGduN",
        "colab": {
          "base_uri": "https://localhost:8080/",
          "height": 473
        },
        "outputId": "b089849b-9998-40d3-8b73-4e874b73e01b"
      },
      "source": [
        "movies_df.tail()"
      ],
      "execution_count": null,
      "outputs": [
        {
          "output_type": "execute_result",
          "data": {
            "text/html": [
              "\n",
              "  <div id=\"df-ac6d2ac9-a444-4b7a-a32a-3d53c74733d7\">\n",
              "    <div class=\"colab-df-container\">\n",
              "      <div>\n",
              "<style scoped>\n",
              "    .dataframe tbody tr th:only-of-type {\n",
              "        vertical-align: middle;\n",
              "    }\n",
              "\n",
              "    .dataframe tbody tr th {\n",
              "        vertical-align: top;\n",
              "    }\n",
              "\n",
              "    .dataframe thead th {\n",
              "        text-align: right;\n",
              "    }\n",
              "</style>\n",
              "<table border=\"1\" class=\"dataframe\">\n",
              "  <thead>\n",
              "    <tr style=\"text-align: right;\">\n",
              "      <th></th>\n",
              "      <th>Rank</th>\n",
              "      <th>Genre</th>\n",
              "      <th>Description</th>\n",
              "      <th>Director</th>\n",
              "      <th>Actors</th>\n",
              "      <th>Year</th>\n",
              "      <th>Runtime (Minutes)</th>\n",
              "      <th>Rating</th>\n",
              "      <th>Votes</th>\n",
              "      <th>Revenue (Millions)</th>\n",
              "      <th>Metascore</th>\n",
              "    </tr>\n",
              "    <tr>\n",
              "      <th>Title</th>\n",
              "      <th></th>\n",
              "      <th></th>\n",
              "      <th></th>\n",
              "      <th></th>\n",
              "      <th></th>\n",
              "      <th></th>\n",
              "      <th></th>\n",
              "      <th></th>\n",
              "      <th></th>\n",
              "      <th></th>\n",
              "      <th></th>\n",
              "    </tr>\n",
              "  </thead>\n",
              "  <tbody>\n",
              "    <tr>\n",
              "      <th>Secret in Their Eyes</th>\n",
              "      <td>996</td>\n",
              "      <td>Crime,Drama,Mystery</td>\n",
              "      <td>A tight-knit team of rising investigators, alo...</td>\n",
              "      <td>Billy Ray</td>\n",
              "      <td>Chiwetel Ejiofor, Nicole Kidman, Julia Roberts...</td>\n",
              "      <td>2015</td>\n",
              "      <td>111</td>\n",
              "      <td>6.2</td>\n",
              "      <td>27585</td>\n",
              "      <td>NaN</td>\n",
              "      <td>45.0</td>\n",
              "    </tr>\n",
              "    <tr>\n",
              "      <th>Hostel: Part II</th>\n",
              "      <td>997</td>\n",
              "      <td>Horror</td>\n",
              "      <td>Three American college students studying abroa...</td>\n",
              "      <td>Eli Roth</td>\n",
              "      <td>Lauren German, Heather Matarazzo, Bijou Philli...</td>\n",
              "      <td>2007</td>\n",
              "      <td>94</td>\n",
              "      <td>5.5</td>\n",
              "      <td>73152</td>\n",
              "      <td>17.54</td>\n",
              "      <td>46.0</td>\n",
              "    </tr>\n",
              "    <tr>\n",
              "      <th>Step Up 2: The Streets</th>\n",
              "      <td>998</td>\n",
              "      <td>Drama,Music,Romance</td>\n",
              "      <td>Romantic sparks occur between two dance studen...</td>\n",
              "      <td>Jon M. Chu</td>\n",
              "      <td>Robert Hoffman, Briana Evigan, Cassie Ventura,...</td>\n",
              "      <td>2008</td>\n",
              "      <td>98</td>\n",
              "      <td>6.2</td>\n",
              "      <td>70699</td>\n",
              "      <td>58.01</td>\n",
              "      <td>50.0</td>\n",
              "    </tr>\n",
              "    <tr>\n",
              "      <th>Search Party</th>\n",
              "      <td>999</td>\n",
              "      <td>Adventure,Comedy</td>\n",
              "      <td>A pair of friends embark on a mission to reuni...</td>\n",
              "      <td>Scot Armstrong</td>\n",
              "      <td>Adam Pally, T.J. Miller, Thomas Middleditch,Sh...</td>\n",
              "      <td>2014</td>\n",
              "      <td>93</td>\n",
              "      <td>5.6</td>\n",
              "      <td>4881</td>\n",
              "      <td>NaN</td>\n",
              "      <td>22.0</td>\n",
              "    </tr>\n",
              "    <tr>\n",
              "      <th>Nine Lives</th>\n",
              "      <td>1000</td>\n",
              "      <td>Comedy,Family,Fantasy</td>\n",
              "      <td>A stuffy businessman finds himself trapped ins...</td>\n",
              "      <td>Barry Sonnenfeld</td>\n",
              "      <td>Kevin Spacey, Jennifer Garner, Robbie Amell,Ch...</td>\n",
              "      <td>2016</td>\n",
              "      <td>87</td>\n",
              "      <td>5.3</td>\n",
              "      <td>12435</td>\n",
              "      <td>19.64</td>\n",
              "      <td>11.0</td>\n",
              "    </tr>\n",
              "  </tbody>\n",
              "</table>\n",
              "</div>\n",
              "      <button class=\"colab-df-convert\" onclick=\"convertToInteractive('df-ac6d2ac9-a444-4b7a-a32a-3d53c74733d7')\"\n",
              "              title=\"Convert this dataframe to an interactive table.\"\n",
              "              style=\"display:none;\">\n",
              "        \n",
              "  <svg xmlns=\"http://www.w3.org/2000/svg\" height=\"24px\"viewBox=\"0 0 24 24\"\n",
              "       width=\"24px\">\n",
              "    <path d=\"M0 0h24v24H0V0z\" fill=\"none\"/>\n",
              "    <path d=\"M18.56 5.44l.94 2.06.94-2.06 2.06-.94-2.06-.94-.94-2.06-.94 2.06-2.06.94zm-11 1L8.5 8.5l.94-2.06 2.06-.94-2.06-.94L8.5 2.5l-.94 2.06-2.06.94zm10 10l.94 2.06.94-2.06 2.06-.94-2.06-.94-.94-2.06-.94 2.06-2.06.94z\"/><path d=\"M17.41 7.96l-1.37-1.37c-.4-.4-.92-.59-1.43-.59-.52 0-1.04.2-1.43.59L10.3 9.45l-7.72 7.72c-.78.78-.78 2.05 0 2.83L4 21.41c.39.39.9.59 1.41.59.51 0 1.02-.2 1.41-.59l7.78-7.78 2.81-2.81c.8-.78.8-2.07 0-2.86zM5.41 20L4 18.59l7.72-7.72 1.47 1.35L5.41 20z\"/>\n",
              "  </svg>\n",
              "      </button>\n",
              "      \n",
              "  <style>\n",
              "    .colab-df-container {\n",
              "      display:flex;\n",
              "      flex-wrap:wrap;\n",
              "      gap: 12px;\n",
              "    }\n",
              "\n",
              "    .colab-df-convert {\n",
              "      background-color: #E8F0FE;\n",
              "      border: none;\n",
              "      border-radius: 50%;\n",
              "      cursor: pointer;\n",
              "      display: none;\n",
              "      fill: #1967D2;\n",
              "      height: 32px;\n",
              "      padding: 0 0 0 0;\n",
              "      width: 32px;\n",
              "    }\n",
              "\n",
              "    .colab-df-convert:hover {\n",
              "      background-color: #E2EBFA;\n",
              "      box-shadow: 0px 1px 2px rgba(60, 64, 67, 0.3), 0px 1px 3px 1px rgba(60, 64, 67, 0.15);\n",
              "      fill: #174EA6;\n",
              "    }\n",
              "\n",
              "    [theme=dark] .colab-df-convert {\n",
              "      background-color: #3B4455;\n",
              "      fill: #D2E3FC;\n",
              "    }\n",
              "\n",
              "    [theme=dark] .colab-df-convert:hover {\n",
              "      background-color: #434B5C;\n",
              "      box-shadow: 0px 1px 3px 1px rgba(0, 0, 0, 0.15);\n",
              "      filter: drop-shadow(0px 1px 2px rgba(0, 0, 0, 0.3));\n",
              "      fill: #FFFFFF;\n",
              "    }\n",
              "  </style>\n",
              "\n",
              "      <script>\n",
              "        const buttonEl =\n",
              "          document.querySelector('#df-ac6d2ac9-a444-4b7a-a32a-3d53c74733d7 button.colab-df-convert');\n",
              "        buttonEl.style.display =\n",
              "          google.colab.kernel.accessAllowed ? 'block' : 'none';\n",
              "\n",
              "        async function convertToInteractive(key) {\n",
              "          const element = document.querySelector('#df-ac6d2ac9-a444-4b7a-a32a-3d53c74733d7');\n",
              "          const dataTable =\n",
              "            await google.colab.kernel.invokeFunction('convertToInteractive',\n",
              "                                                     [key], {});\n",
              "          if (!dataTable) return;\n",
              "\n",
              "          const docLinkHtml = 'Like what you see? Visit the ' +\n",
              "            '<a target=\"_blank\" href=https://colab.research.google.com/notebooks/data_table.ipynb>data table notebook</a>'\n",
              "            + ' to learn more about interactive tables.';\n",
              "          element.innerHTML = '';\n",
              "          dataTable['output_type'] = 'display_data';\n",
              "          await google.colab.output.renderOutput(dataTable, element);\n",
              "          const docLink = document.createElement('div');\n",
              "          docLink.innerHTML = docLinkHtml;\n",
              "          element.appendChild(docLink);\n",
              "        }\n",
              "      </script>\n",
              "    </div>\n",
              "  </div>\n",
              "  "
            ],
            "text/plain": [
              "                        Rank  ... Metascore\n",
              "Title                         ...          \n",
              "Secret in Their Eyes     996  ...      45.0\n",
              "Hostel: Part II          997  ...      46.0\n",
              "Step Up 2: The Streets   998  ...      50.0\n",
              "Search Party             999  ...      22.0\n",
              "Nine Lives              1000  ...      11.0\n",
              "\n",
              "[5 rows x 11 columns]"
            ]
          },
          "metadata": {},
          "execution_count": 22
        }
      ]
    },
    {
      "cell_type": "markdown",
      "metadata": {
        "id": "uBpTCTkNGvUu"
      },
      "source": [
        "* Getting info about your data"
      ]
    },
    {
      "cell_type": "code",
      "metadata": {
        "id": "HTzhwqwGGyvW",
        "colab": {
          "base_uri": "https://localhost:8080/"
        },
        "outputId": "9d6ce635-a825-434f-ed8c-e0e4d25b6ac0"
      },
      "source": [
        "movies_df.info()"
      ],
      "execution_count": null,
      "outputs": [
        {
          "output_type": "stream",
          "name": "stdout",
          "text": [
            "<class 'pandas.core.frame.DataFrame'>\n",
            "Index: 1000 entries, Guardians of the Galaxy to Nine Lives\n",
            "Data columns (total 11 columns):\n",
            " #   Column              Non-Null Count  Dtype  \n",
            "---  ------              --------------  -----  \n",
            " 0   Rank                1000 non-null   int64  \n",
            " 1   Genre               1000 non-null   object \n",
            " 2   Description         1000 non-null   object \n",
            " 3   Director            1000 non-null   object \n",
            " 4   Actors              1000 non-null   object \n",
            " 5   Year                1000 non-null   int64  \n",
            " 6   Runtime (Minutes)   1000 non-null   int64  \n",
            " 7   Rating              1000 non-null   float64\n",
            " 8   Votes               1000 non-null   int64  \n",
            " 9   Revenue (Millions)  872 non-null    float64\n",
            " 10  Metascore           936 non-null    float64\n",
            "dtypes: float64(3), int64(4), object(4)\n",
            "memory usage: 93.8+ KB\n"
          ]
        }
      ]
    },
    {
      "cell_type": "markdown",
      "metadata": {
        "id": "Dg3p9BdmG49M"
      },
      "source": [
        "* Understanding your variables"
      ]
    },
    {
      "cell_type": "code",
      "metadata": {
        "id": "5HKOXvjqG7xG",
        "colab": {
          "base_uri": "https://localhost:8080/",
          "height": 300
        },
        "outputId": "bf48842e-da6b-46af-d2b4-b8e1306b301f"
      },
      "source": [
        "movies_df.describe()"
      ],
      "execution_count": null,
      "outputs": [
        {
          "output_type": "execute_result",
          "data": {
            "text/html": [
              "\n",
              "  <div id=\"df-52296d69-405c-48ff-ac55-ee4971125f11\">\n",
              "    <div class=\"colab-df-container\">\n",
              "      <div>\n",
              "<style scoped>\n",
              "    .dataframe tbody tr th:only-of-type {\n",
              "        vertical-align: middle;\n",
              "    }\n",
              "\n",
              "    .dataframe tbody tr th {\n",
              "        vertical-align: top;\n",
              "    }\n",
              "\n",
              "    .dataframe thead th {\n",
              "        text-align: right;\n",
              "    }\n",
              "</style>\n",
              "<table border=\"1\" class=\"dataframe\">\n",
              "  <thead>\n",
              "    <tr style=\"text-align: right;\">\n",
              "      <th></th>\n",
              "      <th>Rank</th>\n",
              "      <th>Year</th>\n",
              "      <th>Runtime (Minutes)</th>\n",
              "      <th>Rating</th>\n",
              "      <th>Votes</th>\n",
              "      <th>Revenue (Millions)</th>\n",
              "      <th>Metascore</th>\n",
              "    </tr>\n",
              "  </thead>\n",
              "  <tbody>\n",
              "    <tr>\n",
              "      <th>count</th>\n",
              "      <td>1000.000000</td>\n",
              "      <td>1000.000000</td>\n",
              "      <td>1000.000000</td>\n",
              "      <td>1000.000000</td>\n",
              "      <td>1.000000e+03</td>\n",
              "      <td>872.000000</td>\n",
              "      <td>936.000000</td>\n",
              "    </tr>\n",
              "    <tr>\n",
              "      <th>mean</th>\n",
              "      <td>500.500000</td>\n",
              "      <td>2012.783000</td>\n",
              "      <td>113.172000</td>\n",
              "      <td>6.723200</td>\n",
              "      <td>1.698083e+05</td>\n",
              "      <td>82.956376</td>\n",
              "      <td>58.985043</td>\n",
              "    </tr>\n",
              "    <tr>\n",
              "      <th>std</th>\n",
              "      <td>288.819436</td>\n",
              "      <td>3.205962</td>\n",
              "      <td>18.810908</td>\n",
              "      <td>0.945429</td>\n",
              "      <td>1.887626e+05</td>\n",
              "      <td>103.253540</td>\n",
              "      <td>17.194757</td>\n",
              "    </tr>\n",
              "    <tr>\n",
              "      <th>min</th>\n",
              "      <td>1.000000</td>\n",
              "      <td>2006.000000</td>\n",
              "      <td>66.000000</td>\n",
              "      <td>1.900000</td>\n",
              "      <td>6.100000e+01</td>\n",
              "      <td>0.000000</td>\n",
              "      <td>11.000000</td>\n",
              "    </tr>\n",
              "    <tr>\n",
              "      <th>25%</th>\n",
              "      <td>250.750000</td>\n",
              "      <td>2010.000000</td>\n",
              "      <td>100.000000</td>\n",
              "      <td>6.200000</td>\n",
              "      <td>3.630900e+04</td>\n",
              "      <td>13.270000</td>\n",
              "      <td>47.000000</td>\n",
              "    </tr>\n",
              "    <tr>\n",
              "      <th>50%</th>\n",
              "      <td>500.500000</td>\n",
              "      <td>2014.000000</td>\n",
              "      <td>111.000000</td>\n",
              "      <td>6.800000</td>\n",
              "      <td>1.107990e+05</td>\n",
              "      <td>47.985000</td>\n",
              "      <td>59.500000</td>\n",
              "    </tr>\n",
              "    <tr>\n",
              "      <th>75%</th>\n",
              "      <td>750.250000</td>\n",
              "      <td>2016.000000</td>\n",
              "      <td>123.000000</td>\n",
              "      <td>7.400000</td>\n",
              "      <td>2.399098e+05</td>\n",
              "      <td>113.715000</td>\n",
              "      <td>72.000000</td>\n",
              "    </tr>\n",
              "    <tr>\n",
              "      <th>max</th>\n",
              "      <td>1000.000000</td>\n",
              "      <td>2016.000000</td>\n",
              "      <td>191.000000</td>\n",
              "      <td>9.000000</td>\n",
              "      <td>1.791916e+06</td>\n",
              "      <td>936.630000</td>\n",
              "      <td>100.000000</td>\n",
              "    </tr>\n",
              "  </tbody>\n",
              "</table>\n",
              "</div>\n",
              "      <button class=\"colab-df-convert\" onclick=\"convertToInteractive('df-52296d69-405c-48ff-ac55-ee4971125f11')\"\n",
              "              title=\"Convert this dataframe to an interactive table.\"\n",
              "              style=\"display:none;\">\n",
              "        \n",
              "  <svg xmlns=\"http://www.w3.org/2000/svg\" height=\"24px\"viewBox=\"0 0 24 24\"\n",
              "       width=\"24px\">\n",
              "    <path d=\"M0 0h24v24H0V0z\" fill=\"none\"/>\n",
              "    <path d=\"M18.56 5.44l.94 2.06.94-2.06 2.06-.94-2.06-.94-.94-2.06-.94 2.06-2.06.94zm-11 1L8.5 8.5l.94-2.06 2.06-.94-2.06-.94L8.5 2.5l-.94 2.06-2.06.94zm10 10l.94 2.06.94-2.06 2.06-.94-2.06-.94-.94-2.06-.94 2.06-2.06.94z\"/><path d=\"M17.41 7.96l-1.37-1.37c-.4-.4-.92-.59-1.43-.59-.52 0-1.04.2-1.43.59L10.3 9.45l-7.72 7.72c-.78.78-.78 2.05 0 2.83L4 21.41c.39.39.9.59 1.41.59.51 0 1.02-.2 1.41-.59l7.78-7.78 2.81-2.81c.8-.78.8-2.07 0-2.86zM5.41 20L4 18.59l7.72-7.72 1.47 1.35L5.41 20z\"/>\n",
              "  </svg>\n",
              "      </button>\n",
              "      \n",
              "  <style>\n",
              "    .colab-df-container {\n",
              "      display:flex;\n",
              "      flex-wrap:wrap;\n",
              "      gap: 12px;\n",
              "    }\n",
              "\n",
              "    .colab-df-convert {\n",
              "      background-color: #E8F0FE;\n",
              "      border: none;\n",
              "      border-radius: 50%;\n",
              "      cursor: pointer;\n",
              "      display: none;\n",
              "      fill: #1967D2;\n",
              "      height: 32px;\n",
              "      padding: 0 0 0 0;\n",
              "      width: 32px;\n",
              "    }\n",
              "\n",
              "    .colab-df-convert:hover {\n",
              "      background-color: #E2EBFA;\n",
              "      box-shadow: 0px 1px 2px rgba(60, 64, 67, 0.3), 0px 1px 3px 1px rgba(60, 64, 67, 0.15);\n",
              "      fill: #174EA6;\n",
              "    }\n",
              "\n",
              "    [theme=dark] .colab-df-convert {\n",
              "      background-color: #3B4455;\n",
              "      fill: #D2E3FC;\n",
              "    }\n",
              "\n",
              "    [theme=dark] .colab-df-convert:hover {\n",
              "      background-color: #434B5C;\n",
              "      box-shadow: 0px 1px 3px 1px rgba(0, 0, 0, 0.15);\n",
              "      filter: drop-shadow(0px 1px 2px rgba(0, 0, 0, 0.3));\n",
              "      fill: #FFFFFF;\n",
              "    }\n",
              "  </style>\n",
              "\n",
              "      <script>\n",
              "        const buttonEl =\n",
              "          document.querySelector('#df-52296d69-405c-48ff-ac55-ee4971125f11 button.colab-df-convert');\n",
              "        buttonEl.style.display =\n",
              "          google.colab.kernel.accessAllowed ? 'block' : 'none';\n",
              "\n",
              "        async function convertToInteractive(key) {\n",
              "          const element = document.querySelector('#df-52296d69-405c-48ff-ac55-ee4971125f11');\n",
              "          const dataTable =\n",
              "            await google.colab.kernel.invokeFunction('convertToInteractive',\n",
              "                                                     [key], {});\n",
              "          if (!dataTable) return;\n",
              "\n",
              "          const docLinkHtml = 'Like what you see? Visit the ' +\n",
              "            '<a target=\"_blank\" href=https://colab.research.google.com/notebooks/data_table.ipynb>data table notebook</a>'\n",
              "            + ' to learn more about interactive tables.';\n",
              "          element.innerHTML = '';\n",
              "          dataTable['output_type'] = 'display_data';\n",
              "          await google.colab.output.renderOutput(dataTable, element);\n",
              "          const docLink = document.createElement('div');\n",
              "          docLink.innerHTML = docLinkHtml;\n",
              "          element.appendChild(docLink);\n",
              "        }\n",
              "      </script>\n",
              "    </div>\n",
              "  </div>\n",
              "  "
            ],
            "text/plain": [
              "              Rank         Year  ...  Revenue (Millions)   Metascore\n",
              "count  1000.000000  1000.000000  ...          872.000000  936.000000\n",
              "mean    500.500000  2012.783000  ...           82.956376   58.985043\n",
              "std     288.819436     3.205962  ...          103.253540   17.194757\n",
              "min       1.000000  2006.000000  ...            0.000000   11.000000\n",
              "25%     250.750000  2010.000000  ...           13.270000   47.000000\n",
              "50%     500.500000  2014.000000  ...           47.985000   59.500000\n",
              "75%     750.250000  2016.000000  ...          113.715000   72.000000\n",
              "max    1000.000000  2016.000000  ...          936.630000  100.000000\n",
              "\n",
              "[8 rows x 7 columns]"
            ]
          },
          "metadata": {},
          "execution_count": 24
        }
      ]
    },
    {
      "cell_type": "code",
      "metadata": {
        "id": "Tb_9w9HsHFJ-",
        "colab": {
          "base_uri": "https://localhost:8080/"
        },
        "outputId": "f58142c7-339c-4fc5-e735-ece232471250"
      },
      "source": [
        "movies_df['Genre'].describe()"
      ],
      "execution_count": null,
      "outputs": [
        {
          "output_type": "execute_result",
          "data": {
            "text/plain": [
              "count                        1000\n",
              "unique                        207\n",
              "top       Action,Adventure,Sci-Fi\n",
              "freq                           50\n",
              "Name: Genre, dtype: object"
            ]
          },
          "metadata": {},
          "execution_count": 25
        }
      ]
    },
    {
      "cell_type": "code",
      "metadata": {
        "id": "jJoQ5U6DHHws",
        "colab": {
          "base_uri": "https://localhost:8080/"
        },
        "outputId": "7e857c84-ee01-4e00-9e34-a2ac4e3d7993"
      },
      "source": [
        "movies_df.Genre.value_counts()"
      ],
      "execution_count": null,
      "outputs": [
        {
          "output_type": "execute_result",
          "data": {
            "text/plain": [
              "Action,Adventure,Sci-Fi    50\n",
              "Drama                      48\n",
              "Comedy,Drama,Romance       35\n",
              "Comedy                     32\n",
              "Drama,Romance              31\n",
              "                           ..\n",
              "Action,Comedy,Family        1\n",
              "Action,Crime,Fantasy        1\n",
              "Comedy,Mystery              1\n",
              "Adventure,Comedy,Horror     1\n",
              "Comedy,Family,Fantasy       1\n",
              "Name: Genre, Length: 207, dtype: int64"
            ]
          },
          "metadata": {},
          "execution_count": 26
        }
      ]
    },
    {
      "cell_type": "markdown",
      "metadata": {
        "id": "5wXlfqkzHNJQ"
      },
      "source": [
        "## Next steps:"
      ]
    },
    {
      "cell_type": "markdown",
      "metadata": {
        "id": "ELm2OjYXHPKr"
      },
      "source": [
        "* More of statistics"
      ]
    },
    {
      "cell_type": "code",
      "metadata": {
        "id": "RcCXZ_VSq63i",
        "colab": {
          "base_uri": "https://localhost:8080/",
          "height": 269
        },
        "outputId": "501e981b-47d4-4aa0-abd8-e2d5e731da7f"
      },
      "source": [
        "movies_df.corr()\n",
        "# correlation coefficient, values lies between -1 to +1"
      ],
      "execution_count": null,
      "outputs": [
        {
          "output_type": "execute_result",
          "data": {
            "text/html": [
              "\n",
              "  <div id=\"df-8c9f6acf-ebf6-4d85-b174-7c7fd523cb8d\">\n",
              "    <div class=\"colab-df-container\">\n",
              "      <div>\n",
              "<style scoped>\n",
              "    .dataframe tbody tr th:only-of-type {\n",
              "        vertical-align: middle;\n",
              "    }\n",
              "\n",
              "    .dataframe tbody tr th {\n",
              "        vertical-align: top;\n",
              "    }\n",
              "\n",
              "    .dataframe thead th {\n",
              "        text-align: right;\n",
              "    }\n",
              "</style>\n",
              "<table border=\"1\" class=\"dataframe\">\n",
              "  <thead>\n",
              "    <tr style=\"text-align: right;\">\n",
              "      <th></th>\n",
              "      <th>Rank</th>\n",
              "      <th>Year</th>\n",
              "      <th>Runtime (Minutes)</th>\n",
              "      <th>Rating</th>\n",
              "      <th>Votes</th>\n",
              "      <th>Revenue (Millions)</th>\n",
              "      <th>Metascore</th>\n",
              "    </tr>\n",
              "  </thead>\n",
              "  <tbody>\n",
              "    <tr>\n",
              "      <th>Rank</th>\n",
              "      <td>1.000000</td>\n",
              "      <td>-0.261605</td>\n",
              "      <td>-0.221739</td>\n",
              "      <td>-0.219555</td>\n",
              "      <td>-0.283876</td>\n",
              "      <td>-0.271592</td>\n",
              "      <td>-0.191869</td>\n",
              "    </tr>\n",
              "    <tr>\n",
              "      <th>Year</th>\n",
              "      <td>-0.261605</td>\n",
              "      <td>1.000000</td>\n",
              "      <td>-0.164900</td>\n",
              "      <td>-0.211219</td>\n",
              "      <td>-0.411904</td>\n",
              "      <td>-0.126790</td>\n",
              "      <td>-0.079305</td>\n",
              "    </tr>\n",
              "    <tr>\n",
              "      <th>Runtime (Minutes)</th>\n",
              "      <td>-0.221739</td>\n",
              "      <td>-0.164900</td>\n",
              "      <td>1.000000</td>\n",
              "      <td>0.392214</td>\n",
              "      <td>0.407062</td>\n",
              "      <td>0.267953</td>\n",
              "      <td>0.211978</td>\n",
              "    </tr>\n",
              "    <tr>\n",
              "      <th>Rating</th>\n",
              "      <td>-0.219555</td>\n",
              "      <td>-0.211219</td>\n",
              "      <td>0.392214</td>\n",
              "      <td>1.000000</td>\n",
              "      <td>0.511537</td>\n",
              "      <td>0.217654</td>\n",
              "      <td>0.631897</td>\n",
              "    </tr>\n",
              "    <tr>\n",
              "      <th>Votes</th>\n",
              "      <td>-0.283876</td>\n",
              "      <td>-0.411904</td>\n",
              "      <td>0.407062</td>\n",
              "      <td>0.511537</td>\n",
              "      <td>1.000000</td>\n",
              "      <td>0.639661</td>\n",
              "      <td>0.325684</td>\n",
              "    </tr>\n",
              "    <tr>\n",
              "      <th>Revenue (Millions)</th>\n",
              "      <td>-0.271592</td>\n",
              "      <td>-0.126790</td>\n",
              "      <td>0.267953</td>\n",
              "      <td>0.217654</td>\n",
              "      <td>0.639661</td>\n",
              "      <td>1.000000</td>\n",
              "      <td>0.142397</td>\n",
              "    </tr>\n",
              "    <tr>\n",
              "      <th>Metascore</th>\n",
              "      <td>-0.191869</td>\n",
              "      <td>-0.079305</td>\n",
              "      <td>0.211978</td>\n",
              "      <td>0.631897</td>\n",
              "      <td>0.325684</td>\n",
              "      <td>0.142397</td>\n",
              "      <td>1.000000</td>\n",
              "    </tr>\n",
              "  </tbody>\n",
              "</table>\n",
              "</div>\n",
              "      <button class=\"colab-df-convert\" onclick=\"convertToInteractive('df-8c9f6acf-ebf6-4d85-b174-7c7fd523cb8d')\"\n",
              "              title=\"Convert this dataframe to an interactive table.\"\n",
              "              style=\"display:none;\">\n",
              "        \n",
              "  <svg xmlns=\"http://www.w3.org/2000/svg\" height=\"24px\"viewBox=\"0 0 24 24\"\n",
              "       width=\"24px\">\n",
              "    <path d=\"M0 0h24v24H0V0z\" fill=\"none\"/>\n",
              "    <path d=\"M18.56 5.44l.94 2.06.94-2.06 2.06-.94-2.06-.94-.94-2.06-.94 2.06-2.06.94zm-11 1L8.5 8.5l.94-2.06 2.06-.94-2.06-.94L8.5 2.5l-.94 2.06-2.06.94zm10 10l.94 2.06.94-2.06 2.06-.94-2.06-.94-.94-2.06-.94 2.06-2.06.94z\"/><path d=\"M17.41 7.96l-1.37-1.37c-.4-.4-.92-.59-1.43-.59-.52 0-1.04.2-1.43.59L10.3 9.45l-7.72 7.72c-.78.78-.78 2.05 0 2.83L4 21.41c.39.39.9.59 1.41.59.51 0 1.02-.2 1.41-.59l7.78-7.78 2.81-2.81c.8-.78.8-2.07 0-2.86zM5.41 20L4 18.59l7.72-7.72 1.47 1.35L5.41 20z\"/>\n",
              "  </svg>\n",
              "      </button>\n",
              "      \n",
              "  <style>\n",
              "    .colab-df-container {\n",
              "      display:flex;\n",
              "      flex-wrap:wrap;\n",
              "      gap: 12px;\n",
              "    }\n",
              "\n",
              "    .colab-df-convert {\n",
              "      background-color: #E8F0FE;\n",
              "      border: none;\n",
              "      border-radius: 50%;\n",
              "      cursor: pointer;\n",
              "      display: none;\n",
              "      fill: #1967D2;\n",
              "      height: 32px;\n",
              "      padding: 0 0 0 0;\n",
              "      width: 32px;\n",
              "    }\n",
              "\n",
              "    .colab-df-convert:hover {\n",
              "      background-color: #E2EBFA;\n",
              "      box-shadow: 0px 1px 2px rgba(60, 64, 67, 0.3), 0px 1px 3px 1px rgba(60, 64, 67, 0.15);\n",
              "      fill: #174EA6;\n",
              "    }\n",
              "\n",
              "    [theme=dark] .colab-df-convert {\n",
              "      background-color: #3B4455;\n",
              "      fill: #D2E3FC;\n",
              "    }\n",
              "\n",
              "    [theme=dark] .colab-df-convert:hover {\n",
              "      background-color: #434B5C;\n",
              "      box-shadow: 0px 1px 3px 1px rgba(0, 0, 0, 0.15);\n",
              "      filter: drop-shadow(0px 1px 2px rgba(0, 0, 0, 0.3));\n",
              "      fill: #FFFFFF;\n",
              "    }\n",
              "  </style>\n",
              "\n",
              "      <script>\n",
              "        const buttonEl =\n",
              "          document.querySelector('#df-8c9f6acf-ebf6-4d85-b174-7c7fd523cb8d button.colab-df-convert');\n",
              "        buttonEl.style.display =\n",
              "          google.colab.kernel.accessAllowed ? 'block' : 'none';\n",
              "\n",
              "        async function convertToInteractive(key) {\n",
              "          const element = document.querySelector('#df-8c9f6acf-ebf6-4d85-b174-7c7fd523cb8d');\n",
              "          const dataTable =\n",
              "            await google.colab.kernel.invokeFunction('convertToInteractive',\n",
              "                                                     [key], {});\n",
              "          if (!dataTable) return;\n",
              "\n",
              "          const docLinkHtml = 'Like what you see? Visit the ' +\n",
              "            '<a target=\"_blank\" href=https://colab.research.google.com/notebooks/data_table.ipynb>data table notebook</a>'\n",
              "            + ' to learn more about interactive tables.';\n",
              "          element.innerHTML = '';\n",
              "          dataTable['output_type'] = 'display_data';\n",
              "          await google.colab.output.renderOutput(dataTable, element);\n",
              "          const docLink = document.createElement('div');\n",
              "          docLink.innerHTML = docLinkHtml;\n",
              "          element.appendChild(docLink);\n",
              "        }\n",
              "      </script>\n",
              "    </div>\n",
              "  </div>\n",
              "  "
            ],
            "text/plain": [
              "                        Rank      Year  ...  Revenue (Millions)  Metascore\n",
              "Rank                1.000000 -0.261605  ...           -0.271592  -0.191869\n",
              "Year               -0.261605  1.000000  ...           -0.126790  -0.079305\n",
              "Runtime (Minutes)  -0.221739 -0.164900  ...            0.267953   0.211978\n",
              "Rating             -0.219555 -0.211219  ...            0.217654   0.631897\n",
              "Votes              -0.283876 -0.411904  ...            0.639661   0.325684\n",
              "Revenue (Millions) -0.271592 -0.126790  ...            1.000000   0.142397\n",
              "Metascore          -0.191869 -0.079305  ...            0.142397   1.000000\n",
              "\n",
              "[7 rows x 7 columns]"
            ]
          },
          "metadata": {},
          "execution_count": 27
        }
      ]
    },
    {
      "cell_type": "code",
      "metadata": {
        "id": "rORPgIpBrS2D",
        "colab": {
          "base_uri": "https://localhost:8080/"
        },
        "outputId": "3acea8c9-1e4e-4d83-e4db-04b5f227d3fa"
      },
      "source": [
        "movies_df['Revenue (Millions)'].max()"
      ],
      "execution_count": null,
      "outputs": [
        {
          "output_type": "execute_result",
          "data": {
            "text/plain": [
              "936.63"
            ]
          },
          "metadata": {},
          "execution_count": 28
        }
      ]
    },
    {
      "cell_type": "code",
      "metadata": {
        "id": "YUloG98rrZ2A",
        "colab": {
          "base_uri": "https://localhost:8080/"
        },
        "outputId": "13b00f2d-1aca-48a6-f7b6-37aaa769e61a"
      },
      "source": [
        "movies_df['Revenue (Millions)'].min()"
      ],
      "execution_count": null,
      "outputs": [
        {
          "output_type": "execute_result",
          "data": {
            "text/plain": [
              "0.0"
            ]
          },
          "metadata": {},
          "execution_count": 29
        }
      ]
    },
    {
      "cell_type": "code",
      "metadata": {
        "id": "RiIedFKJrbiZ",
        "colab": {
          "base_uri": "https://localhost:8080/"
        },
        "outputId": "838405d2-61bc-4a26-ec71-cd4eface728e"
      },
      "source": [
        "movies_df['Revenue (Millions)'].mean()"
      ],
      "execution_count": null,
      "outputs": [
        {
          "output_type": "execute_result",
          "data": {
            "text/plain": [
              "82.95637614678897"
            ]
          },
          "metadata": {},
          "execution_count": 30
        }
      ]
    },
    {
      "cell_type": "code",
      "metadata": {
        "id": "45Pcn6qOrp-0",
        "colab": {
          "base_uri": "https://localhost:8080/"
        },
        "outputId": "e347a525-9b11-478e-cd4c-6068c0b66392"
      },
      "source": [
        "movies_df['Revenue (Millions)'].median()"
      ],
      "execution_count": null,
      "outputs": [
        {
          "output_type": "execute_result",
          "data": {
            "text/plain": [
              "47.985"
            ]
          },
          "metadata": {},
          "execution_count": 31
        }
      ]
    },
    {
      "cell_type": "code",
      "metadata": {
        "id": "otqmgcS6rq8o",
        "colab": {
          "base_uri": "https://localhost:8080/"
        },
        "outputId": "157a9698-49f4-4a11-b6fd-5e655639fb13"
      },
      "source": [
        "movies_df['Revenue (Millions)'].std()"
      ],
      "execution_count": null,
      "outputs": [
        {
          "output_type": "execute_result",
          "data": {
            "text/plain": [
              "103.25354047492473"
            ]
          },
          "metadata": {},
          "execution_count": 32
        }
      ]
    },
    {
      "cell_type": "markdown",
      "metadata": {
        "id": "IfP8c0qrrxms"
      },
      "source": [
        "* Count non-null values"
      ]
    },
    {
      "cell_type": "code",
      "metadata": {
        "id": "LvHfSlM8rv3A",
        "colab": {
          "base_uri": "https://localhost:8080/"
        },
        "outputId": "1cdb2f43-5f01-4070-e6f6-12ee6e6c080c"
      },
      "source": [
        "movies_df['Revenue (Millions)'].count()"
      ],
      "execution_count": null,
      "outputs": [
        {
          "output_type": "execute_result",
          "data": {
            "text/plain": [
              "872"
            ]
          },
          "metadata": {},
          "execution_count": 33
        }
      ]
    },
    {
      "cell_type": "code",
      "metadata": {
        "colab": {
          "base_uri": "https://localhost:8080/"
        },
        "id": "R4ikJZ7-QqvR",
        "outputId": "ba964b76-fd76-4093-a6fc-f713d8ba9230"
      },
      "source": [
        "movies_df.shape"
      ],
      "execution_count": null,
      "outputs": [
        {
          "output_type": "execute_result",
          "data": {
            "text/plain": [
              "(1000, 11)"
            ]
          },
          "metadata": {},
          "execution_count": 34
        }
      ]
    },
    {
      "cell_type": "markdown",
      "metadata": {
        "id": "8wgPzxJTsG5Y"
      },
      "source": [
        "* Grouping variables"
      ]
    },
    {
      "cell_type": "code",
      "metadata": {
        "id": "3xi48OWasQsa",
        "colab": {
          "base_uri": "https://localhost:8080/"
        },
        "outputId": "dc0c19e9-dfd2-4ae5-b2a9-89de4db94310"
      },
      "source": [
        "# Return mean of Rating values, grouped by Genre\n",
        "movies_df.groupby('Genre').Rating.mean()"
      ],
      "execution_count": null,
      "outputs": [
        {
          "output_type": "execute_result",
          "data": {
            "text/plain": [
              "Genre\n",
              "Action                        6.150000\n",
              "Action,Adventure              6.400000\n",
              "Action,Adventure,Biography    7.000000\n",
              "Action,Adventure,Comedy       6.592857\n",
              "Action,Adventure,Crime        6.433333\n",
              "                                ...   \n",
              "Romance,Sci-Fi,Thriller       7.100000\n",
              "Sci-Fi                        4.950000\n",
              "Sci-Fi,Thriller               5.000000\n",
              "Thriller                      5.955556\n",
              "Thriller,War                  6.000000\n",
              "Name: Rating, Length: 207, dtype: float64"
            ]
          },
          "metadata": {},
          "execution_count": 35
        }
      ]
    },
    {
      "cell_type": "markdown",
      "metadata": {
        "id": "pdEFcVYyuSM9"
      },
      "source": [
        "* Pivot table"
      ]
    },
    {
      "cell_type": "code",
      "metadata": {
        "id": "aRXIqUBKuEtJ",
        "colab": {
          "base_uri": "https://localhost:8080/",
          "height": 425
        },
        "outputId": "d1a54352-7c24-47fb-a640-78bbd9c7edc0"
      },
      "source": [
        "table = pd.pivot_table(movies_df, index=['Director', 'Title'], values=['Rating'], aggfunc=[np.mean])\n",
        "\n",
        "table.head(10)"
      ],
      "execution_count": null,
      "outputs": [
        {
          "output_type": "execute_result",
          "data": {
            "text/html": [
              "\n",
              "  <div id=\"df-5d99246b-6999-4963-935d-0417f2bdd6f6\">\n",
              "    <div class=\"colab-df-container\">\n",
              "      <div>\n",
              "<style scoped>\n",
              "    .dataframe tbody tr th:only-of-type {\n",
              "        vertical-align: middle;\n",
              "    }\n",
              "\n",
              "    .dataframe tbody tr th {\n",
              "        vertical-align: top;\n",
              "    }\n",
              "\n",
              "    .dataframe thead tr th {\n",
              "        text-align: left;\n",
              "    }\n",
              "\n",
              "    .dataframe thead tr:last-of-type th {\n",
              "        text-align: right;\n",
              "    }\n",
              "</style>\n",
              "<table border=\"1\" class=\"dataframe\">\n",
              "  <thead>\n",
              "    <tr>\n",
              "      <th></th>\n",
              "      <th></th>\n",
              "      <th>mean</th>\n",
              "    </tr>\n",
              "    <tr>\n",
              "      <th></th>\n",
              "      <th></th>\n",
              "      <th>Rating</th>\n",
              "    </tr>\n",
              "    <tr>\n",
              "      <th>Director</th>\n",
              "      <th>Title</th>\n",
              "      <th></th>\n",
              "    </tr>\n",
              "  </thead>\n",
              "  <tbody>\n",
              "    <tr>\n",
              "      <th>Aamir Khan</th>\n",
              "      <th>Taare Zameen Par</th>\n",
              "      <td>8.5</td>\n",
              "    </tr>\n",
              "    <tr>\n",
              "      <th>Abdellatif Kechiche</th>\n",
              "      <th>La vie d'Adèle</th>\n",
              "      <td>7.8</td>\n",
              "    </tr>\n",
              "    <tr>\n",
              "      <th>Adam Leon</th>\n",
              "      <th>Tramps</th>\n",
              "      <td>6.5</td>\n",
              "    </tr>\n",
              "    <tr>\n",
              "      <th rowspan=\"4\" valign=\"top\">Adam McKay</th>\n",
              "      <th>Step Brothers</th>\n",
              "      <td>6.9</td>\n",
              "    </tr>\n",
              "    <tr>\n",
              "      <th>Talladega Nights: The Ballad of Ricky Bobby</th>\n",
              "      <td>6.6</td>\n",
              "    </tr>\n",
              "    <tr>\n",
              "      <th>The Big Short</th>\n",
              "      <td>7.8</td>\n",
              "    </tr>\n",
              "    <tr>\n",
              "      <th>The Other Guys</th>\n",
              "      <td>6.7</td>\n",
              "    </tr>\n",
              "    <tr>\n",
              "      <th rowspan=\"2\" valign=\"top\">Adam Shankman</th>\n",
              "      <th>Hairspray</th>\n",
              "      <td>6.7</td>\n",
              "    </tr>\n",
              "    <tr>\n",
              "      <th>Rock of Ages</th>\n",
              "      <td>5.9</td>\n",
              "    </tr>\n",
              "    <tr>\n",
              "      <th>Adam Wingard</th>\n",
              "      <th>Blair Witch</th>\n",
              "      <td>5.1</td>\n",
              "    </tr>\n",
              "  </tbody>\n",
              "</table>\n",
              "</div>\n",
              "      <button class=\"colab-df-convert\" onclick=\"convertToInteractive('df-5d99246b-6999-4963-935d-0417f2bdd6f6')\"\n",
              "              title=\"Convert this dataframe to an interactive table.\"\n",
              "              style=\"display:none;\">\n",
              "        \n",
              "  <svg xmlns=\"http://www.w3.org/2000/svg\" height=\"24px\"viewBox=\"0 0 24 24\"\n",
              "       width=\"24px\">\n",
              "    <path d=\"M0 0h24v24H0V0z\" fill=\"none\"/>\n",
              "    <path d=\"M18.56 5.44l.94 2.06.94-2.06 2.06-.94-2.06-.94-.94-2.06-.94 2.06-2.06.94zm-11 1L8.5 8.5l.94-2.06 2.06-.94-2.06-.94L8.5 2.5l-.94 2.06-2.06.94zm10 10l.94 2.06.94-2.06 2.06-.94-2.06-.94-.94-2.06-.94 2.06-2.06.94z\"/><path d=\"M17.41 7.96l-1.37-1.37c-.4-.4-.92-.59-1.43-.59-.52 0-1.04.2-1.43.59L10.3 9.45l-7.72 7.72c-.78.78-.78 2.05 0 2.83L4 21.41c.39.39.9.59 1.41.59.51 0 1.02-.2 1.41-.59l7.78-7.78 2.81-2.81c.8-.78.8-2.07 0-2.86zM5.41 20L4 18.59l7.72-7.72 1.47 1.35L5.41 20z\"/>\n",
              "  </svg>\n",
              "      </button>\n",
              "      \n",
              "  <style>\n",
              "    .colab-df-container {\n",
              "      display:flex;\n",
              "      flex-wrap:wrap;\n",
              "      gap: 12px;\n",
              "    }\n",
              "\n",
              "    .colab-df-convert {\n",
              "      background-color: #E8F0FE;\n",
              "      border: none;\n",
              "      border-radius: 50%;\n",
              "      cursor: pointer;\n",
              "      display: none;\n",
              "      fill: #1967D2;\n",
              "      height: 32px;\n",
              "      padding: 0 0 0 0;\n",
              "      width: 32px;\n",
              "    }\n",
              "\n",
              "    .colab-df-convert:hover {\n",
              "      background-color: #E2EBFA;\n",
              "      box-shadow: 0px 1px 2px rgba(60, 64, 67, 0.3), 0px 1px 3px 1px rgba(60, 64, 67, 0.15);\n",
              "      fill: #174EA6;\n",
              "    }\n",
              "\n",
              "    [theme=dark] .colab-df-convert {\n",
              "      background-color: #3B4455;\n",
              "      fill: #D2E3FC;\n",
              "    }\n",
              "\n",
              "    [theme=dark] .colab-df-convert:hover {\n",
              "      background-color: #434B5C;\n",
              "      box-shadow: 0px 1px 3px 1px rgba(0, 0, 0, 0.15);\n",
              "      filter: drop-shadow(0px 1px 2px rgba(0, 0, 0, 0.3));\n",
              "      fill: #FFFFFF;\n",
              "    }\n",
              "  </style>\n",
              "\n",
              "      <script>\n",
              "        const buttonEl =\n",
              "          document.querySelector('#df-5d99246b-6999-4963-935d-0417f2bdd6f6 button.colab-df-convert');\n",
              "        buttonEl.style.display =\n",
              "          google.colab.kernel.accessAllowed ? 'block' : 'none';\n",
              "\n",
              "        async function convertToInteractive(key) {\n",
              "          const element = document.querySelector('#df-5d99246b-6999-4963-935d-0417f2bdd6f6');\n",
              "          const dataTable =\n",
              "            await google.colab.kernel.invokeFunction('convertToInteractive',\n",
              "                                                     [key], {});\n",
              "          if (!dataTable) return;\n",
              "\n",
              "          const docLinkHtml = 'Like what you see? Visit the ' +\n",
              "            '<a target=\"_blank\" href=https://colab.research.google.com/notebooks/data_table.ipynb>data table notebook</a>'\n",
              "            + ' to learn more about interactive tables.';\n",
              "          element.innerHTML = '';\n",
              "          dataTable['output_type'] = 'display_data';\n",
              "          await google.colab.output.renderOutput(dataTable, element);\n",
              "          const docLink = document.createElement('div');\n",
              "          docLink.innerHTML = docLinkHtml;\n",
              "          element.appendChild(docLink);\n",
              "        }\n",
              "      </script>\n",
              "    </div>\n",
              "  </div>\n",
              "  "
            ],
            "text/plain": [
              "                                                                  mean\n",
              "                                                                Rating\n",
              "Director            Title                                             \n",
              "Aamir Khan          Taare Zameen Par                               8.5\n",
              "Abdellatif Kechiche La vie d'Adèle                                 7.8\n",
              "Adam Leon           Tramps                                         6.5\n",
              "Adam McKay          Step Brothers                                  6.9\n",
              "                    Talladega Nights: The Ballad of Ricky Bobby    6.6\n",
              "                    The Big Short                                  7.8\n",
              "                    The Other Guys                                 6.7\n",
              "Adam Shankman       Hairspray                                      6.7\n",
              "                    Rock of Ages                                   5.9\n",
              "Adam Wingard        Blair Witch                                    5.1"
            ]
          },
          "metadata": {},
          "execution_count": 36
        }
      ]
    },
    {
      "cell_type": "markdown",
      "metadata": {
        "id": "Si_CaFoY_iLI"
      },
      "source": [
        "## Data cleaning\n",
        "#### Handling duplicates\n",
        "\n",
        "\n",
        "* This dataset does not have duplicate rows, but it is always important to verify you aren't aggregating duplicate rows.\n",
        "\n",
        "\n",
        "* To demonstrate, let's simply just double up our movies DataFrame by appending it to itself:"
      ]
    },
    {
      "cell_type": "code",
      "metadata": {
        "id": "8bQUktrX_8ge",
        "colab": {
          "base_uri": "https://localhost:8080/"
        },
        "outputId": "690cecd7-bd7a-4730-b0c0-2f2ff89b10a4"
      },
      "source": [
        "temp_df = movies_df.append(movies_df)\n",
        "\n",
        "temp_df.shape"
      ],
      "execution_count": null,
      "outputs": [
        {
          "output_type": "execute_result",
          "data": {
            "text/plain": [
              "(2000, 11)"
            ]
          },
          "metadata": {},
          "execution_count": 37
        }
      ]
    },
    {
      "cell_type": "markdown",
      "metadata": {
        "id": "-uJc_ZpiAH1L"
      },
      "source": [
        "* Using **append()** will return a copy without affecting the original DataFrame. We are capturing this copy in temp so we aren't working with the real data.\n",
        "\n",
        "* Now we can try dropping duplicates:"
      ]
    },
    {
      "cell_type": "code",
      "metadata": {
        "id": "hdgNHf2pAOZv",
        "colab": {
          "base_uri": "https://localhost:8080/"
        },
        "outputId": "15e3ac9c-3089-44f4-d4ff-31285cf0b3b3"
      },
      "source": [
        "temp2_df = temp_df.drop_duplicates()\n",
        "\n",
        "temp2_df.shape"
      ],
      "execution_count": null,
      "outputs": [
        {
          "output_type": "execute_result",
          "data": {
            "text/plain": [
              "(1000, 11)"
            ]
          },
          "metadata": {},
          "execution_count": 38
        }
      ]
    },
    {
      "cell_type": "code",
      "metadata": {
        "id": "oqtpS7EOAaA1",
        "colab": {
          "base_uri": "https://localhost:8080/"
        },
        "outputId": "551b61ae-f51d-4fa7-ec6d-70ba02065cf2"
      },
      "source": [
        "temp_df.shape"
      ],
      "execution_count": null,
      "outputs": [
        {
          "output_type": "execute_result",
          "data": {
            "text/plain": [
              "(2000, 11)"
            ]
          },
          "metadata": {},
          "execution_count": 39
        }
      ]
    },
    {
      "cell_type": "code",
      "metadata": {
        "id": "6Wd34JAwAcj7",
        "colab": {
          "base_uri": "https://localhost:8080/"
        },
        "outputId": "d486ca17-98cb-4664-e223-bc7cb7abf7fd"
      },
      "source": [
        "temp_df.drop_duplicates(inplace=True)\n",
        "temp_df.shape"
      ],
      "execution_count": null,
      "outputs": [
        {
          "output_type": "execute_result",
          "data": {
            "text/plain": [
              "(1000, 11)"
            ]
          },
          "metadata": {},
          "execution_count": 40
        }
      ]
    },
    {
      "cell_type": "markdown",
      "metadata": {
        "id": "HclI1SDnAVql"
      },
      "source": [
        "* Just like append(), the **drop_duplicates()** method will also return a copy of your DataFrame, but this time with duplicates removed. Calling .shape confirms we're back to the 1000 rows of our original dataset.\n",
        "\n",
        "* Now our temp_df will have the transformed data automatically.\n",
        "\n",
        "* Another important argument for `drop_duplicates()` is **keep**, which has three possible options:\n",
        "\n",
        "    * first: (default) Drop duplicates except for the first occurrence.\n",
        "    * last: Drop duplicates except for the last occurrence.\n",
        "    * False: Drop all duplicates."
      ]
    },
    {
      "cell_type": "code",
      "metadata": {
        "id": "DSLhCTxLzcKq",
        "colab": {
          "base_uri": "https://localhost:8080/"
        },
        "outputId": "25352542-f7b1-4d4d-f4b2-c25bb9d1e591"
      },
      "source": [
        "temp_df = movies_df.append(movies_df)  # make a new copy\n",
        "\n",
        "temp_df.drop_duplicates(inplace=True, keep=False)\n",
        "\n",
        "temp_df.shape"
      ],
      "execution_count": null,
      "outputs": [
        {
          "output_type": "execute_result",
          "data": {
            "text/plain": [
              "(0, 11)"
            ]
          },
          "metadata": {},
          "execution_count": 41
        }
      ]
    },
    {
      "cell_type": "markdown",
      "metadata": {
        "id": "2lfEgbL4Asho"
      },
      "source": [
        "### Column cleanup"
      ]
    },
    {
      "cell_type": "markdown",
      "metadata": {
        "id": "rMVfm8CDA2dm"
      },
      "source": [
        "* Do you remember how we looked for column names in the previous lab:"
      ]
    },
    {
      "cell_type": "code",
      "metadata": {
        "id": "7gzslGVAA-4S",
        "colab": {
          "base_uri": "https://localhost:8080/"
        },
        "outputId": "00763f3d-85ed-412d-a68c-94ae9f14510a"
      },
      "source": [
        "movies_df.columns"
      ],
      "execution_count": null,
      "outputs": [
        {
          "output_type": "execute_result",
          "data": {
            "text/plain": [
              "Index(['Rank', 'Genre', 'Description', 'Director', 'Actors', 'Year',\n",
              "       'Runtime (Minutes)', 'Rating', 'Votes', 'Revenue (Millions)',\n",
              "       'Metascore'],\n",
              "      dtype='object')"
            ]
          },
          "metadata": {},
          "execution_count": 42
        }
      ]
    },
    {
      "cell_type": "markdown",
      "metadata": {
        "id": "aMkTY18BBDCU"
      },
      "source": [
        "* We can use the **.rename()** method to rename certain or all columns via a dict. We don't want parentheses, so let's rename those:"
      ]
    },
    {
      "cell_type": "code",
      "metadata": {
        "id": "bc3w1M2xBQ6o",
        "colab": {
          "base_uri": "https://localhost:8080/"
        },
        "outputId": "551605fb-07d5-4d9d-90ff-76a75c5aa673"
      },
      "source": [
        "movies_df.rename(columns={\n",
        "        'Runtime (Minutes)': 'Runtime', \n",
        "        'Revenue (Millions)': 'Revenue_millions'\n",
        "    }, inplace=True)\n",
        "\n",
        "movies_df.columns"
      ],
      "execution_count": null,
      "outputs": [
        {
          "output_type": "execute_result",
          "data": {
            "text/plain": [
              "Index(['Rank', 'Genre', 'Description', 'Director', 'Actors', 'Year', 'Runtime',\n",
              "       'Rating', 'Votes', 'Revenue_millions', 'Metascore'],\n",
              "      dtype='object')"
            ]
          },
          "metadata": {},
          "execution_count": 43
        }
      ]
    },
    {
      "cell_type": "markdown",
      "metadata": {
        "id": "xogEAQ5oBWHD"
      },
      "source": [
        "* In case we want to lowercase all names we need instead of using .rename() we could also set a list of names to the columns like so:"
      ]
    },
    {
      "cell_type": "code",
      "metadata": {
        "id": "YkZySXz2BwQZ",
        "colab": {
          "base_uri": "https://localhost:8080/"
        },
        "outputId": "7d3024f9-34e0-49a7-df6d-3c1b3c099e8e"
      },
      "source": [
        "movies_df.columns = [col.lower() for col in movies_df]\n",
        "\n",
        "movies_df.columns"
      ],
      "execution_count": null,
      "outputs": [
        {
          "output_type": "execute_result",
          "data": {
            "text/plain": [
              "Index(['rank', 'genre', 'description', 'director', 'actors', 'year', 'runtime',\n",
              "       'rating', 'votes', 'revenue_millions', 'metascore'],\n",
              "      dtype='object')"
            ]
          },
          "metadata": {},
          "execution_count": 44
        }
      ]
    },
    {
      "cell_type": "markdown",
      "metadata": {
        "id": "Kor_5BoaBi8D"
      },
      "source": [
        "Another option is to define all column names in lowercase manually (and use columns = [...])"
      ]
    },
    {
      "cell_type": "markdown",
      "metadata": {
        "id": "qS58N2l5KPOb"
      },
      "source": [
        "### How to work with missing values\n",
        "\n",
        "* When exploring data, you’ll most likely encounter **missing or null values**, which are essentially placeholders for non-existent values. Most commonly you'll see Python's `None` or NumPy's `np.nan`, each of which are handled differently in some situations.\n",
        "\n",
        "\n",
        "* There are two options in dealing with nulls:\n",
        "\n",
        "    * Get rid of rows or columns with nulls\n",
        "    * Replace nulls with non-null values, a technique known as imputation"
      ]
    },
    {
      "cell_type": "code",
      "metadata": {
        "id": "Gdz7JoHhc0rC",
        "colab": {
          "base_uri": "https://localhost:8080/"
        },
        "outputId": "e3d67d8e-be04-4342-9f5d-7c426ccc4751"
      },
      "source": [
        "movies_df.info()"
      ],
      "execution_count": null,
      "outputs": [
        {
          "output_type": "stream",
          "name": "stdout",
          "text": [
            "<class 'pandas.core.frame.DataFrame'>\n",
            "Index: 1000 entries, Guardians of the Galaxy to Nine Lives\n",
            "Data columns (total 11 columns):\n",
            " #   Column            Non-Null Count  Dtype  \n",
            "---  ------            --------------  -----  \n",
            " 0   rank              1000 non-null   int64  \n",
            " 1   genre             1000 non-null   object \n",
            " 2   description       1000 non-null   object \n",
            " 3   director          1000 non-null   object \n",
            " 4   actors            1000 non-null   object \n",
            " 5   year              1000 non-null   int64  \n",
            " 6   runtime           1000 non-null   int64  \n",
            " 7   rating            1000 non-null   float64\n",
            " 8   votes             1000 non-null   int64  \n",
            " 9   revenue_millions  872 non-null    float64\n",
            " 10  metascore         936 non-null    float64\n",
            "dtypes: float64(3), int64(4), object(4)\n",
            "memory usage: 93.8+ KB\n"
          ]
        }
      ]
    },
    {
      "cell_type": "code",
      "metadata": {
        "id": "V9U_-5aTc47L",
        "colab": {
          "base_uri": "https://localhost:8080/",
          "height": 455
        },
        "outputId": "89daa8cf-4cb5-4ca0-ed4e-0375bab7f236"
      },
      "source": [
        "movies_df.isnull()"
      ],
      "execution_count": null,
      "outputs": [
        {
          "output_type": "execute_result",
          "data": {
            "text/html": [
              "\n",
              "  <div id=\"df-855b2568-edac-45a7-8200-ea14fe0885ce\">\n",
              "    <div class=\"colab-df-container\">\n",
              "      <div>\n",
              "<style scoped>\n",
              "    .dataframe tbody tr th:only-of-type {\n",
              "        vertical-align: middle;\n",
              "    }\n",
              "\n",
              "    .dataframe tbody tr th {\n",
              "        vertical-align: top;\n",
              "    }\n",
              "\n",
              "    .dataframe thead th {\n",
              "        text-align: right;\n",
              "    }\n",
              "</style>\n",
              "<table border=\"1\" class=\"dataframe\">\n",
              "  <thead>\n",
              "    <tr style=\"text-align: right;\">\n",
              "      <th></th>\n",
              "      <th>rank</th>\n",
              "      <th>genre</th>\n",
              "      <th>description</th>\n",
              "      <th>director</th>\n",
              "      <th>actors</th>\n",
              "      <th>year</th>\n",
              "      <th>runtime</th>\n",
              "      <th>rating</th>\n",
              "      <th>votes</th>\n",
              "      <th>revenue_millions</th>\n",
              "      <th>metascore</th>\n",
              "    </tr>\n",
              "    <tr>\n",
              "      <th>Title</th>\n",
              "      <th></th>\n",
              "      <th></th>\n",
              "      <th></th>\n",
              "      <th></th>\n",
              "      <th></th>\n",
              "      <th></th>\n",
              "      <th></th>\n",
              "      <th></th>\n",
              "      <th></th>\n",
              "      <th></th>\n",
              "      <th></th>\n",
              "    </tr>\n",
              "  </thead>\n",
              "  <tbody>\n",
              "    <tr>\n",
              "      <th>Guardians of the Galaxy</th>\n",
              "      <td>False</td>\n",
              "      <td>False</td>\n",
              "      <td>False</td>\n",
              "      <td>False</td>\n",
              "      <td>False</td>\n",
              "      <td>False</td>\n",
              "      <td>False</td>\n",
              "      <td>False</td>\n",
              "      <td>False</td>\n",
              "      <td>False</td>\n",
              "      <td>False</td>\n",
              "    </tr>\n",
              "    <tr>\n",
              "      <th>Prometheus</th>\n",
              "      <td>False</td>\n",
              "      <td>False</td>\n",
              "      <td>False</td>\n",
              "      <td>False</td>\n",
              "      <td>False</td>\n",
              "      <td>False</td>\n",
              "      <td>False</td>\n",
              "      <td>False</td>\n",
              "      <td>False</td>\n",
              "      <td>False</td>\n",
              "      <td>False</td>\n",
              "    </tr>\n",
              "    <tr>\n",
              "      <th>Split</th>\n",
              "      <td>False</td>\n",
              "      <td>False</td>\n",
              "      <td>False</td>\n",
              "      <td>False</td>\n",
              "      <td>False</td>\n",
              "      <td>False</td>\n",
              "      <td>False</td>\n",
              "      <td>False</td>\n",
              "      <td>False</td>\n",
              "      <td>False</td>\n",
              "      <td>False</td>\n",
              "    </tr>\n",
              "    <tr>\n",
              "      <th>Sing</th>\n",
              "      <td>False</td>\n",
              "      <td>False</td>\n",
              "      <td>False</td>\n",
              "      <td>False</td>\n",
              "      <td>False</td>\n",
              "      <td>False</td>\n",
              "      <td>False</td>\n",
              "      <td>False</td>\n",
              "      <td>False</td>\n",
              "      <td>False</td>\n",
              "      <td>False</td>\n",
              "    </tr>\n",
              "    <tr>\n",
              "      <th>Suicide Squad</th>\n",
              "      <td>False</td>\n",
              "      <td>False</td>\n",
              "      <td>False</td>\n",
              "      <td>False</td>\n",
              "      <td>False</td>\n",
              "      <td>False</td>\n",
              "      <td>False</td>\n",
              "      <td>False</td>\n",
              "      <td>False</td>\n",
              "      <td>False</td>\n",
              "      <td>False</td>\n",
              "    </tr>\n",
              "    <tr>\n",
              "      <th>...</th>\n",
              "      <td>...</td>\n",
              "      <td>...</td>\n",
              "      <td>...</td>\n",
              "      <td>...</td>\n",
              "      <td>...</td>\n",
              "      <td>...</td>\n",
              "      <td>...</td>\n",
              "      <td>...</td>\n",
              "      <td>...</td>\n",
              "      <td>...</td>\n",
              "      <td>...</td>\n",
              "    </tr>\n",
              "    <tr>\n",
              "      <th>Secret in Their Eyes</th>\n",
              "      <td>False</td>\n",
              "      <td>False</td>\n",
              "      <td>False</td>\n",
              "      <td>False</td>\n",
              "      <td>False</td>\n",
              "      <td>False</td>\n",
              "      <td>False</td>\n",
              "      <td>False</td>\n",
              "      <td>False</td>\n",
              "      <td>True</td>\n",
              "      <td>False</td>\n",
              "    </tr>\n",
              "    <tr>\n",
              "      <th>Hostel: Part II</th>\n",
              "      <td>False</td>\n",
              "      <td>False</td>\n",
              "      <td>False</td>\n",
              "      <td>False</td>\n",
              "      <td>False</td>\n",
              "      <td>False</td>\n",
              "      <td>False</td>\n",
              "      <td>False</td>\n",
              "      <td>False</td>\n",
              "      <td>False</td>\n",
              "      <td>False</td>\n",
              "    </tr>\n",
              "    <tr>\n",
              "      <th>Step Up 2: The Streets</th>\n",
              "      <td>False</td>\n",
              "      <td>False</td>\n",
              "      <td>False</td>\n",
              "      <td>False</td>\n",
              "      <td>False</td>\n",
              "      <td>False</td>\n",
              "      <td>False</td>\n",
              "      <td>False</td>\n",
              "      <td>False</td>\n",
              "      <td>False</td>\n",
              "      <td>False</td>\n",
              "    </tr>\n",
              "    <tr>\n",
              "      <th>Search Party</th>\n",
              "      <td>False</td>\n",
              "      <td>False</td>\n",
              "      <td>False</td>\n",
              "      <td>False</td>\n",
              "      <td>False</td>\n",
              "      <td>False</td>\n",
              "      <td>False</td>\n",
              "      <td>False</td>\n",
              "      <td>False</td>\n",
              "      <td>True</td>\n",
              "      <td>False</td>\n",
              "    </tr>\n",
              "    <tr>\n",
              "      <th>Nine Lives</th>\n",
              "      <td>False</td>\n",
              "      <td>False</td>\n",
              "      <td>False</td>\n",
              "      <td>False</td>\n",
              "      <td>False</td>\n",
              "      <td>False</td>\n",
              "      <td>False</td>\n",
              "      <td>False</td>\n",
              "      <td>False</td>\n",
              "      <td>False</td>\n",
              "      <td>False</td>\n",
              "    </tr>\n",
              "  </tbody>\n",
              "</table>\n",
              "<p>1000 rows × 11 columns</p>\n",
              "</div>\n",
              "      <button class=\"colab-df-convert\" onclick=\"convertToInteractive('df-855b2568-edac-45a7-8200-ea14fe0885ce')\"\n",
              "              title=\"Convert this dataframe to an interactive table.\"\n",
              "              style=\"display:none;\">\n",
              "        \n",
              "  <svg xmlns=\"http://www.w3.org/2000/svg\" height=\"24px\"viewBox=\"0 0 24 24\"\n",
              "       width=\"24px\">\n",
              "    <path d=\"M0 0h24v24H0V0z\" fill=\"none\"/>\n",
              "    <path d=\"M18.56 5.44l.94 2.06.94-2.06 2.06-.94-2.06-.94-.94-2.06-.94 2.06-2.06.94zm-11 1L8.5 8.5l.94-2.06 2.06-.94-2.06-.94L8.5 2.5l-.94 2.06-2.06.94zm10 10l.94 2.06.94-2.06 2.06-.94-2.06-.94-.94-2.06-.94 2.06-2.06.94z\"/><path d=\"M17.41 7.96l-1.37-1.37c-.4-.4-.92-.59-1.43-.59-.52 0-1.04.2-1.43.59L10.3 9.45l-7.72 7.72c-.78.78-.78 2.05 0 2.83L4 21.41c.39.39.9.59 1.41.59.51 0 1.02-.2 1.41-.59l7.78-7.78 2.81-2.81c.8-.78.8-2.07 0-2.86zM5.41 20L4 18.59l7.72-7.72 1.47 1.35L5.41 20z\"/>\n",
              "  </svg>\n",
              "      </button>\n",
              "      \n",
              "  <style>\n",
              "    .colab-df-container {\n",
              "      display:flex;\n",
              "      flex-wrap:wrap;\n",
              "      gap: 12px;\n",
              "    }\n",
              "\n",
              "    .colab-df-convert {\n",
              "      background-color: #E8F0FE;\n",
              "      border: none;\n",
              "      border-radius: 50%;\n",
              "      cursor: pointer;\n",
              "      display: none;\n",
              "      fill: #1967D2;\n",
              "      height: 32px;\n",
              "      padding: 0 0 0 0;\n",
              "      width: 32px;\n",
              "    }\n",
              "\n",
              "    .colab-df-convert:hover {\n",
              "      background-color: #E2EBFA;\n",
              "      box-shadow: 0px 1px 2px rgba(60, 64, 67, 0.3), 0px 1px 3px 1px rgba(60, 64, 67, 0.15);\n",
              "      fill: #174EA6;\n",
              "    }\n",
              "\n",
              "    [theme=dark] .colab-df-convert {\n",
              "      background-color: #3B4455;\n",
              "      fill: #D2E3FC;\n",
              "    }\n",
              "\n",
              "    [theme=dark] .colab-df-convert:hover {\n",
              "      background-color: #434B5C;\n",
              "      box-shadow: 0px 1px 3px 1px rgba(0, 0, 0, 0.15);\n",
              "      filter: drop-shadow(0px 1px 2px rgba(0, 0, 0, 0.3));\n",
              "      fill: #FFFFFF;\n",
              "    }\n",
              "  </style>\n",
              "\n",
              "      <script>\n",
              "        const buttonEl =\n",
              "          document.querySelector('#df-855b2568-edac-45a7-8200-ea14fe0885ce button.colab-df-convert');\n",
              "        buttonEl.style.display =\n",
              "          google.colab.kernel.accessAllowed ? 'block' : 'none';\n",
              "\n",
              "        async function convertToInteractive(key) {\n",
              "          const element = document.querySelector('#df-855b2568-edac-45a7-8200-ea14fe0885ce');\n",
              "          const dataTable =\n",
              "            await google.colab.kernel.invokeFunction('convertToInteractive',\n",
              "                                                     [key], {});\n",
              "          if (!dataTable) return;\n",
              "\n",
              "          const docLinkHtml = 'Like what you see? Visit the ' +\n",
              "            '<a target=\"_blank\" href=https://colab.research.google.com/notebooks/data_table.ipynb>data table notebook</a>'\n",
              "            + ' to learn more about interactive tables.';\n",
              "          element.innerHTML = '';\n",
              "          dataTable['output_type'] = 'display_data';\n",
              "          await google.colab.output.renderOutput(dataTable, element);\n",
              "          const docLink = document.createElement('div');\n",
              "          docLink.innerHTML = docLinkHtml;\n",
              "          element.appendChild(docLink);\n",
              "        }\n",
              "      </script>\n",
              "    </div>\n",
              "  </div>\n",
              "  "
            ],
            "text/plain": [
              "                          rank  genre  ...  revenue_millions  metascore\n",
              "Title                                  ...                             \n",
              "Guardians of the Galaxy  False  False  ...             False      False\n",
              "Prometheus               False  False  ...             False      False\n",
              "Split                    False  False  ...             False      False\n",
              "Sing                     False  False  ...             False      False\n",
              "Suicide Squad            False  False  ...             False      False\n",
              "...                        ...    ...  ...               ...        ...\n",
              "Secret in Their Eyes     False  False  ...              True      False\n",
              "Hostel: Part II          False  False  ...             False      False\n",
              "Step Up 2: The Streets   False  False  ...             False      False\n",
              "Search Party             False  False  ...              True      False\n",
              "Nine Lives               False  False  ...             False      False\n",
              "\n",
              "[1000 rows x 11 columns]"
            ]
          },
          "metadata": {},
          "execution_count": 46
        }
      ]
    },
    {
      "cell_type": "markdown",
      "metadata": {
        "id": "M18fDFJXc8fZ"
      },
      "source": [
        "* Notice **isnull()** returns a DataFrame where each cell is either `True or False` depending on that cell's null status.\n",
        "\n",
        "* To count the number of nulls in each column we use an aggregate function for `summing`:"
      ]
    },
    {
      "cell_type": "code",
      "metadata": {
        "id": "Qvnm-Vpzc_TB",
        "colab": {
          "base_uri": "https://localhost:8080/"
        },
        "outputId": "8c97c98d-b3f8-44f6-8427-558cb05c180b"
      },
      "source": [
        "movies_df.isnull().sum()"
      ],
      "execution_count": null,
      "outputs": [
        {
          "output_type": "execute_result",
          "data": {
            "text/plain": [
              "rank                  0\n",
              "genre                 0\n",
              "description           0\n",
              "director              0\n",
              "actors                0\n",
              "year                  0\n",
              "runtime               0\n",
              "rating                0\n",
              "votes                 0\n",
              "revenue_millions    128\n",
              "metascore            64\n",
              "dtype: int64"
            ]
          },
          "metadata": {},
          "execution_count": 47
        }
      ]
    },
    {
      "cell_type": "code",
      "source": [
        "movies_df.isnull().sum().sum()"
      ],
      "metadata": {
        "colab": {
          "base_uri": "https://localhost:8080/"
        },
        "id": "vCOXE0jR8LEK",
        "outputId": "cc87c35d-2244-45b9-834b-f90b58d5b357"
      },
      "execution_count": null,
      "outputs": [
        {
          "output_type": "execute_result",
          "data": {
            "text/plain": [
              "192"
            ]
          },
          "metadata": {},
          "execution_count": 48
        }
      ]
    },
    {
      "cell_type": "markdown",
      "metadata": {
        "id": "-I6TeLT4dGAc"
      },
      "source": [
        "* We can see now that our data has 128 missing values for revenue_millions and 64 missing values for metascore.\n",
        "\n",
        "#### Removing null values\n",
        "\n",
        "* Data Scientists and Analysts regularly face the dilemma of dropping or imputing null values, and is a decision that requires intimate knowledge of your data and its context. Overall, removing null data is only suggested if you have a small amount of missing data.\n",
        "\n",
        "* Remove nulls is pretty simple:"
      ]
    },
    {
      "cell_type": "code",
      "metadata": {
        "id": "A1CjJ9Iwc_d9"
      },
      "source": [
        "movies_df.dropna(inplace = True)"
      ],
      "execution_count": null,
      "outputs": []
    },
    {
      "cell_type": "code",
      "metadata": {
        "colab": {
          "base_uri": "https://localhost:8080/"
        },
        "id": "_-HZglI6U3SQ",
        "outputId": "ff22188e-c494-443f-a573-caa2b19c211e"
      },
      "source": [
        "movies_df.isnull().sum()"
      ],
      "execution_count": null,
      "outputs": [
        {
          "output_type": "execute_result",
          "data": {
            "text/plain": [
              "rank                0\n",
              "genre               0\n",
              "description         0\n",
              "director            0\n",
              "actors              0\n",
              "year                0\n",
              "runtime             0\n",
              "rating              0\n",
              "votes               0\n",
              "revenue_millions    0\n",
              "metascore           0\n",
              "dtype: int64"
            ]
          },
          "metadata": {},
          "execution_count": 50
        }
      ]
    },
    {
      "cell_type": "code",
      "source": [
        "movies_df.info()"
      ],
      "metadata": {
        "colab": {
          "base_uri": "https://localhost:8080/"
        },
        "id": "WN6kMcH5813J",
        "outputId": "3481d428-f056-479d-c6cb-b9ad0c3fe87a"
      },
      "execution_count": null,
      "outputs": [
        {
          "output_type": "stream",
          "name": "stdout",
          "text": [
            "<class 'pandas.core.frame.DataFrame'>\n",
            "Index: 838 entries, Guardians of the Galaxy to Nine Lives\n",
            "Data columns (total 11 columns):\n",
            " #   Column            Non-Null Count  Dtype  \n",
            "---  ------            --------------  -----  \n",
            " 0   rank              838 non-null    int64  \n",
            " 1   genre             838 non-null    object \n",
            " 2   description       838 non-null    object \n",
            " 3   director          838 non-null    object \n",
            " 4   actors            838 non-null    object \n",
            " 5   year              838 non-null    int64  \n",
            " 6   runtime           838 non-null    int64  \n",
            " 7   rating            838 non-null    float64\n",
            " 8   votes             838 non-null    int64  \n",
            " 9   revenue_millions  838 non-null    float64\n",
            " 10  metascore         838 non-null    float64\n",
            "dtypes: float64(3), int64(4), object(4)\n",
            "memory usage: 78.6+ KB\n"
          ]
        }
      ]
    },
    {
      "cell_type": "markdown",
      "metadata": {
        "id": "vJZEVlqXdSoy"
      },
      "source": [
        "* This operation will delete any row with at least a single null value, but it will return a new DataFrame without altering the original one. You could specify `inplace=True` in this method as well.\n",
        "\n",
        "\n",
        "* So in the case of our dataset, this operation would remove 128 rows where revenue_millions is null and 64 rows where metascore is null. This obviously seems like a waste since there's perfectly good data in the other columns of those dropped rows. That's why we'll look at **imputation next.**\n",
        "\n",
        "* Other than just dropping rows, you can also drop columns with null values by setting **axis=1:**"
      ]
    },
    {
      "cell_type": "code",
      "source": [
        "movies_df = pd.read_csv(\"IMDB-Movie-Data.csv\", index_col=\"Title\")\n",
        "movies_df.isnull().sum()"
      ],
      "metadata": {
        "colab": {
          "base_uri": "https://localhost:8080/"
        },
        "id": "KADrUft49kNv",
        "outputId": "5169e535-26e1-48ac-bd69-c811044c4747"
      },
      "execution_count": null,
      "outputs": [
        {
          "output_type": "execute_result",
          "data": {
            "text/plain": [
              "Rank                    0\n",
              "Genre                   0\n",
              "Description             0\n",
              "Director                0\n",
              "Actors                  0\n",
              "Year                    0\n",
              "Runtime (Minutes)       0\n",
              "Rating                  0\n",
              "Votes                   0\n",
              "Revenue (Millions)    128\n",
              "Metascore              64\n",
              "dtype: int64"
            ]
          },
          "metadata": {},
          "execution_count": 52
        }
      ]
    },
    {
      "cell_type": "code",
      "metadata": {
        "id": "IKilOVxJdWt5"
      },
      "source": [
        "new_df = movies_df.dropna(axis=1) # axis = 0, means del the rows, axis = 1 means del the columns"
      ],
      "execution_count": null,
      "outputs": []
    },
    {
      "cell_type": "code",
      "source": [
        "new_df.columns"
      ],
      "metadata": {
        "colab": {
          "base_uri": "https://localhost:8080/"
        },
        "id": "CYTz63_m9zeP",
        "outputId": "b331d01e-7ac4-4563-dec3-ca5846679a63"
      },
      "execution_count": null,
      "outputs": [
        {
          "output_type": "execute_result",
          "data": {
            "text/plain": [
              "Index(['Rank', 'Genre', 'Description', 'Director', 'Actors', 'Year',\n",
              "       'Runtime (Minutes)', 'Rating', 'Votes'],\n",
              "      dtype='object')"
            ]
          },
          "metadata": {},
          "execution_count": 54
        }
      ]
    },
    {
      "cell_type": "markdown",
      "source": [
        "* Removing leading and/or trailing spaces in a string"
      ],
      "metadata": {
        "id": "mUFQT5sYcy0_"
      }
    },
    {
      "cell_type": "code",
      "source": [
        "s = '   Barry Sonnenfeld   '\n",
        "s.strip()"
      ],
      "metadata": {
        "colab": {
          "base_uri": "https://localhost:8080/",
          "height": 35
        },
        "id": "6ISj47OjczIr",
        "outputId": "81faa904-cacd-4541-cd3c-5d6d060a7602"
      },
      "execution_count": null,
      "outputs": [
        {
          "output_type": "execute_result",
          "data": {
            "application/vnd.google.colaboratory.intrinsic+json": {
              "type": "string"
            },
            "text/plain": [
              "'Barry Sonnenfeld'"
            ]
          },
          "metadata": {},
          "execution_count": 55
        }
      ]
    },
    {
      "cell_type": "markdown",
      "metadata": {
        "id": "fNX-6NhxvDZc"
      },
      "source": [
        "# Data Visualization Introduction"
      ]
    },
    {
      "cell_type": "markdown",
      "metadata": {
        "id": "lEgJ0Pb_vO8l"
      },
      "source": [
        "In this lab we will be using some Python packages that are great tools for visualizing data: ```matplotlib``` and ```seaborn```, as well as built-in methods for ```pandas``` DataFrames.\n",
        "\n",
        "In case you do not have these libraries already installed in your environment, run:\n",
        "\n",
        "```!pip install seaborn```\n",
        "\n",
        "```!pip install matplotlib```"
      ]
    },
    {
      "cell_type": "markdown",
      "metadata": {
        "id": "vHn361-dvV3F"
      },
      "source": [
        "## Creating dataframe"
      ]
    },
    {
      "cell_type": "code",
      "metadata": {
        "id": "DEDfN4nvvfDo"
      },
      "source": [
        "import pandas as pd\n",
        "import numpy as np\n",
        "from matplotlib import pyplot as plt\n",
        "\n",
        "# you can change the default style of plots - google for more choices\n",
        "plt.style.use(\"ggplot\")"
      ],
      "execution_count": null,
      "outputs": []
    },
    {
      "cell_type": "code",
      "metadata": {
        "id": "kKXp3HFuvf5X",
        "colab": {
          "base_uri": "https://localhost:8080/",
          "height": 237
        },
        "outputId": "f32eab98-958a-482e-d139-3fe90bf45de4"
      },
      "source": [
        "# read in data from an URL\n",
        "irisdf = pd.read_csv(\"iris.csv\", header = None)\n",
        "\n",
        "# remove NA values\n",
        "irisdf = irisdf.dropna()\n",
        "\n",
        "# add column names\n",
        "irisdf.columns = [\"sepal_length\", \"sepal_width\", \"petal_length\", \"petal_width\", \"species\"]\n",
        "\n",
        "# fix some values in the dataframe\n",
        "irisdf.species = irisdf.species.replace(\"Iris-virginicas\", \"Iris-virginica\")\n",
        "\n",
        "# add a column to the dataset\n",
        "irisdf[\"flower\"] = irisdf.apply(lambda row: \"small\" if row[\"sepal_length\"] < 5 else \"big\", axis=1)\n",
        "\n",
        "# have a look at 6 first instances\n",
        "irisdf.head(6)"
      ],
      "execution_count": null,
      "outputs": [
        {
          "output_type": "execute_result",
          "data": {
            "text/html": [
              "\n",
              "  <div id=\"df-74c6d656-67a3-495a-afaf-3e2be2b0a621\">\n",
              "    <div class=\"colab-df-container\">\n",
              "      <div>\n",
              "<style scoped>\n",
              "    .dataframe tbody tr th:only-of-type {\n",
              "        vertical-align: middle;\n",
              "    }\n",
              "\n",
              "    .dataframe tbody tr th {\n",
              "        vertical-align: top;\n",
              "    }\n",
              "\n",
              "    .dataframe thead th {\n",
              "        text-align: right;\n",
              "    }\n",
              "</style>\n",
              "<table border=\"1\" class=\"dataframe\">\n",
              "  <thead>\n",
              "    <tr style=\"text-align: right;\">\n",
              "      <th></th>\n",
              "      <th>sepal_length</th>\n",
              "      <th>sepal_width</th>\n",
              "      <th>petal_length</th>\n",
              "      <th>petal_width</th>\n",
              "      <th>species</th>\n",
              "      <th>flower</th>\n",
              "    </tr>\n",
              "  </thead>\n",
              "  <tbody>\n",
              "    <tr>\n",
              "      <th>0</th>\n",
              "      <td>5.1</td>\n",
              "      <td>3.5</td>\n",
              "      <td>1.4</td>\n",
              "      <td>0.2</td>\n",
              "      <td>Iris-setosa</td>\n",
              "      <td>big</td>\n",
              "    </tr>\n",
              "    <tr>\n",
              "      <th>1</th>\n",
              "      <td>4.9</td>\n",
              "      <td>3.0</td>\n",
              "      <td>1.4</td>\n",
              "      <td>0.2</td>\n",
              "      <td>Iris-setosa</td>\n",
              "      <td>small</td>\n",
              "    </tr>\n",
              "    <tr>\n",
              "      <th>2</th>\n",
              "      <td>4.7</td>\n",
              "      <td>3.2</td>\n",
              "      <td>1.3</td>\n",
              "      <td>0.2</td>\n",
              "      <td>Iris-setosa</td>\n",
              "      <td>small</td>\n",
              "    </tr>\n",
              "    <tr>\n",
              "      <th>3</th>\n",
              "      <td>4.6</td>\n",
              "      <td>3.1</td>\n",
              "      <td>1.5</td>\n",
              "      <td>0.2</td>\n",
              "      <td>Iris-setosa</td>\n",
              "      <td>small</td>\n",
              "    </tr>\n",
              "    <tr>\n",
              "      <th>4</th>\n",
              "      <td>5.0</td>\n",
              "      <td>3.6</td>\n",
              "      <td>1.4</td>\n",
              "      <td>0.2</td>\n",
              "      <td>Iris-setosa</td>\n",
              "      <td>big</td>\n",
              "    </tr>\n",
              "    <tr>\n",
              "      <th>5</th>\n",
              "      <td>5.4</td>\n",
              "      <td>3.9</td>\n",
              "      <td>1.7</td>\n",
              "      <td>0.4</td>\n",
              "      <td>Iris-setosa</td>\n",
              "      <td>big</td>\n",
              "    </tr>\n",
              "  </tbody>\n",
              "</table>\n",
              "</div>\n",
              "      <button class=\"colab-df-convert\" onclick=\"convertToInteractive('df-74c6d656-67a3-495a-afaf-3e2be2b0a621')\"\n",
              "              title=\"Convert this dataframe to an interactive table.\"\n",
              "              style=\"display:none;\">\n",
              "        \n",
              "  <svg xmlns=\"http://www.w3.org/2000/svg\" height=\"24px\"viewBox=\"0 0 24 24\"\n",
              "       width=\"24px\">\n",
              "    <path d=\"M0 0h24v24H0V0z\" fill=\"none\"/>\n",
              "    <path d=\"M18.56 5.44l.94 2.06.94-2.06 2.06-.94-2.06-.94-.94-2.06-.94 2.06-2.06.94zm-11 1L8.5 8.5l.94-2.06 2.06-.94-2.06-.94L8.5 2.5l-.94 2.06-2.06.94zm10 10l.94 2.06.94-2.06 2.06-.94-2.06-.94-.94-2.06-.94 2.06-2.06.94z\"/><path d=\"M17.41 7.96l-1.37-1.37c-.4-.4-.92-.59-1.43-.59-.52 0-1.04.2-1.43.59L10.3 9.45l-7.72 7.72c-.78.78-.78 2.05 0 2.83L4 21.41c.39.39.9.59 1.41.59.51 0 1.02-.2 1.41-.59l7.78-7.78 2.81-2.81c.8-.78.8-2.07 0-2.86zM5.41 20L4 18.59l7.72-7.72 1.47 1.35L5.41 20z\"/>\n",
              "  </svg>\n",
              "      </button>\n",
              "      \n",
              "  <style>\n",
              "    .colab-df-container {\n",
              "      display:flex;\n",
              "      flex-wrap:wrap;\n",
              "      gap: 12px;\n",
              "    }\n",
              "\n",
              "    .colab-df-convert {\n",
              "      background-color: #E8F0FE;\n",
              "      border: none;\n",
              "      border-radius: 50%;\n",
              "      cursor: pointer;\n",
              "      display: none;\n",
              "      fill: #1967D2;\n",
              "      height: 32px;\n",
              "      padding: 0 0 0 0;\n",
              "      width: 32px;\n",
              "    }\n",
              "\n",
              "    .colab-df-convert:hover {\n",
              "      background-color: #E2EBFA;\n",
              "      box-shadow: 0px 1px 2px rgba(60, 64, 67, 0.3), 0px 1px 3px 1px rgba(60, 64, 67, 0.15);\n",
              "      fill: #174EA6;\n",
              "    }\n",
              "\n",
              "    [theme=dark] .colab-df-convert {\n",
              "      background-color: #3B4455;\n",
              "      fill: #D2E3FC;\n",
              "    }\n",
              "\n",
              "    [theme=dark] .colab-df-convert:hover {\n",
              "      background-color: #434B5C;\n",
              "      box-shadow: 0px 1px 3px 1px rgba(0, 0, 0, 0.15);\n",
              "      filter: drop-shadow(0px 1px 2px rgba(0, 0, 0, 0.3));\n",
              "      fill: #FFFFFF;\n",
              "    }\n",
              "  </style>\n",
              "\n",
              "      <script>\n",
              "        const buttonEl =\n",
              "          document.querySelector('#df-74c6d656-67a3-495a-afaf-3e2be2b0a621 button.colab-df-convert');\n",
              "        buttonEl.style.display =\n",
              "          google.colab.kernel.accessAllowed ? 'block' : 'none';\n",
              "\n",
              "        async function convertToInteractive(key) {\n",
              "          const element = document.querySelector('#df-74c6d656-67a3-495a-afaf-3e2be2b0a621');\n",
              "          const dataTable =\n",
              "            await google.colab.kernel.invokeFunction('convertToInteractive',\n",
              "                                                     [key], {});\n",
              "          if (!dataTable) return;\n",
              "\n",
              "          const docLinkHtml = 'Like what you see? Visit the ' +\n",
              "            '<a target=\"_blank\" href=https://colab.research.google.com/notebooks/data_table.ipynb>data table notebook</a>'\n",
              "            + ' to learn more about interactive tables.';\n",
              "          element.innerHTML = '';\n",
              "          dataTable['output_type'] = 'display_data';\n",
              "          await google.colab.output.renderOutput(dataTable, element);\n",
              "          const docLink = document.createElement('div');\n",
              "          docLink.innerHTML = docLinkHtml;\n",
              "          element.appendChild(docLink);\n",
              "        }\n",
              "      </script>\n",
              "    </div>\n",
              "  </div>\n",
              "  "
            ],
            "text/plain": [
              "   sepal_length  sepal_width  petal_length  petal_width      species flower\n",
              "0           5.1          3.5           1.4          0.2  Iris-setosa    big\n",
              "1           4.9          3.0           1.4          0.2  Iris-setosa  small\n",
              "2           4.7          3.2           1.3          0.2  Iris-setosa  small\n",
              "3           4.6          3.1           1.5          0.2  Iris-setosa  small\n",
              "4           5.0          3.6           1.4          0.2  Iris-setosa    big\n",
              "5           5.4          3.9           1.7          0.4  Iris-setosa    big"
            ]
          },
          "metadata": {},
          "execution_count": 57
        }
      ]
    },
    {
      "cell_type": "code",
      "metadata": {
        "id": "3uKpj-LAdw84",
        "colab": {
          "base_uri": "https://localhost:8080/"
        },
        "outputId": "56a63123-287c-405e-f591-6be8e1e1ccb9"
      },
      "source": [
        "irisdf.species.value_counts()"
      ],
      "execution_count": null,
      "outputs": [
        {
          "output_type": "execute_result",
          "data": {
            "text/plain": [
              "Iris-versicolor    50\n",
              "Iris-virginica     50\n",
              "Iris-setosa        47\n",
              "Name: species, dtype: int64"
            ]
          },
          "metadata": {},
          "execution_count": 58
        }
      ]
    },
    {
      "cell_type": "code",
      "source": [
        "irisdf.info()"
      ],
      "metadata": {
        "colab": {
          "base_uri": "https://localhost:8080/"
        },
        "id": "8EZZQwrS_wu3",
        "outputId": "e95d40a0-324b-444f-f580-5267888d40e3"
      },
      "execution_count": null,
      "outputs": [
        {
          "output_type": "stream",
          "name": "stdout",
          "text": [
            "<class 'pandas.core.frame.DataFrame'>\n",
            "Int64Index: 147 entries, 0 to 149\n",
            "Data columns (total 6 columns):\n",
            " #   Column        Non-Null Count  Dtype  \n",
            "---  ------        --------------  -----  \n",
            " 0   sepal_length  147 non-null    float64\n",
            " 1   sepal_width   147 non-null    float64\n",
            " 2   petal_length  147 non-null    float64\n",
            " 3   petal_width   147 non-null    float64\n",
            " 4   species       147 non-null    object \n",
            " 5   flower        147 non-null    object \n",
            "dtypes: float64(4), object(2)\n",
            "memory usage: 8.0+ KB\n"
          ]
        }
      ]
    },
    {
      "cell_type": "markdown",
      "source": [
        "* Convert attribute `flower` into type `category` and introduce the order"
      ],
      "metadata": {
        "id": "nI5OoCr0fkYN"
      }
    },
    {
      "cell_type": "code",
      "source": [
        "irisdf[\"flower_cat\"] = irisdf[\"flower\"].astype(\"category\")\n",
        "irisdf.info()"
      ],
      "metadata": {
        "id": "3GD6dAswfjdI",
        "colab": {
          "base_uri": "https://localhost:8080/"
        },
        "outputId": "1fa3d809-685b-4655-ae17-095154c3f64c"
      },
      "execution_count": null,
      "outputs": [
        {
          "output_type": "stream",
          "name": "stdout",
          "text": [
            "<class 'pandas.core.frame.DataFrame'>\n",
            "Int64Index: 147 entries, 0 to 149\n",
            "Data columns (total 7 columns):\n",
            " #   Column        Non-Null Count  Dtype   \n",
            "---  ------        --------------  -----   \n",
            " 0   sepal_length  147 non-null    float64 \n",
            " 1   sepal_width   147 non-null    float64 \n",
            " 2   petal_length  147 non-null    float64 \n",
            " 3   petal_width   147 non-null    float64 \n",
            " 4   species       147 non-null    object  \n",
            " 5   flower        147 non-null    object  \n",
            " 6   flower_cat    147 non-null    category\n",
            "dtypes: category(1), float64(4), object(2)\n",
            "memory usage: 8.3+ KB\n"
          ]
        }
      ]
    },
    {
      "cell_type": "code",
      "source": [
        "irisdf.drop([\"flower_cat\"], axis=1, inplace=True)\n",
        "irisdf.columns"
      ],
      "metadata": {
        "id": "BxuXpm_0hPne",
        "colab": {
          "base_uri": "https://localhost:8080/"
        },
        "outputId": "f117b05d-e599-4dec-d490-3a190d579dde"
      },
      "execution_count": null,
      "outputs": [
        {
          "output_type": "execute_result",
          "data": {
            "text/plain": [
              "Index(['sepal_length', 'sepal_width', 'petal_length', 'petal_width', 'species',\n",
              "       'flower'],\n",
              "      dtype='object')"
            ]
          },
          "metadata": {},
          "execution_count": 61
        }
      ]
    },
    {
      "cell_type": "markdown",
      "metadata": {
        "id": "OXYimqUyv1Mu"
      },
      "source": [
        "## Pandas DataFrame built-in methods for plotting"
      ]
    },
    {
      "cell_type": "markdown",
      "metadata": {
        "id": "t6lbGUw7v6vz"
      },
      "source": [
        "### Frequency histogram"
      ]
    },
    {
      "cell_type": "code",
      "metadata": {
        "id": "726pTeQtv6L7",
        "colab": {
          "base_uri": "https://localhost:8080/",
          "height": 265
        },
        "outputId": "67535484-4c8a-41f2-b4e1-22ec1f8f0bd4"
      },
      "source": [
        "# finds the number of bins required to plot each value as a separate bin\n",
        "# if unchanged, the histogram shows the frequency of each individual value\n",
        "# when the number of bins is changed, sepal length values will be grouped together\n",
        "minlength = min(irisdf.sepal_length.values)\n",
        "maxlength = max(irisdf.sepal_length.values)\n",
        "bins = int((maxlength - minlength) * 10) + 1\n",
        "\n",
        "# shows the distribution of sepal lengths \n",
        "irisdf[\"sepal_length\"].hist(bins = bins);"
      ],
      "execution_count": null,
      "outputs": [
        {
          "output_type": "display_data",
          "data": {
            "image/png": "[encoded data removed]",
            "text/plain": [
              "<Figure size 432x288 with 1 Axes>"
            ]
          },
          "metadata": {}
        }
      ]
    },
    {
      "cell_type": "markdown",
      "metadata": {
        "id": "UexukQpkwG5f"
      },
      "source": [
        "### Barplot for categorical values"
      ]
    },
    {
      "cell_type": "code",
      "metadata": {
        "id": "dd1XE0Y5wKnq",
        "colab": {
          "base_uri": "https://localhost:8080/",
          "height": 323
        },
        "outputId": "872a4559-51e8-40e2-d751-a95becc728ff"
      },
      "source": [
        "# barplot for occurrences of species\n",
        "# plt.style.use(\"ggplot\")\n",
        "irisdf.species.value_counts().plot(kind=\"bar\", color=\"g\");"
      ],
      "execution_count": null,
      "outputs": [
        {
          "output_type": "display_data",
          "data": {
            "image/png": "[encoded data removed]",
            "text/plain": [
              "<Figure size 432x288 with 1 Axes>"
            ]
          },
          "metadata": {}
        }
      ]
    },
    {
      "cell_type": "code",
      "source": [
        "irisdf.flower.value_counts().plot(kind=\"bar\", color=\"g\");"
      ],
      "metadata": {
        "colab": {
          "base_uri": "https://localhost:8080/",
          "height": 282
        },
        "id": "0Q1GJrHSDGoD",
        "outputId": "e10a40e4-6e3b-4325-e4f8-5451ca606677"
      },
      "execution_count": null,
      "outputs": [
        {
          "output_type": "display_data",
          "data": {
            "image/png": "[encoded data removed]",
            "text/plain": [
              "<Figure size 432x288 with 1 Axes>"
            ]
          },
          "metadata": {}
        }
      ]
    },
    {
      "cell_type": "markdown",
      "metadata": {
        "id": "l3x_IohtwRTS"
      },
      "source": [
        "### Grouped barplot"
      ]
    },
    {
      "cell_type": "code",
      "metadata": {
        "id": "qHCiITbKwY-z",
        "colab": {
          "base_uri": "https://localhost:8080/",
          "height": 340
        },
        "outputId": "3072b35a-df0c-4b10-dc31-2fae4dfe5501"
      },
      "source": [
        "irisdf.groupby([\"species\", \"flower\"])[\"sepal_length\"].count().unstack().plot(kind=\"bar\");"
      ],
      "execution_count": null,
      "outputs": [
        {
          "output_type": "display_data",
          "data": {
            "image/png": "[encoded data removed]",
            "text/plain": [
              "<Figure size 432x288 with 1 Axes>"
            ]
          },
          "metadata": {}
        }
      ]
    },
    {
      "cell_type": "markdown",
      "metadata": {
        "id": "ZW06HtSuc9cS"
      },
      "source": [
        "### Density (or kde) plot"
      ]
    },
    {
      "cell_type": "code",
      "metadata": {
        "id": "XYSkEP_gdBd_",
        "colab": {
          "base_uri": "https://localhost:8080/",
          "height": 265
        },
        "outputId": "765293ae-f06a-43a6-cb0c-77131b3bba79"
      },
      "source": [
        "irisdf.petal_length.plot.density();"
      ],
      "execution_count": null,
      "outputs": [
        {
          "output_type": "display_data",
          "data": {
            "image/png": "[encoded data removed]",
            "text/plain": [
              "<Figure size 432x288 with 1 Axes>"
            ]
          },
          "metadata": {}
        }
      ]
    },
    {
      "cell_type": "markdown",
      "metadata": {
        "id": "JFdbOJ_Gdl1c"
      },
      "source": [
        "### Boxplot (or whisker plot)"
      ]
    },
    {
      "cell_type": "code",
      "metadata": {
        "id": "jDSRySaDdty_",
        "colab": {
          "base_uri": "https://localhost:8080/",
          "height": 375
        },
        "outputId": "2692e1c6-0a16-4e28-d5f7-b47f7b2bec85"
      },
      "source": [
        "irisdf.boxplot(figsize=(10,6));"
      ],
      "execution_count": null,
      "outputs": [
        {
          "output_type": "display_data",
          "data": {
            "image/png": "[encoded data removed]",
            "text/plain": [
              "<Figure size 720x432 with 1 Axes>"
            ]
          },
          "metadata": {}
        }
      ]
    },
    {
      "cell_type": "markdown",
      "metadata": {
        "id": "sYXYajjLwe4-"
      },
      "source": [
        "### Scatter plot"
      ]
    },
    {
      "cell_type": "code",
      "metadata": {
        "id": "W113QPxKwjFs",
        "colab": {
          "base_uri": "https://localhost:8080/",
          "height": 393
        },
        "outputId": "cce295aa-dd9d-4d29-befc-ea9c244249d9"
      },
      "source": [
        "irisdf.plot(x=\"sepal_length\", y=\"sepal_width\", kind=\"scatter\", figsize=(9,6));"
      ],
      "execution_count": null,
      "outputs": [
        {
          "output_type": "display_data",
          "data": {
            "image/png": "[encoded data removed]",
            "text/plain": [
              "<Figure size 648x432 with 1 Axes>"
            ]
          },
          "metadata": {}
        }
      ]
    },
    {
      "cell_type": "markdown",
      "metadata": {
        "id": "ECqwKwDnxtsv"
      },
      "source": [
        "### Generating data according to some function"
      ]
    },
    {
      "cell_type": "markdown",
      "metadata": {
        "id": "fksEED1mxwiZ"
      },
      "source": [
        "We use generate values on the x axis, then we apply a function ($f(x) = x^2$ and $g(x) = e^x$) to those values (in the code after the ```lambda``` keyword)\n",
        "\n",
        "In real life, the data is never exactly according to a mathematical function, and it contains noise, thus we add some noise to the data. \n",
        "```np.random.normal(0, 1, 1)``` generates values from normal distribution with mean 0 and standard deviation 1. The last 1 represents the amount of values to be samples. It returns a list, thus ```[0]``` is added to it. "
      ]
    },
    {
      "cell_type": "code",
      "source": [
        "np.random.normal(0, 1, 1)[0]"
      ],
      "metadata": {
        "colab": {
          "base_uri": "https://localhost:8080/"
        },
        "id": "wga_8yQ_uOo2",
        "outputId": "d03283e9-91be-4bb5-93a6-e5a89214171d"
      },
      "execution_count": null,
      "outputs": [
        {
          "output_type": "execute_result",
          "data": {
            "text/plain": [
              "-0.7573707819739864"
            ]
          },
          "metadata": {},
          "execution_count": 59
        }
      ]
    },
    {
      "cell_type": "code",
      "metadata": {
        "id": "a-Ygazx4x0K3",
        "colab": {
          "base_uri": "https://localhost:8080/",
          "height": 206
        },
        "outputId": "82a27f06-9dab-4a12-a2ba-5b8e05d9beec"
      },
      "source": [
        "# generate data \n",
        "\n",
        "cont_data = pd.DataFrame({\n",
        "    # creates a list of values from -4 to 4 with step 0.1\n",
        "    'x': np.arange(-4, 4.1, 0.1),\n",
        "})\n",
        "# applies quadratic function to x and adds some white noise\n",
        "cont_data['quadratic'] = cont_data.apply(lambda df: df.x**2 + np.random.normal(0, 1, 1)[0], axis=1)\n",
        "\n",
        "# applies exponential function to x and adds some white noise\n",
        "cont_data['exponential'] = cont_data.apply(lambda df: np.e**df.x + np.random.normal(0, 1, 1)[0], axis=1)\n",
        "\n",
        "cont_data.head()"
      ],
      "execution_count": null,
      "outputs": [
        {
          "output_type": "execute_result",
          "data": {
            "text/html": [
              "\n",
              "  <div id=\"df-6c15722a-d043-4b93-8c9c-821c46652d63\">\n",
              "    <div class=\"colab-df-container\">\n",
              "      <div>\n",
              "<style scoped>\n",
              "    .dataframe tbody tr th:only-of-type {\n",
              "        vertical-align: middle;\n",
              "    }\n",
              "\n",
              "    .dataframe tbody tr th {\n",
              "        vertical-align: top;\n",
              "    }\n",
              "\n",
              "    .dataframe thead th {\n",
              "        text-align: right;\n",
              "    }\n",
              "</style>\n",
              "<table border=\"1\" class=\"dataframe\">\n",
              "  <thead>\n",
              "    <tr style=\"text-align: right;\">\n",
              "      <th></th>\n",
              "      <th>x</th>\n",
              "      <th>quadratic</th>\n",
              "      <th>exponential</th>\n",
              "    </tr>\n",
              "  </thead>\n",
              "  <tbody>\n",
              "    <tr>\n",
              "      <th>0</th>\n",
              "      <td>-4.0</td>\n",
              "      <td>15.548035</td>\n",
              "      <td>0.837619</td>\n",
              "    </tr>\n",
              "    <tr>\n",
              "      <th>1</th>\n",
              "      <td>-3.9</td>\n",
              "      <td>13.271001</td>\n",
              "      <td>-1.371561</td>\n",
              "    </tr>\n",
              "    <tr>\n",
              "      <th>2</th>\n",
              "      <td>-3.8</td>\n",
              "      <td>13.961739</td>\n",
              "      <td>0.034277</td>\n",
              "    </tr>\n",
              "    <tr>\n",
              "      <th>3</th>\n",
              "      <td>-3.7</td>\n",
              "      <td>13.908548</td>\n",
              "      <td>-1.663607</td>\n",
              "    </tr>\n",
              "    <tr>\n",
              "      <th>4</th>\n",
              "      <td>-3.6</td>\n",
              "      <td>12.439469</td>\n",
              "      <td>-0.451427</td>\n",
              "    </tr>\n",
              "  </tbody>\n",
              "</table>\n",
              "</div>\n",
              "      <button class=\"colab-df-convert\" onclick=\"convertToInteractive('df-6c15722a-d043-4b93-8c9c-821c46652d63')\"\n",
              "              title=\"Convert this dataframe to an interactive table.\"\n",
              "              style=\"display:none;\">\n",
              "        \n",
              "  <svg xmlns=\"http://www.w3.org/2000/svg\" height=\"24px\"viewBox=\"0 0 24 24\"\n",
              "       width=\"24px\">\n",
              "    <path d=\"M0 0h24v24H0V0z\" fill=\"none\"/>\n",
              "    <path d=\"M18.56 5.44l.94 2.06.94-2.06 2.06-.94-2.06-.94-.94-2.06-.94 2.06-2.06.94zm-11 1L8.5 8.5l.94-2.06 2.06-.94-2.06-.94L8.5 2.5l-.94 2.06-2.06.94zm10 10l.94 2.06.94-2.06 2.06-.94-2.06-.94-.94-2.06-.94 2.06-2.06.94z\"/><path d=\"M17.41 7.96l-1.37-1.37c-.4-.4-.92-.59-1.43-.59-.52 0-1.04.2-1.43.59L10.3 9.45l-7.72 7.72c-.78.78-.78 2.05 0 2.83L4 21.41c.39.39.9.59 1.41.59.51 0 1.02-.2 1.41-.59l7.78-7.78 2.81-2.81c.8-.78.8-2.07 0-2.86zM5.41 20L4 18.59l7.72-7.72 1.47 1.35L5.41 20z\"/>\n",
              "  </svg>\n",
              "      </button>\n",
              "      \n",
              "  <style>\n",
              "    .colab-df-container {\n",
              "      display:flex;\n",
              "      flex-wrap:wrap;\n",
              "      gap: 12px;\n",
              "    }\n",
              "\n",
              "    .colab-df-convert {\n",
              "      background-color: #E8F0FE;\n",
              "      border: none;\n",
              "      border-radius: 50%;\n",
              "      cursor: pointer;\n",
              "      display: none;\n",
              "      fill: #1967D2;\n",
              "      height: 32px;\n",
              "      padding: 0 0 0 0;\n",
              "      width: 32px;\n",
              "    }\n",
              "\n",
              "    .colab-df-convert:hover {\n",
              "      background-color: #E2EBFA;\n",
              "      box-shadow: 0px 1px 2px rgba(60, 64, 67, 0.3), 0px 1px 3px 1px rgba(60, 64, 67, 0.15);\n",
              "      fill: #174EA6;\n",
              "    }\n",
              "\n",
              "    [theme=dark] .colab-df-convert {\n",
              "      background-color: #3B4455;\n",
              "      fill: #D2E3FC;\n",
              "    }\n",
              "\n",
              "    [theme=dark] .colab-df-convert:hover {\n",
              "      background-color: #434B5C;\n",
              "      box-shadow: 0px 1px 3px 1px rgba(0, 0, 0, 0.15);\n",
              "      filter: drop-shadow(0px 1px 2px rgba(0, 0, 0, 0.3));\n",
              "      fill: #FFFFFF;\n",
              "    }\n",
              "  </style>\n",
              "\n",
              "      <script>\n",
              "        const buttonEl =\n",
              "          document.querySelector('#df-6c15722a-d043-4b93-8c9c-821c46652d63 button.colab-df-convert');\n",
              "        buttonEl.style.display =\n",
              "          google.colab.kernel.accessAllowed ? 'block' : 'none';\n",
              "\n",
              "        async function convertToInteractive(key) {\n",
              "          const element = document.querySelector('#df-6c15722a-d043-4b93-8c9c-821c46652d63');\n",
              "          const dataTable =\n",
              "            await google.colab.kernel.invokeFunction('convertToInteractive',\n",
              "                                                     [key], {});\n",
              "          if (!dataTable) return;\n",
              "\n",
              "          const docLinkHtml = 'Like what you see? Visit the ' +\n",
              "            '<a target=\"_blank\" href=https://colab.research.google.com/notebooks/data_table.ipynb>data table notebook</a>'\n",
              "            + ' to learn more about interactive tables.';\n",
              "          element.innerHTML = '';\n",
              "          dataTable['output_type'] = 'display_data';\n",
              "          await google.colab.output.renderOutput(dataTable, element);\n",
              "          const docLink = document.createElement('div');\n",
              "          docLink.innerHTML = docLinkHtml;\n",
              "          element.appendChild(docLink);\n",
              "        }\n",
              "      </script>\n",
              "    </div>\n",
              "  </div>\n",
              "  "
            ],
            "text/plain": [
              "     x  quadratic  exponential\n",
              "0 -4.0  15.548035     0.837619\n",
              "1 -3.9  13.271001    -1.371561\n",
              "2 -3.8  13.961739     0.034277\n",
              "3 -3.7  13.908548    -1.663607\n",
              "4 -3.6  12.439469    -0.451427"
            ]
          },
          "metadata": {},
          "execution_count": 60
        }
      ]
    },
    {
      "cell_type": "code",
      "metadata": {
        "id": "mz8HjIrzghFB",
        "colab": {
          "base_uri": "https://localhost:8080/"
        },
        "outputId": "fe0db89d-c5bf-422e-a18b-0125373a22a5"
      },
      "source": [
        "cont_data.shape"
      ],
      "execution_count": null,
      "outputs": [
        {
          "output_type": "execute_result",
          "data": {
            "text/plain": [
              "(81, 3)"
            ]
          },
          "metadata": {},
          "execution_count": 61
        }
      ]
    },
    {
      "cell_type": "markdown",
      "metadata": {
        "id": "qBxSvt7Iw9Hu"
      },
      "source": [
        "## Matplotlib \n",
        "\n",
        "Conventionally, from ```matplotlib``` we import ```pyplot``` as ```plt```.\n",
        "\n",
        "With ```rcParams``` you can configure your figure's aesthetic attributes, e.g. font family, size, line color, line width, etc.\n"
      ]
    },
    {
      "cell_type": "code",
      "metadata": {
        "id": "KYxNxiwHxHCA"
      },
      "source": [
        "# This will set figsize for all other plots as well\n",
        "plt.rcParams['figure.figsize'] = [6, 6] # width x height (inch)\n",
        "plt.rcParams['figure.figsize'] = 6, 6  # or this way"
      ],
      "execution_count": null,
      "outputs": []
    },
    {
      "cell_type": "code",
      "metadata": {
        "id": "AM724NWUxJLz"
      },
      "source": [
        "# Update font size\n",
        "plt.rcParams.update({'font.size': 14})"
      ],
      "execution_count": null,
      "outputs": []
    },
    {
      "cell_type": "code",
      "metadata": {
        "id": "_Q3m-2bAxl6P",
        "colab": {
          "base_uri": "https://localhost:8080/",
          "height": 378
        },
        "outputId": "84ceee61-f2df-47a9-e008-b1fad3ace434"
      },
      "source": [
        "# Plot one figure with (x,y) coordinates.\n",
        "plt.plot(cont_data['x'], cont_data['quadratic'], marker='o',  color='red' , linestyle='');"
      ],
      "execution_count": null,
      "outputs": [
        {
          "output_type": "display_data",
          "data": {
            "image/png": "[encoded data removed]",
            "text/plain": [
              "<Figure size 432x432 with 1 Axes>"
            ]
          },
          "metadata": {}
        }
      ]
    },
    {
      "cell_type": "markdown",
      "metadata": {
        "id": "-XWw4LaByD2O"
      },
      "source": [
        "* Add lines and titles to the plot"
      ]
    },
    {
      "cell_type": "code",
      "metadata": {
        "id": "MgKoJa2eyDPv",
        "colab": {
          "base_uri": "https://localhost:8080/",
          "height": 421
        },
        "outputId": "67b34393-34e4-402d-9905-3da923dbcb3d"
      },
      "source": [
        "# Points connected with a line\n",
        "plt.plot(cont_data['x'], cont_data['quadratic'], marker='+',  color='black' , linestyle='--');\n",
        "plt.title('Data')\n",
        "plt.ylabel('quadratic')\n",
        "plt.xlabel('x');"
      ],
      "execution_count": null,
      "outputs": [
        {
          "output_type": "display_data",
          "data": {
            "image/png": "[encoded data removed]",
            "text/plain": [
              "<Figure size 432x432 with 1 Axes>"
            ]
          },
          "metadata": {}
        }
      ]
    },
    {
      "cell_type": "markdown",
      "metadata": {
        "id": "cto0DFmPyUN4"
      },
      "source": [
        "### Using subplots and figures"
      ]
    },
    {
      "cell_type": "code",
      "metadata": {
        "id": "i5oQXQwjyZRc",
        "colab": {
          "base_uri": "https://localhost:8080/",
          "height": 378
        },
        "outputId": "9a73ac1f-8d05-4887-a4cf-0246582b0978"
      },
      "source": [
        "# Figure can contain multiple plots and you can also set params\n",
        "fig = plt.figure(figsize=[16, 6])\n",
        "\n",
        "# Multiple plots on one figure - add_subplot(nrows, ncols, index)\n",
        "fig.add_subplot(1, 3, 1).plot(cont_data['x'], cont_data['quadratic'], 'k+')\n",
        "fig.add_subplot(1, 3, 2).plot(cont_data['x'], cont_data['quadratic'], 'ro')\n",
        "fig.add_subplot(1, 3, 3).plot(cont_data['x'], cont_data['quadratic'], 'g-');"
      ],
      "execution_count": null,
      "outputs": [
        {
          "output_type": "display_data",
          "data": {
            "image/png": "[encoded data removed]",
            "text/plain": [
              "<Figure size 1152x432 with 3 Axes>"
            ]
          },
          "metadata": {}
        }
      ]
    },
    {
      "cell_type": "code",
      "metadata": {
        "id": "mCwSsg1-yeQf",
        "colab": {
          "base_uri": "https://localhost:8080/",
          "height": 487
        },
        "outputId": "8a7672d7-f581-496b-9311-d737f3d0d26e"
      },
      "source": [
        "# Figure can contain multiple plots and you can also set params\n",
        "fig = plt.figure(figsize=[8, 8])\n",
        "\n",
        "# Multiple plots on one figure - add_subplot(nrows, ncols, index)\n",
        "fig.add_subplot(2, 2, 1).plot(cont_data['x'], cont_data['quadratic'], 'k-')\n",
        "fig.add_subplot(2, 2, 2).plot(cont_data['x'], cont_data['exponential'], 'ro', alpha=0.5)\n",
        "fig.add_subplot(2, 2, 3).plot(cont_data['x'], cont_data['quadratic'], 'g+')\n",
        "fig.add_subplot(2, 2, 4).plot(cont_data['x'], cont_data['exponential'], 'b--');"
      ],
      "execution_count": null,
      "outputs": [
        {
          "output_type": "display_data",
          "data": {
            "image/png": "[encoded data removed]",
            "text/plain": [
              "<Figure size 576x576 with 4 Axes>"
            ]
          },
          "metadata": {}
        }
      ]
    },
    {
      "cell_type": "markdown",
      "metadata": {
        "id": "kI9JJ_dZysi7"
      },
      "source": [
        "See more information on plotting with matplotlib here: https://matplotlib.org"
      ]
    },
    {
      "cell_type": "markdown",
      "metadata": {
        "id": "svBpgRyb_ebC"
      },
      "source": [
        "### Best practices with Pandas:\n",
        "\n",
        "1.   Use Pandas for basic plotting and visualization.\n",
        "2.   Explicitly set the axis in the call to plot().\n",
        "3.   Use matplotlib for advanced operations.\n",
        "\n",
        "Source: [`Pandas Playbook: Visualization`](https://app.pluralsight.com/library/courses/pandas-playbook-visualization) online course by Reindert-Jan Ekker.\n"
      ]
    },
    {
      "cell_type": "markdown",
      "metadata": {
        "id": "71atZsoZy2x9"
      },
      "source": [
        "## Seaborn"
      ]
    },
    {
      "cell_type": "markdown",
      "metadata": {
        "id": "Neyl2Nd6y88e"
      },
      "source": [
        "Seaborn is a Python data visualization library based on matplotlib. It provides a high-level interface for drawing attractive and informative statistical graphics.\n",
        "\n",
        "For a brief introduction to the ideas behind the library, you can read the [introductory notes](https://seaborn.pydata.org/introduction.html).\n",
        "You can browse the [example gallery](https://seaborn.pydata.org/examples/index.html) to see what you can do with seaborn, and then check out the [tutorial](https://seaborn.pydata.org/tutorial.html) and [API reference](https://seaborn.pydata.org/api.html) to find out how. \n",
        "\n",
        "There lots of useful information, tips, and guides how to use the libarary on the website, so that is the best way to start using seaborn.\n",
        "Let's take a look at some examples."
      ]
    },
    {
      "cell_type": "code",
      "metadata": {
        "id": "1-dQvtkGy9YL",
        "colab": {
          "base_uri": "https://localhost:8080/",
          "height": 420
        },
        "outputId": "20db3032-c595-47e6-c197-860a2dc61e61"
      },
      "source": [
        "import seaborn as sns\n",
        "plt.rcParams['figure.figsize'] = [6, 6]\n",
        "# plt.style.use('seaborn-whitegrid') # Plot style\n",
        "plt.style.use(\"fivethirtyeight\")\n",
        "ax = sns.scatterplot(x='x', y=\"exponential\", data=cont_data)"
      ],
      "execution_count": null,
      "outputs": [
        {
          "output_type": "display_data",
          "data": {
            "image/png": "[encoded data removed]",
            "text/plain": [
              "<Figure size 432x432 with 1 Axes>"
            ]
          },
          "metadata": {}
        }
      ]
    },
    {
      "cell_type": "code",
      "metadata": {
        "colab": {
          "base_uri": "https://localhost:8080/",
          "height": 206
        },
        "id": "2pvs1XO_nAMf",
        "outputId": "a9e66099-711a-4a17-8087-659b3055c5e4"
      },
      "source": [
        "# using a built-in dataset from sns\n",
        "tips = sns.load_dataset(\"tips\")\n",
        "tips.head()"
      ],
      "execution_count": null,
      "outputs": [
        {
          "output_type": "execute_result",
          "data": {
            "text/html": [
              "\n",
              "  <div id=\"df-83dd36a8-34dd-4617-a80a-0bc5dbc1e9d0\">\n",
              "    <div class=\"colab-df-container\">\n",
              "      <div>\n",
              "<style scoped>\n",
              "    .dataframe tbody tr th:only-of-type {\n",
              "        vertical-align: middle;\n",
              "    }\n",
              "\n",
              "    .dataframe tbody tr th {\n",
              "        vertical-align: top;\n",
              "    }\n",
              "\n",
              "    .dataframe thead th {\n",
              "        text-align: right;\n",
              "    }\n",
              "</style>\n",
              "<table border=\"1\" class=\"dataframe\">\n",
              "  <thead>\n",
              "    <tr style=\"text-align: right;\">\n",
              "      <th></th>\n",
              "      <th>total_bill</th>\n",
              "      <th>tip</th>\n",
              "      <th>sex</th>\n",
              "      <th>smoker</th>\n",
              "      <th>day</th>\n",
              "      <th>time</th>\n",
              "      <th>size</th>\n",
              "    </tr>\n",
              "  </thead>\n",
              "  <tbody>\n",
              "    <tr>\n",
              "      <th>0</th>\n",
              "      <td>16.99</td>\n",
              "      <td>1.01</td>\n",
              "      <td>Female</td>\n",
              "      <td>No</td>\n",
              "      <td>Sun</td>\n",
              "      <td>Dinner</td>\n",
              "      <td>2</td>\n",
              "    </tr>\n",
              "    <tr>\n",
              "      <th>1</th>\n",
              "      <td>10.34</td>\n",
              "      <td>1.66</td>\n",
              "      <td>Male</td>\n",
              "      <td>No</td>\n",
              "      <td>Sun</td>\n",
              "      <td>Dinner</td>\n",
              "      <td>3</td>\n",
              "    </tr>\n",
              "    <tr>\n",
              "      <th>2</th>\n",
              "      <td>21.01</td>\n",
              "      <td>3.50</td>\n",
              "      <td>Male</td>\n",
              "      <td>No</td>\n",
              "      <td>Sun</td>\n",
              "      <td>Dinner</td>\n",
              "      <td>3</td>\n",
              "    </tr>\n",
              "    <tr>\n",
              "      <th>3</th>\n",
              "      <td>23.68</td>\n",
              "      <td>3.31</td>\n",
              "      <td>Male</td>\n",
              "      <td>No</td>\n",
              "      <td>Sun</td>\n",
              "      <td>Dinner</td>\n",
              "      <td>2</td>\n",
              "    </tr>\n",
              "    <tr>\n",
              "      <th>4</th>\n",
              "      <td>24.59</td>\n",
              "      <td>3.61</td>\n",
              "      <td>Female</td>\n",
              "      <td>No</td>\n",
              "      <td>Sun</td>\n",
              "      <td>Dinner</td>\n",
              "      <td>4</td>\n",
              "    </tr>\n",
              "  </tbody>\n",
              "</table>\n",
              "</div>\n",
              "      <button class=\"colab-df-convert\" onclick=\"convertToInteractive('df-83dd36a8-34dd-4617-a80a-0bc5dbc1e9d0')\"\n",
              "              title=\"Convert this dataframe to an interactive table.\"\n",
              "              style=\"display:none;\">\n",
              "        \n",
              "  <svg xmlns=\"http://www.w3.org/2000/svg\" height=\"24px\"viewBox=\"0 0 24 24\"\n",
              "       width=\"24px\">\n",
              "    <path d=\"M0 0h24v24H0V0z\" fill=\"none\"/>\n",
              "    <path d=\"M18.56 5.44l.94 2.06.94-2.06 2.06-.94-2.06-.94-.94-2.06-.94 2.06-2.06.94zm-11 1L8.5 8.5l.94-2.06 2.06-.94-2.06-.94L8.5 2.5l-.94 2.06-2.06.94zm10 10l.94 2.06.94-2.06 2.06-.94-2.06-.94-.94-2.06-.94 2.06-2.06.94z\"/><path d=\"M17.41 7.96l-1.37-1.37c-.4-.4-.92-.59-1.43-.59-.52 0-1.04.2-1.43.59L10.3 9.45l-7.72 7.72c-.78.78-.78 2.05 0 2.83L4 21.41c.39.39.9.59 1.41.59.51 0 1.02-.2 1.41-.59l7.78-7.78 2.81-2.81c.8-.78.8-2.07 0-2.86zM5.41 20L4 18.59l7.72-7.72 1.47 1.35L5.41 20z\"/>\n",
              "  </svg>\n",
              "      </button>\n",
              "      \n",
              "  <style>\n",
              "    .colab-df-container {\n",
              "      display:flex;\n",
              "      flex-wrap:wrap;\n",
              "      gap: 12px;\n",
              "    }\n",
              "\n",
              "    .colab-df-convert {\n",
              "      background-color: #E8F0FE;\n",
              "      border: none;\n",
              "      border-radius: 50%;\n",
              "      cursor: pointer;\n",
              "      display: none;\n",
              "      fill: #1967D2;\n",
              "      height: 32px;\n",
              "      padding: 0 0 0 0;\n",
              "      width: 32px;\n",
              "    }\n",
              "\n",
              "    .colab-df-convert:hover {\n",
              "      background-color: #E2EBFA;\n",
              "      box-shadow: 0px 1px 2px rgba(60, 64, 67, 0.3), 0px 1px 3px 1px rgba(60, 64, 67, 0.15);\n",
              "      fill: #174EA6;\n",
              "    }\n",
              "\n",
              "    [theme=dark] .colab-df-convert {\n",
              "      background-color: #3B4455;\n",
              "      fill: #D2E3FC;\n",
              "    }\n",
              "\n",
              "    [theme=dark] .colab-df-convert:hover {\n",
              "      background-color: #434B5C;\n",
              "      box-shadow: 0px 1px 3px 1px rgba(0, 0, 0, 0.15);\n",
              "      filter: drop-shadow(0px 1px 2px rgba(0, 0, 0, 0.3));\n",
              "      fill: #FFFFFF;\n",
              "    }\n",
              "  </style>\n",
              "\n",
              "      <script>\n",
              "        const buttonEl =\n",
              "          document.querySelector('#df-83dd36a8-34dd-4617-a80a-0bc5dbc1e9d0 button.colab-df-convert');\n",
              "        buttonEl.style.display =\n",
              "          google.colab.kernel.accessAllowed ? 'block' : 'none';\n",
              "\n",
              "        async function convertToInteractive(key) {\n",
              "          const element = document.querySelector('#df-83dd36a8-34dd-4617-a80a-0bc5dbc1e9d0');\n",
              "          const dataTable =\n",
              "            await google.colab.kernel.invokeFunction('convertToInteractive',\n",
              "                                                     [key], {});\n",
              "          if (!dataTable) return;\n",
              "\n",
              "          const docLinkHtml = 'Like what you see? Visit the ' +\n",
              "            '<a target=\"_blank\" href=https://colab.research.google.com/notebooks/data_table.ipynb>data table notebook</a>'\n",
              "            + ' to learn more about interactive tables.';\n",
              "          element.innerHTML = '';\n",
              "          dataTable['output_type'] = 'display_data';\n",
              "          await google.colab.output.renderOutput(dataTable, element);\n",
              "          const docLink = document.createElement('div');\n",
              "          docLink.innerHTML = docLinkHtml;\n",
              "          element.appendChild(docLink);\n",
              "        }\n",
              "      </script>\n",
              "    </div>\n",
              "  </div>\n",
              "  "
            ],
            "text/plain": [
              "   total_bill   tip     sex smoker  day    time  size\n",
              "0       16.99  1.01  Female     No  Sun  Dinner     2\n",
              "1       10.34  1.66    Male     No  Sun  Dinner     3\n",
              "2       21.01  3.50    Male     No  Sun  Dinner     3\n",
              "3       23.68  3.31    Male     No  Sun  Dinner     2\n",
              "4       24.59  3.61  Female     No  Sun  Dinner     4"
            ]
          },
          "metadata": {},
          "execution_count": 77
        }
      ]
    },
    {
      "cell_type": "code",
      "metadata": {
        "id": "b4MPaOqpz1AX",
        "colab": {
          "base_uri": "https://localhost:8080/",
          "height": 421
        },
        "outputId": "8fff795c-ef9b-41c9-b15b-c136af09554e"
      },
      "source": [
        "# hue - Grouping variable that will produce points with different colors\n",
        "ax = sns.scatterplot(x=\"total_bill\", y=\"tip\", hue=\"day\", style=\"time\", data=tips)"
      ],
      "execution_count": null,
      "outputs": [
        {
          "output_type": "display_data",
          "data": {
            "image/png": "[encoded data removed]",
            "text/plain": [
              "<Figure size 432x432 with 1 Axes>"
            ]
          },
          "metadata": {}
        }
      ]
    },
    {
      "cell_type": "code",
      "metadata": {
        "id": "XQ2KXQ_509N_",
        "colab": {
          "base_uri": "https://localhost:8080/",
          "height": 420
        },
        "outputId": "078c414b-e6cc-4137-b088-c8cd079f9591"
      },
      "source": [
        "# Load an example dataset with long-form data\n",
        "fmri = sns.load_dataset(\"fmri\")\n",
        "\n",
        "# Plot the responses for different events and regions\n",
        "sns.lineplot(x=\"timepoint\", y=\"signal\",\n",
        "             hue=\"region\", style=\"event\",\n",
        "             data=fmri);\n",
        "# seaborn automatically defines the average:"
      ],
      "execution_count": null,
      "outputs": [
        {
          "output_type": "display_data",
          "data": {
            "image/png": "[encoded data removed]",
            "text/plain": [
              "<Figure size 432x432 with 1 Axes>"
            ]
          },
          "metadata": {}
        }
      ]
    },
    {
      "cell_type": "markdown",
      "metadata": {
        "id": "C_3ZyuEa1_oj"
      },
      "source": [
        "### Categorical plots"
      ]
    },
    {
      "cell_type": "code",
      "source": [
        "irisdf.head()"
      ],
      "metadata": {
        "colab": {
          "base_uri": "https://localhost:8080/",
          "height": 206
        },
        "id": "rdkAyHoM3Mhc",
        "outputId": "371c26ba-aaac-4909-9ddc-4cb89003147a"
      },
      "execution_count": null,
      "outputs": [
        {
          "output_type": "execute_result",
          "data": {
            "text/html": [
              "\n",
              "  <div id=\"df-39c26414-12ca-4fa5-b402-699b87c6e132\">\n",
              "    <div class=\"colab-df-container\">\n",
              "      <div>\n",
              "<style scoped>\n",
              "    .dataframe tbody tr th:only-of-type {\n",
              "        vertical-align: middle;\n",
              "    }\n",
              "\n",
              "    .dataframe tbody tr th {\n",
              "        vertical-align: top;\n",
              "    }\n",
              "\n",
              "    .dataframe thead th {\n",
              "        text-align: right;\n",
              "    }\n",
              "</style>\n",
              "<table border=\"1\" class=\"dataframe\">\n",
              "  <thead>\n",
              "    <tr style=\"text-align: right;\">\n",
              "      <th></th>\n",
              "      <th>sepal_length</th>\n",
              "      <th>sepal_width</th>\n",
              "      <th>petal_length</th>\n",
              "      <th>petal_width</th>\n",
              "      <th>species</th>\n",
              "      <th>flower</th>\n",
              "    </tr>\n",
              "  </thead>\n",
              "  <tbody>\n",
              "    <tr>\n",
              "      <th>0</th>\n",
              "      <td>5.1</td>\n",
              "      <td>3.5</td>\n",
              "      <td>1.4</td>\n",
              "      <td>0.2</td>\n",
              "      <td>Iris-setosa</td>\n",
              "      <td>big</td>\n",
              "    </tr>\n",
              "    <tr>\n",
              "      <th>1</th>\n",
              "      <td>4.9</td>\n",
              "      <td>3.0</td>\n",
              "      <td>1.4</td>\n",
              "      <td>0.2</td>\n",
              "      <td>Iris-setosa</td>\n",
              "      <td>small</td>\n",
              "    </tr>\n",
              "    <tr>\n",
              "      <th>2</th>\n",
              "      <td>4.7</td>\n",
              "      <td>3.2</td>\n",
              "      <td>1.3</td>\n",
              "      <td>0.2</td>\n",
              "      <td>Iris-setosa</td>\n",
              "      <td>small</td>\n",
              "    </tr>\n",
              "    <tr>\n",
              "      <th>3</th>\n",
              "      <td>4.6</td>\n",
              "      <td>3.1</td>\n",
              "      <td>1.5</td>\n",
              "      <td>0.2</td>\n",
              "      <td>Iris-setosa</td>\n",
              "      <td>small</td>\n",
              "    </tr>\n",
              "    <tr>\n",
              "      <th>4</th>\n",
              "      <td>5.0</td>\n",
              "      <td>3.6</td>\n",
              "      <td>1.4</td>\n",
              "      <td>0.2</td>\n",
              "      <td>Iris-setosa</td>\n",
              "      <td>big</td>\n",
              "    </tr>\n",
              "  </tbody>\n",
              "</table>\n",
              "</div>\n",
              "      <button class=\"colab-df-convert\" onclick=\"convertToInteractive('df-39c26414-12ca-4fa5-b402-699b87c6e132')\"\n",
              "              title=\"Convert this dataframe to an interactive table.\"\n",
              "              style=\"display:none;\">\n",
              "        \n",
              "  <svg xmlns=\"http://www.w3.org/2000/svg\" height=\"24px\"viewBox=\"0 0 24 24\"\n",
              "       width=\"24px\">\n",
              "    <path d=\"M0 0h24v24H0V0z\" fill=\"none\"/>\n",
              "    <path d=\"M18.56 5.44l.94 2.06.94-2.06 2.06-.94-2.06-.94-.94-2.06-.94 2.06-2.06.94zm-11 1L8.5 8.5l.94-2.06 2.06-.94-2.06-.94L8.5 2.5l-.94 2.06-2.06.94zm10 10l.94 2.06.94-2.06 2.06-.94-2.06-.94-.94-2.06-.94 2.06-2.06.94z\"/><path d=\"M17.41 7.96l-1.37-1.37c-.4-.4-.92-.59-1.43-.59-.52 0-1.04.2-1.43.59L10.3 9.45l-7.72 7.72c-.78.78-.78 2.05 0 2.83L4 21.41c.39.39.9.59 1.41.59.51 0 1.02-.2 1.41-.59l7.78-7.78 2.81-2.81c.8-.78.8-2.07 0-2.86zM5.41 20L4 18.59l7.72-7.72 1.47 1.35L5.41 20z\"/>\n",
              "  </svg>\n",
              "      </button>\n",
              "      \n",
              "  <style>\n",
              "    .colab-df-container {\n",
              "      display:flex;\n",
              "      flex-wrap:wrap;\n",
              "      gap: 12px;\n",
              "    }\n",
              "\n",
              "    .colab-df-convert {\n",
              "      background-color: #E8F0FE;\n",
              "      border: none;\n",
              "      border-radius: 50%;\n",
              "      cursor: pointer;\n",
              "      display: none;\n",
              "      fill: #1967D2;\n",
              "      height: 32px;\n",
              "      padding: 0 0 0 0;\n",
              "      width: 32px;\n",
              "    }\n",
              "\n",
              "    .colab-df-convert:hover {\n",
              "      background-color: #E2EBFA;\n",
              "      box-shadow: 0px 1px 2px rgba(60, 64, 67, 0.3), 0px 1px 3px 1px rgba(60, 64, 67, 0.15);\n",
              "      fill: #174EA6;\n",
              "    }\n",
              "\n",
              "    [theme=dark] .colab-df-convert {\n",
              "      background-color: #3B4455;\n",
              "      fill: #D2E3FC;\n",
              "    }\n",
              "\n",
              "    [theme=dark] .colab-df-convert:hover {\n",
              "      background-color: #434B5C;\n",
              "      box-shadow: 0px 1px 3px 1px rgba(0, 0, 0, 0.15);\n",
              "      filter: drop-shadow(0px 1px 2px rgba(0, 0, 0, 0.3));\n",
              "      fill: #FFFFFF;\n",
              "    }\n",
              "  </style>\n",
              "\n",
              "      <script>\n",
              "        const buttonEl =\n",
              "          document.querySelector('#df-39c26414-12ca-4fa5-b402-699b87c6e132 button.colab-df-convert');\n",
              "        buttonEl.style.display =\n",
              "          google.colab.kernel.accessAllowed ? 'block' : 'none';\n",
              "\n",
              "        async function convertToInteractive(key) {\n",
              "          const element = document.querySelector('#df-39c26414-12ca-4fa5-b402-699b87c6e132');\n",
              "          const dataTable =\n",
              "            await google.colab.kernel.invokeFunction('convertToInteractive',\n",
              "                                                     [key], {});\n",
              "          if (!dataTable) return;\n",
              "\n",
              "          const docLinkHtml = 'Like what you see? Visit the ' +\n",
              "            '<a target=\"_blank\" href=https://colab.research.google.com/notebooks/data_table.ipynb>data table notebook</a>'\n",
              "            + ' to learn more about interactive tables.';\n",
              "          element.innerHTML = '';\n",
              "          dataTable['output_type'] = 'display_data';\n",
              "          await google.colab.output.renderOutput(dataTable, element);\n",
              "          const docLink = document.createElement('div');\n",
              "          docLink.innerHTML = docLinkHtml;\n",
              "          element.appendChild(docLink);\n",
              "        }\n",
              "      </script>\n",
              "    </div>\n",
              "  </div>\n",
              "  "
            ],
            "text/plain": [
              "   sepal_length  sepal_width  petal_length  petal_width      species flower\n",
              "0           5.1          3.5           1.4          0.2  Iris-setosa    big\n",
              "1           4.9          3.0           1.4          0.2  Iris-setosa  small\n",
              "2           4.7          3.2           1.3          0.2  Iris-setosa  small\n",
              "3           4.6          3.1           1.5          0.2  Iris-setosa  small\n",
              "4           5.0          3.6           1.4          0.2  Iris-setosa    big"
            ]
          },
          "metadata": {},
          "execution_count": 80
        }
      ]
    },
    {
      "cell_type": "code",
      "metadata": {
        "id": "HQz-M84n2nCV",
        "colab": {
          "base_uri": "https://localhost:8080/",
          "height": 361
        },
        "outputId": "765c2123-450f-476c-d2f8-f6a2a39190c9"
      },
      "source": [
        "sns.catplot(x=\"species\", y=\"sepal_length\", hue=\"flower\", aspect=1.5, data=irisdf);"
      ],
      "execution_count": null,
      "outputs": [
        {
          "output_type": "display_data",
          "data": {
            "image/png": "[encoded data removed]",
            "text/plain": [
              "<Figure size 628.025x360 with 1 Axes>"
            ]
          },
          "metadata": {}
        }
      ]
    },
    {
      "cell_type": "markdown",
      "metadata": {
        "id": "G5dC6pyxfyOM"
      },
      "source": [
        "## Heatmap"
      ]
    },
    {
      "cell_type": "markdown",
      "metadata": {
        "id": "3-Uws67-f0Xb"
      },
      "source": [
        "A heat map(or heatmap) is a graphical representation of data where the individual values contained in a matrix are represented as colors. It is really useful to display a general view of numerical data,not to extract specific data point. "
      ]
    },
    {
      "cell_type": "code",
      "metadata": {
        "id": "_kz285wQfz2h",
        "colab": {
          "base_uri": "https://localhost:8080/",
          "height": 385
        },
        "outputId": "5d1ac91c-8c4e-4541-c06b-7c37d4abf3c1"
      },
      "source": [
        "# First let's create dataframe to use\n",
        "teams = pd.Series(['Team {}'.format(team_idx) for team_idx in range(1, 21)], name='Team')\n",
        "metrics = pd.Series(['Metric {}'.format(metric_idx) for metric_idx in range(1,16)], name='Metric')\n",
        "\n",
        "team_metrics = pd.DataFrame(abs(np.random.randn(teams.size, metrics.size)), index=teams, columns=metrics)\n",
        "team_metrics.head()"
      ],
      "execution_count": null,
      "outputs": [
        {
          "output_type": "execute_result",
          "data": {
            "text/html": [
              "\n",
              "  <div id=\"df-a9fe2080-e9e2-45b0-8e13-91636a42d10b\">\n",
              "    <div class=\"colab-df-container\">\n",
              "      <div>\n",
              "<style scoped>\n",
              "    .dataframe tbody tr th:only-of-type {\n",
              "        vertical-align: middle;\n",
              "    }\n",
              "\n",
              "    .dataframe tbody tr th {\n",
              "        vertical-align: top;\n",
              "    }\n",
              "\n",
              "    .dataframe thead th {\n",
              "        text-align: right;\n",
              "    }\n",
              "</style>\n",
              "<table border=\"1\" class=\"dataframe\">\n",
              "  <thead>\n",
              "    <tr style=\"text-align: right;\">\n",
              "      <th>Metric</th>\n",
              "      <th>Metric 1</th>\n",
              "      <th>Metric 2</th>\n",
              "      <th>Metric 3</th>\n",
              "      <th>Metric 4</th>\n",
              "      <th>Metric 5</th>\n",
              "      <th>Metric 6</th>\n",
              "      <th>Metric 7</th>\n",
              "      <th>Metric 8</th>\n",
              "      <th>Metric 9</th>\n",
              "      <th>Metric 10</th>\n",
              "      <th>Metric 11</th>\n",
              "      <th>Metric 12</th>\n",
              "      <th>Metric 13</th>\n",
              "      <th>Metric 14</th>\n",
              "      <th>Metric 15</th>\n",
              "    </tr>\n",
              "    <tr>\n",
              "      <th>Team</th>\n",
              "      <th></th>\n",
              "      <th></th>\n",
              "      <th></th>\n",
              "      <th></th>\n",
              "      <th></th>\n",
              "      <th></th>\n",
              "      <th></th>\n",
              "      <th></th>\n",
              "      <th></th>\n",
              "      <th></th>\n",
              "      <th></th>\n",
              "      <th></th>\n",
              "      <th></th>\n",
              "      <th></th>\n",
              "      <th></th>\n",
              "    </tr>\n",
              "  </thead>\n",
              "  <tbody>\n",
              "    <tr>\n",
              "      <th>Team 1</th>\n",
              "      <td>0.423491</td>\n",
              "      <td>0.624292</td>\n",
              "      <td>0.545181</td>\n",
              "      <td>1.000535</td>\n",
              "      <td>0.736917</td>\n",
              "      <td>1.602829</td>\n",
              "      <td>0.669936</td>\n",
              "      <td>1.164591</td>\n",
              "      <td>0.365632</td>\n",
              "      <td>0.411059</td>\n",
              "      <td>1.097984</td>\n",
              "      <td>0.432585</td>\n",
              "      <td>1.318749</td>\n",
              "      <td>0.421784</td>\n",
              "      <td>0.611561</td>\n",
              "    </tr>\n",
              "    <tr>\n",
              "      <th>Team 2</th>\n",
              "      <td>0.280865</td>\n",
              "      <td>0.231483</td>\n",
              "      <td>1.061937</td>\n",
              "      <td>1.203317</td>\n",
              "      <td>0.059047</td>\n",
              "      <td>0.890572</td>\n",
              "      <td>0.109823</td>\n",
              "      <td>0.851945</td>\n",
              "      <td>0.070089</td>\n",
              "      <td>0.207194</td>\n",
              "      <td>1.596972</td>\n",
              "      <td>0.285214</td>\n",
              "      <td>0.150871</td>\n",
              "      <td>0.458383</td>\n",
              "      <td>0.596132</td>\n",
              "    </tr>\n",
              "    <tr>\n",
              "      <th>Team 3</th>\n",
              "      <td>1.428122</td>\n",
              "      <td>0.519598</td>\n",
              "      <td>0.010782</td>\n",
              "      <td>0.943423</td>\n",
              "      <td>2.843275</td>\n",
              "      <td>0.969645</td>\n",
              "      <td>0.713716</td>\n",
              "      <td>0.112900</td>\n",
              "      <td>1.204288</td>\n",
              "      <td>0.499475</td>\n",
              "      <td>0.828125</td>\n",
              "      <td>0.067268</td>\n",
              "      <td>0.673041</td>\n",
              "      <td>0.856934</td>\n",
              "      <td>1.068163</td>\n",
              "    </tr>\n",
              "    <tr>\n",
              "      <th>Team 4</th>\n",
              "      <td>0.158348</td>\n",
              "      <td>1.326045</td>\n",
              "      <td>0.170683</td>\n",
              "      <td>0.542694</td>\n",
              "      <td>2.025919</td>\n",
              "      <td>0.295379</td>\n",
              "      <td>1.732923</td>\n",
              "      <td>1.656175</td>\n",
              "      <td>0.787328</td>\n",
              "      <td>0.086409</td>\n",
              "      <td>0.140677</td>\n",
              "      <td>0.184703</td>\n",
              "      <td>0.242221</td>\n",
              "      <td>0.027039</td>\n",
              "      <td>0.230365</td>\n",
              "    </tr>\n",
              "    <tr>\n",
              "      <th>Team 5</th>\n",
              "      <td>1.555047</td>\n",
              "      <td>1.602953</td>\n",
              "      <td>0.669289</td>\n",
              "      <td>0.351400</td>\n",
              "      <td>1.294619</td>\n",
              "      <td>0.511135</td>\n",
              "      <td>1.823388</td>\n",
              "      <td>0.471471</td>\n",
              "      <td>1.138064</td>\n",
              "      <td>1.198067</td>\n",
              "      <td>0.434793</td>\n",
              "      <td>0.506763</td>\n",
              "      <td>0.365424</td>\n",
              "      <td>0.071213</td>\n",
              "      <td>0.584391</td>\n",
              "    </tr>\n",
              "  </tbody>\n",
              "</table>\n",
              "</div>\n",
              "      <button class=\"colab-df-convert\" onclick=\"convertToInteractive('df-a9fe2080-e9e2-45b0-8e13-91636a42d10b')\"\n",
              "              title=\"Convert this dataframe to an interactive table.\"\n",
              "              style=\"display:none;\">\n",
              "        \n",
              "  <svg xmlns=\"http://www.w3.org/2000/svg\" height=\"24px\"viewBox=\"0 0 24 24\"\n",
              "       width=\"24px\">\n",
              "    <path d=\"M0 0h24v24H0V0z\" fill=\"none\"/>\n",
              "    <path d=\"M18.56 5.44l.94 2.06.94-2.06 2.06-.94-2.06-.94-.94-2.06-.94 2.06-2.06.94zm-11 1L8.5 8.5l.94-2.06 2.06-.94-2.06-.94L8.5 2.5l-.94 2.06-2.06.94zm10 10l.94 2.06.94-2.06 2.06-.94-2.06-.94-.94-2.06-.94 2.06-2.06.94z\"/><path d=\"M17.41 7.96l-1.37-1.37c-.4-.4-.92-.59-1.43-.59-.52 0-1.04.2-1.43.59L10.3 9.45l-7.72 7.72c-.78.78-.78 2.05 0 2.83L4 21.41c.39.39.9.59 1.41.59.51 0 1.02-.2 1.41-.59l7.78-7.78 2.81-2.81c.8-.78.8-2.07 0-2.86zM5.41 20L4 18.59l7.72-7.72 1.47 1.35L5.41 20z\"/>\n",
              "  </svg>\n",
              "      </button>\n",
              "      \n",
              "  <style>\n",
              "    .colab-df-container {\n",
              "      display:flex;\n",
              "      flex-wrap:wrap;\n",
              "      gap: 12px;\n",
              "    }\n",
              "\n",
              "    .colab-df-convert {\n",
              "      background-color: #E8F0FE;\n",
              "      border: none;\n",
              "      border-radius: 50%;\n",
              "      cursor: pointer;\n",
              "      display: none;\n",
              "      fill: #1967D2;\n",
              "      height: 32px;\n",
              "      padding: 0 0 0 0;\n",
              "      width: 32px;\n",
              "    }\n",
              "\n",
              "    .colab-df-convert:hover {\n",
              "      background-color: #E2EBFA;\n",
              "      box-shadow: 0px 1px 2px rgba(60, 64, 67, 0.3), 0px 1px 3px 1px rgba(60, 64, 67, 0.15);\n",
              "      fill: #174EA6;\n",
              "    }\n",
              "\n",
              "    [theme=dark] .colab-df-convert {\n",
              "      background-color: #3B4455;\n",
              "      fill: #D2E3FC;\n",
              "    }\n",
              "\n",
              "    [theme=dark] .colab-df-convert:hover {\n",
              "      background-color: #434B5C;\n",
              "      box-shadow: 0px 1px 3px 1px rgba(0, 0, 0, 0.15);\n",
              "      filter: drop-shadow(0px 1px 2px rgba(0, 0, 0, 0.3));\n",
              "      fill: #FFFFFF;\n",
              "    }\n",
              "  </style>\n",
              "\n",
              "      <script>\n",
              "        const buttonEl =\n",
              "          document.querySelector('#df-a9fe2080-e9e2-45b0-8e13-91636a42d10b button.colab-df-convert');\n",
              "        buttonEl.style.display =\n",
              "          google.colab.kernel.accessAllowed ? 'block' : 'none';\n",
              "\n",
              "        async function convertToInteractive(key) {\n",
              "          const element = document.querySelector('#df-a9fe2080-e9e2-45b0-8e13-91636a42d10b');\n",
              "          const dataTable =\n",
              "            await google.colab.kernel.invokeFunction('convertToInteractive',\n",
              "                                                     [key], {});\n",
              "          if (!dataTable) return;\n",
              "\n",
              "          const docLinkHtml = 'Like what you see? Visit the ' +\n",
              "            '<a target=\"_blank\" href=https://colab.research.google.com/notebooks/data_table.ipynb>data table notebook</a>'\n",
              "            + ' to learn more about interactive tables.';\n",
              "          element.innerHTML = '';\n",
              "          dataTable['output_type'] = 'display_data';\n",
              "          await google.colab.output.renderOutput(dataTable, element);\n",
              "          const docLink = document.createElement('div');\n",
              "          docLink.innerHTML = docLinkHtml;\n",
              "          element.appendChild(docLink);\n",
              "        }\n",
              "      </script>\n",
              "    </div>\n",
              "  </div>\n",
              "  "
            ],
            "text/plain": [
              "Metric  Metric 1  Metric 2  Metric 3  ...  Metric 13  Metric 14  Metric 15\n",
              "Team                                  ...                                 \n",
              "Team 1  0.423491  0.624292  0.545181  ...   1.318749   0.421784   0.611561\n",
              "Team 2  0.280865  0.231483  1.061937  ...   0.150871   0.458383   0.596132\n",
              "Team 3  1.428122  0.519598  0.010782  ...   0.673041   0.856934   1.068163\n",
              "Team 4  0.158348  1.326045  0.170683  ...   0.242221   0.027039   0.230365\n",
              "Team 5  1.555047  1.602953  0.669289  ...   0.365424   0.071213   0.584391\n",
              "\n",
              "[5 rows x 15 columns]"
            ]
          },
          "metadata": {},
          "execution_count": 82
        }
      ]
    },
    {
      "cell_type": "code",
      "metadata": {
        "id": "f5Ru6yvAf3FC",
        "colab": {
          "base_uri": "https://localhost:8080/",
          "height": 475
        },
        "outputId": "11e932fb-e459-42ac-8403-c11d1d4617ad"
      },
      "source": [
        "fig,ax = plt.subplots(figsize=(8,6))\n",
        "# It is easy to use seaborn to plot heatmaps\n",
        "sns.heatmap(team_metrics, ax=ax);"
      ],
      "execution_count": null,
      "outputs": [
        {
          "output_type": "display_data",
          "data": {
            "image/png": "[encoded data removed]",
            "text/plain": [
              "<Figure size 576x432 with 2 Axes>"
            ]
          },
          "metadata": {}
        }
      ]
    },
    {
      "cell_type": "code",
      "metadata": {
        "colab": {
          "base_uri": "https://localhost:8080/",
          "height": 269
        },
        "id": "KPSyakW7ptKi",
        "outputId": "b286498c-6c1f-4ea5-b71c-66ddf341b13e"
      },
      "source": [
        "movies_df.corr()"
      ],
      "execution_count": null,
      "outputs": [
        {
          "output_type": "execute_result",
          "data": {
            "text/html": [
              "\n",
              "  <div id=\"df-3fa8b1e4-6203-4694-95ed-0db66bc7c6a1\">\n",
              "    <div class=\"colab-df-container\">\n",
              "      <div>\n",
              "<style scoped>\n",
              "    .dataframe tbody tr th:only-of-type {\n",
              "        vertical-align: middle;\n",
              "    }\n",
              "\n",
              "    .dataframe tbody tr th {\n",
              "        vertical-align: top;\n",
              "    }\n",
              "\n",
              "    .dataframe thead th {\n",
              "        text-align: right;\n",
              "    }\n",
              "</style>\n",
              "<table border=\"1\" class=\"dataframe\">\n",
              "  <thead>\n",
              "    <tr style=\"text-align: right;\">\n",
              "      <th></th>\n",
              "      <th>Rank</th>\n",
              "      <th>Year</th>\n",
              "      <th>Runtime (Minutes)</th>\n",
              "      <th>Rating</th>\n",
              "      <th>Votes</th>\n",
              "      <th>Revenue (Millions)</th>\n",
              "      <th>Metascore</th>\n",
              "    </tr>\n",
              "  </thead>\n",
              "  <tbody>\n",
              "    <tr>\n",
              "      <th>Rank</th>\n",
              "      <td>1.000000</td>\n",
              "      <td>-0.261605</td>\n",
              "      <td>-0.221739</td>\n",
              "      <td>-0.219555</td>\n",
              "      <td>-0.283876</td>\n",
              "      <td>-0.271592</td>\n",
              "      <td>-0.191869</td>\n",
              "    </tr>\n",
              "    <tr>\n",
              "      <th>Year</th>\n",
              "      <td>-0.261605</td>\n",
              "      <td>1.000000</td>\n",
              "      <td>-0.164900</td>\n",
              "      <td>-0.211219</td>\n",
              "      <td>-0.411904</td>\n",
              "      <td>-0.126790</td>\n",
              "      <td>-0.079305</td>\n",
              "    </tr>\n",
              "    <tr>\n",
              "      <th>Runtime (Minutes)</th>\n",
              "      <td>-0.221739</td>\n",
              "      <td>-0.164900</td>\n",
              "      <td>1.000000</td>\n",
              "      <td>0.392214</td>\n",
              "      <td>0.407062</td>\n",
              "      <td>0.267953</td>\n",
              "      <td>0.211978</td>\n",
              "    </tr>\n",
              "    <tr>\n",
              "      <th>Rating</th>\n",
              "      <td>-0.219555</td>\n",
              "      <td>-0.211219</td>\n",
              "      <td>0.392214</td>\n",
              "      <td>1.000000</td>\n",
              "      <td>0.511537</td>\n",
              "      <td>0.217654</td>\n",
              "      <td>0.631897</td>\n",
              "    </tr>\n",
              "    <tr>\n",
              "      <th>Votes</th>\n",
              "      <td>-0.283876</td>\n",
              "      <td>-0.411904</td>\n",
              "      <td>0.407062</td>\n",
              "      <td>0.511537</td>\n",
              "      <td>1.000000</td>\n",
              "      <td>0.639661</td>\n",
              "      <td>0.325684</td>\n",
              "    </tr>\n",
              "    <tr>\n",
              "      <th>Revenue (Millions)</th>\n",
              "      <td>-0.271592</td>\n",
              "      <td>-0.126790</td>\n",
              "      <td>0.267953</td>\n",
              "      <td>0.217654</td>\n",
              "      <td>0.639661</td>\n",
              "      <td>1.000000</td>\n",
              "      <td>0.142397</td>\n",
              "    </tr>\n",
              "    <tr>\n",
              "      <th>Metascore</th>\n",
              "      <td>-0.191869</td>\n",
              "      <td>-0.079305</td>\n",
              "      <td>0.211978</td>\n",
              "      <td>0.631897</td>\n",
              "      <td>0.325684</td>\n",
              "      <td>0.142397</td>\n",
              "      <td>1.000000</td>\n",
              "    </tr>\n",
              "  </tbody>\n",
              "</table>\n",
              "</div>\n",
              "      <button class=\"colab-df-convert\" onclick=\"convertToInteractive('df-3fa8b1e4-6203-4694-95ed-0db66bc7c6a1')\"\n",
              "              title=\"Convert this dataframe to an interactive table.\"\n",
              "              style=\"display:none;\">\n",
              "        \n",
              "  <svg xmlns=\"http://www.w3.org/2000/svg\" height=\"24px\"viewBox=\"0 0 24 24\"\n",
              "       width=\"24px\">\n",
              "    <path d=\"M0 0h24v24H0V0z\" fill=\"none\"/>\n",
              "    <path d=\"M18.56 5.44l.94 2.06.94-2.06 2.06-.94-2.06-.94-.94-2.06-.94 2.06-2.06.94zm-11 1L8.5 8.5l.94-2.06 2.06-.94-2.06-.94L8.5 2.5l-.94 2.06-2.06.94zm10 10l.94 2.06.94-2.06 2.06-.94-2.06-.94-.94-2.06-.94 2.06-2.06.94z\"/><path d=\"M17.41 7.96l-1.37-1.37c-.4-.4-.92-.59-1.43-.59-.52 0-1.04.2-1.43.59L10.3 9.45l-7.72 7.72c-.78.78-.78 2.05 0 2.83L4 21.41c.39.39.9.59 1.41.59.51 0 1.02-.2 1.41-.59l7.78-7.78 2.81-2.81c.8-.78.8-2.07 0-2.86zM5.41 20L4 18.59l7.72-7.72 1.47 1.35L5.41 20z\"/>\n",
              "  </svg>\n",
              "      </button>\n",
              "      \n",
              "  <style>\n",
              "    .colab-df-container {\n",
              "      display:flex;\n",
              "      flex-wrap:wrap;\n",
              "      gap: 12px;\n",
              "    }\n",
              "\n",
              "    .colab-df-convert {\n",
              "      background-color: #E8F0FE;\n",
              "      border: none;\n",
              "      border-radius: 50%;\n",
              "      cursor: pointer;\n",
              "      display: none;\n",
              "      fill: #1967D2;\n",
              "      height: 32px;\n",
              "      padding: 0 0 0 0;\n",
              "      width: 32px;\n",
              "    }\n",
              "\n",
              "    .colab-df-convert:hover {\n",
              "      background-color: #E2EBFA;\n",
              "      box-shadow: 0px 1px 2px rgba(60, 64, 67, 0.3), 0px 1px 3px 1px rgba(60, 64, 67, 0.15);\n",
              "      fill: #174EA6;\n",
              "    }\n",
              "\n",
              "    [theme=dark] .colab-df-convert {\n",
              "      background-color: #3B4455;\n",
              "      fill: #D2E3FC;\n",
              "    }\n",
              "\n",
              "    [theme=dark] .colab-df-convert:hover {\n",
              "      background-color: #434B5C;\n",
              "      box-shadow: 0px 1px 3px 1px rgba(0, 0, 0, 0.15);\n",
              "      filter: drop-shadow(0px 1px 2px rgba(0, 0, 0, 0.3));\n",
              "      fill: #FFFFFF;\n",
              "    }\n",
              "  </style>\n",
              "\n",
              "      <script>\n",
              "        const buttonEl =\n",
              "          document.querySelector('#df-3fa8b1e4-6203-4694-95ed-0db66bc7c6a1 button.colab-df-convert');\n",
              "        buttonEl.style.display =\n",
              "          google.colab.kernel.accessAllowed ? 'block' : 'none';\n",
              "\n",
              "        async function convertToInteractive(key) {\n",
              "          const element = document.querySelector('#df-3fa8b1e4-6203-4694-95ed-0db66bc7c6a1');\n",
              "          const dataTable =\n",
              "            await google.colab.kernel.invokeFunction('convertToInteractive',\n",
              "                                                     [key], {});\n",
              "          if (!dataTable) return;\n",
              "\n",
              "          const docLinkHtml = 'Like what you see? Visit the ' +\n",
              "            '<a target=\"_blank\" href=https://colab.research.google.com/notebooks/data_table.ipynb>data table notebook</a>'\n",
              "            + ' to learn more about interactive tables.';\n",
              "          element.innerHTML = '';\n",
              "          dataTable['output_type'] = 'display_data';\n",
              "          await google.colab.output.renderOutput(dataTable, element);\n",
              "          const docLink = document.createElement('div');\n",
              "          docLink.innerHTML = docLinkHtml;\n",
              "          element.appendChild(docLink);\n",
              "        }\n",
              "      </script>\n",
              "    </div>\n",
              "  </div>\n",
              "  "
            ],
            "text/plain": [
              "                        Rank      Year  ...  Revenue (Millions)  Metascore\n",
              "Rank                1.000000 -0.261605  ...           -0.271592  -0.191869\n",
              "Year               -0.261605  1.000000  ...           -0.126790  -0.079305\n",
              "Runtime (Minutes)  -0.221739 -0.164900  ...            0.267953   0.211978\n",
              "Rating             -0.219555 -0.211219  ...            0.217654   0.631897\n",
              "Votes              -0.283876 -0.411904  ...            0.639661   0.325684\n",
              "Revenue (Millions) -0.271592 -0.126790  ...            1.000000   0.142397\n",
              "Metascore          -0.191869 -0.079305  ...            0.142397   1.000000\n",
              "\n",
              "[7 rows x 7 columns]"
            ]
          },
          "metadata": {},
          "execution_count": 86
        }
      ]
    },
    {
      "cell_type": "code",
      "metadata": {
        "colab": {
          "base_uri": "https://localhost:8080/",
          "height": 537
        },
        "id": "EpOdPeiRpoIc",
        "outputId": "0e97b4b7-ec35-4ff7-f0eb-1a663fa064a6"
      },
      "source": [
        "sns.heatmap(movies_df.corr())"
      ],
      "execution_count": null,
      "outputs": [
        {
          "output_type": "execute_result",
          "data": {
            "text/plain": [
              "<matplotlib.axes._subplots.AxesSubplot at 0x7eff381d6550>"
            ]
          },
          "metadata": {},
          "execution_count": 87
        },
        {
          "output_type": "display_data",
          "data": {
            "image/png": "[encoded data removed]",
            "text/plain": [
              "<Figure size 432x432 with 2 Axes>"
            ]
          },
          "metadata": {}
        }
      ]
    },
    {
      "cell_type": "markdown",
      "metadata": {
        "id": "ZH8q0sG-q4gX"
      },
      "source": [
        "###Plot styles:\n",
        "\n",
        "https://problemsolvingwithpython.com/06-Plotting-with-Matplotlib/06.13-Plot-Styles/\n",
        "\n",
        "\n",
        "https://www.datanovia.com/en/blog/ggplot-theme-background-color-and-grids/"
      ]
    }
  ]
}